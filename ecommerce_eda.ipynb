{
 "cells": [
  {
   "cell_type": "markdown",
   "metadata": {},
   "source": [
    "## Exploratory Data Analysis"
   ]
  },
  {
   "cell_type": "code",
   "execution_count": 1,
   "metadata": {
    "pycharm": {
     "is_executing": false
    }
   },
   "outputs": [],
   "source": [
    "# Import necessary packages\n",
    "import numpy as np\n",
    "import pandas as pd\n",
    "import matplotlib.pyplot as plt\n",
    "import seaborn as sns\n",
    "%matplotlib inline"
   ]
  },
  {
   "cell_type": "code",
   "execution_count": 2,
   "metadata": {
    "pycharm": {
     "is_executing": false
    }
   },
   "outputs": [],
   "source": [
    "df = pd.read_csv('data/2019-Oct.csv')"
   ]
  },
  {
   "cell_type": "code",
   "execution_count": 3,
   "metadata": {
    "pycharm": {
     "is_executing": false
    }
   },
   "outputs": [
    {
     "data": {
      "text/plain": "(4102283, 9)"
     },
     "metadata": {},
     "output_type": "execute_result",
     "execution_count": 3
    }
   ],
   "source": [
    "df.shape"
   ]
  },
  {
   "cell_type": "code",
   "execution_count": 4,
   "metadata": {
    "pycharm": {
     "is_executing": false
    }
   },
   "outputs": [
    {
     "data": {
      "text/plain": "                event_time event_type  product_id          category_id  \\\n0  2019-10-01 00:00:00 UTC       cart     5773203  1487580005134238553   \n1  2019-10-01 00:00:03 UTC       cart     5773353  1487580005134238553   \n2  2019-10-01 00:00:07 UTC       cart     5881589  2151191071051219817   \n3  2019-10-01 00:00:07 UTC       cart     5723490  1487580005134238553   \n4  2019-10-01 00:00:15 UTC       cart     5881449  1487580013522845895   \n\n  category_code   brand  price    user_id  \\\n0           NaN  runail   2.62  463240011   \n1           NaN  runail   2.62  463240011   \n2           NaN  lovely  13.48  429681830   \n3           NaN  runail   2.62  463240011   \n4           NaN  lovely   0.56  429681830   \n\n                           user_session  \n0  26dd6e6e-4dac-4778-8d2c-92e149dab885  \n1  26dd6e6e-4dac-4778-8d2c-92e149dab885  \n2  49e8d843-adf3-428b-a2c3-fe8bc6a307c9  \n3  26dd6e6e-4dac-4778-8d2c-92e149dab885  \n4  49e8d843-adf3-428b-a2c3-fe8bc6a307c9  ",
      "text/html": "<div>\n<style scoped>\n    .dataframe tbody tr th:only-of-type {\n        vertical-align: middle;\n    }\n\n    .dataframe tbody tr th {\n        vertical-align: top;\n    }\n\n    .dataframe thead th {\n        text-align: right;\n    }\n</style>\n<table border=\"1\" class=\"dataframe\">\n  <thead>\n    <tr style=\"text-align: right;\">\n      <th></th>\n      <th>event_time</th>\n      <th>event_type</th>\n      <th>product_id</th>\n      <th>category_id</th>\n      <th>category_code</th>\n      <th>brand</th>\n      <th>price</th>\n      <th>user_id</th>\n      <th>user_session</th>\n    </tr>\n  </thead>\n  <tbody>\n    <tr>\n      <th>0</th>\n      <td>2019-10-01 00:00:00 UTC</td>\n      <td>cart</td>\n      <td>5773203</td>\n      <td>1487580005134238553</td>\n      <td>NaN</td>\n      <td>runail</td>\n      <td>2.62</td>\n      <td>463240011</td>\n      <td>26dd6e6e-4dac-4778-8d2c-92e149dab885</td>\n    </tr>\n    <tr>\n      <th>1</th>\n      <td>2019-10-01 00:00:03 UTC</td>\n      <td>cart</td>\n      <td>5773353</td>\n      <td>1487580005134238553</td>\n      <td>NaN</td>\n      <td>runail</td>\n      <td>2.62</td>\n      <td>463240011</td>\n      <td>26dd6e6e-4dac-4778-8d2c-92e149dab885</td>\n    </tr>\n    <tr>\n      <th>2</th>\n      <td>2019-10-01 00:00:07 UTC</td>\n      <td>cart</td>\n      <td>5881589</td>\n      <td>2151191071051219817</td>\n      <td>NaN</td>\n      <td>lovely</td>\n      <td>13.48</td>\n      <td>429681830</td>\n      <td>49e8d843-adf3-428b-a2c3-fe8bc6a307c9</td>\n    </tr>\n    <tr>\n      <th>3</th>\n      <td>2019-10-01 00:00:07 UTC</td>\n      <td>cart</td>\n      <td>5723490</td>\n      <td>1487580005134238553</td>\n      <td>NaN</td>\n      <td>runail</td>\n      <td>2.62</td>\n      <td>463240011</td>\n      <td>26dd6e6e-4dac-4778-8d2c-92e149dab885</td>\n    </tr>\n    <tr>\n      <th>4</th>\n      <td>2019-10-01 00:00:15 UTC</td>\n      <td>cart</td>\n      <td>5881449</td>\n      <td>1487580013522845895</td>\n      <td>NaN</td>\n      <td>lovely</td>\n      <td>0.56</td>\n      <td>429681830</td>\n      <td>49e8d843-adf3-428b-a2c3-fe8bc6a307c9</td>\n    </tr>\n  </tbody>\n</table>\n</div>"
     },
     "metadata": {},
     "output_type": "execute_result",
     "execution_count": 4
    }
   ],
   "source": [
    "df.head()"
   ]
  },
  {
   "cell_type": "code",
   "execution_count": 5,
   "metadata": {
    "pycharm": {
     "is_executing": false
    }
   },
   "outputs": [
    {
     "data": {
      "text/plain": "399664"
     },
     "metadata": {},
     "output_type": "execute_result",
     "execution_count": 5
    }
   ],
   "source": [
    "len(df.user_id.unique())"
   ]
  },
  {
   "cell_type": "code",
   "execution_count": 6,
   "metadata": {
    "pycharm": {
     "is_executing": false
    }
   },
   "outputs": [
    {
     "data": {
      "text/plain": "array(['cart', 'view', 'remove_from_cart', 'purchase'], dtype=object)"
     },
     "metadata": {},
     "output_type": "execute_result",
     "execution_count": 6
    }
   ],
   "source": [
    "df.event_type.unique()"
   ]
  },
  {
   "cell_type": "code",
   "execution_count": 7,
   "metadata": {
    "pycharm": {
     "is_executing": false
    }
   },
   "outputs": [
    {
     "data": {
      "text/plain": "41899"
     },
     "metadata": {},
     "output_type": "execute_result",
     "execution_count": 7
    }
   ],
   "source": [
    "len(df.product_id.unique())"
   ]
  },
  {
   "cell_type": "code",
   "execution_count": 8,
   "metadata": {
    "pycharm": {
     "is_executing": false
    }
   },
   "outputs": [
    {
     "data": {
      "text/plain": "appliances.environment.vacuum             27732\nstationery.cartrige                       13459\napparel.glove                              7430\nfurniture.living_room.cabinet              6234\naccessories.bag                            5848\nfurniture.bathroom.bath                    5018\nappliances.personal.hair_cutter             828\naccessories.cosmetic_bag                    642\nappliances.environment.air_conditioner      161\nfurniture.living_room.chair                 123\nsport.diving                                  2\nName: category_code, dtype: int64"
     },
     "metadata": {},
     "output_type": "execute_result",
     "execution_count": 8
    }
   ],
   "source": [
    "df.category_code.value_counts()"
   ]
  },
  {
   "cell_type": "code",
   "execution_count": 9,
   "metadata": {
    "pycharm": {
     "is_executing": false
    }
   },
   "outputs": [
    {
     "data": {
      "text/plain": "4034806"
     },
     "metadata": {},
     "output_type": "execute_result",
     "execution_count": 9
    }
   ],
   "source": [
    "sum(df.category_code.isna())"
   ]
  },
  {
   "cell_type": "code",
   "execution_count": 10,
   "metadata": {
    "pycharm": {
     "is_executing": false
    }
   },
   "outputs": [
    {
     "data": {
      "text/plain": "event_time        object\nevent_type        object\nproduct_id         int64\ncategory_id        int64\ncategory_code     object\nbrand             object\nprice            float64\nuser_id            int64\nuser_session      object\ndtype: object"
     },
     "metadata": {},
     "output_type": "execute_result",
     "execution_count": 10
    }
   ],
   "source": [
    "df.dtypes"
   ]
  },
  {
   "cell_type": "code",
   "execution_count": 10,
   "metadata": {
    "pycharm": {
     "is_executing": false
    }
   },
   "outputs": [],
   "source": []
  }
 ],
 "metadata": {
  "kernelspec": {
   "display_name": "Python [conda env:metis] *",
   "language": "python",
   "name": "conda-env-metis-py"
  },
  "language_info": {
   "codemirror_mode": {
    "name": "ipython",
    "version": 3
   },
   "file_extension": ".py",
   "mimetype": "text/x-python",
   "name": "python",
   "nbconvert_exporter": "python",
   "pygments_lexer": "ipython3",
   "version": "3.7.4"
  },
  "pycharm": {
   "stem_cell": {
    "cell_type": "raw",
    "source": [],
    "metadata": {
     "collapsed": false
    }
   }
  }
 },
 "nbformat": 4,
 "nbformat_minor": 4
}