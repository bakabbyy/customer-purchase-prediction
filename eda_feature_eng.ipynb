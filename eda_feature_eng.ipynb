{
 "cells": [
  {
   "cell_type": "markdown",
   "metadata": {
    "toc-hr-collapsed": false
   },
   "source": [
    "# Exploratory Data Analysis & Feature Engineering"
   ]
  },
  {
   "cell_type": "markdown",
   "metadata": {},
   "source": [
    "## Table of Contents\n",
    "<ul>\n",
    "<li><a href=\"#intro\">Introduction</a></li>\n",
    "<li><a href=\"#cleaning\">Data Cleaning & Pre-Processing</a></li>\n",
    "<li><a href=\"#feature\">Feature Engineering</a></li>\n",
    "<li><a href=\"#export\">Merge DataFrames and Export</a></li>\n",
    "</ul>"
   ]
  },
  {
   "cell_type": "markdown",
   "metadata": {},
   "source": [
    "<a id='intro'></a>\n",
    "## Introduction\n",
    "This dataset consists of over 8.5M rows of consumer behavior data across an online cosmetics storefront. Every record contains a unique timestamp corresponding to an action the user took on the site; which includes viewing a product, adding a product to their cart, removing a product from the cart, and purchasing an item.  \n",
    "\n",
    "The goal for this project is to predict if a customer will make their first a purchase. To achieve this, all of the features will need to be created to aggregate individual user actions leading up to their purchase."
   ]
  },
  {
   "cell_type": "code",
   "execution_count": 255,
   "metadata": {
    "pycharm": {
     "is_executing": false
    }
   },
   "outputs": [],
   "source": [
    "# import necessary packages\n",
    "import pandas as pd\n",
    "import numpy as np\n",
    "import pickle\n",
    "\n",
    "import psycopg2 as pg\n",
    "import pandas.io.sql as pd_sql\n",
    "\n",
    "import matplotlib.pyplot as plt\n",
    "from mpl_toolkits.mplot3d import Axes3D\n",
    "import seaborn as sns\n",
    "%matplotlib inline"
   ]
  },
  {
   "cell_type": "code",
   "execution_count": 256,
   "metadata": {},
   "outputs": [],
   "source": [
    "# set plot style for visualizations\n",
    "#plt.style.use('dark_background')\n",
    "plt.style.use('ggplot')"
   ]
  },
  {
   "cell_type": "code",
   "execution_count": 257,
   "metadata": {},
   "outputs": [],
   "source": [
    "# set up connection to postgres\n",
    "connection_args = {\n",
    "    'host': 'localhost',  \n",
    "    'dbname': 'events',    \n",
    "    'port': 5432          \n",
    "}\n",
    "connection = pg.connect(**connection_args)"
   ]
  },
  {
   "cell_type": "code",
   "execution_count": 258,
   "metadata": {
    "collapsed": true,
    "jupyter": {
     "outputs_hidden": true
    },
    "pycharm": {
     "is_executing": false,
     "name": "#%%\n"
    }
   },
   "outputs": [
    {
     "name": "stdout",
     "output_type": "stream",
     "text": [
      "(8738120, 9)\n"
     ]
    },
    {
     "data": {
      "text/html": [
       "<div>\n",
       "<style scoped>\n",
       "    .dataframe tbody tr th:only-of-type {\n",
       "        vertical-align: middle;\n",
       "    }\n",
       "\n",
       "    .dataframe tbody tr th {\n",
       "        vertical-align: top;\n",
       "    }\n",
       "\n",
       "    .dataframe thead th {\n",
       "        text-align: right;\n",
       "    }\n",
       "</style>\n",
       "<table border=\"1\" class=\"dataframe\">\n",
       "  <thead>\n",
       "    <tr style=\"text-align: right;\">\n",
       "      <th></th>\n",
       "      <th>event_time</th>\n",
       "      <th>event_type</th>\n",
       "      <th>product_id</th>\n",
       "      <th>category_id</th>\n",
       "      <th>category_code</th>\n",
       "      <th>brand</th>\n",
       "      <th>price</th>\n",
       "      <th>user_id</th>\n",
       "      <th>user_session</th>\n",
       "    </tr>\n",
       "  </thead>\n",
       "  <tbody>\n",
       "    <tr>\n",
       "      <th>0</th>\n",
       "      <td>2019-10-01 05:46:41</td>\n",
       "      <td>cart</td>\n",
       "      <td>5866161</td>\n",
       "      <td>1.487580e+18</td>\n",
       "      <td>None</td>\n",
       "      <td>None</td>\n",
       "      <td>1.75</td>\n",
       "      <td>357372567</td>\n",
       "      <td>76b8825a-dac2-46e5-8066-e4ac4dbf70fa</td>\n",
       "    </tr>\n",
       "    <tr>\n",
       "      <th>1</th>\n",
       "      <td>2019-10-01 05:46:42</td>\n",
       "      <td>cart</td>\n",
       "      <td>5833322</td>\n",
       "      <td>1.487580e+18</td>\n",
       "      <td>None</td>\n",
       "      <td>bpw.style</td>\n",
       "      <td>1.27</td>\n",
       "      <td>466012293</td>\n",
       "      <td>4916e61c-6b57-46a5-b743-6c7203b29644</td>\n",
       "    </tr>\n",
       "    <tr>\n",
       "      <th>2</th>\n",
       "      <td>2019-10-01 05:46:43</td>\n",
       "      <td>view</td>\n",
       "      <td>5786528</td>\n",
       "      <td>1.487580e+18</td>\n",
       "      <td>None</td>\n",
       "      <td>estel</td>\n",
       "      <td>4.92</td>\n",
       "      <td>552350017</td>\n",
       "      <td>b4ab6cbb-afc0-4740-b33f-4cf269ff9ab1</td>\n",
       "    </tr>\n",
       "    <tr>\n",
       "      <th>3</th>\n",
       "      <td>2019-10-01 05:46:43</td>\n",
       "      <td>view</td>\n",
       "      <td>5836496</td>\n",
       "      <td>2.151191e+18</td>\n",
       "      <td>None</td>\n",
       "      <td>nagaraku</td>\n",
       "      <td>4.76</td>\n",
       "      <td>527091030</td>\n",
       "      <td>e9c4f5cd-c49e-408e-9aba-949543d9040d</td>\n",
       "    </tr>\n",
       "    <tr>\n",
       "      <th>4</th>\n",
       "      <td>2019-10-01 05:46:43</td>\n",
       "      <td>remove_from_cart</td>\n",
       "      <td>5846381</td>\n",
       "      <td>1.977576e+18</td>\n",
       "      <td>None</td>\n",
       "      <td>lovely</td>\n",
       "      <td>6.19</td>\n",
       "      <td>522761684</td>\n",
       "      <td>47b122b4-6545-4285-8bfe-ee7887413138</td>\n",
       "    </tr>\n",
       "  </tbody>\n",
       "</table>\n",
       "</div>"
      ],
      "text/plain": [
       "           event_time        event_type  product_id   category_id  \\\n",
       "0 2019-10-01 05:46:41              cart     5866161  1.487580e+18   \n",
       "1 2019-10-01 05:46:42              cart     5833322  1.487580e+18   \n",
       "2 2019-10-01 05:46:43              view     5786528  1.487580e+18   \n",
       "3 2019-10-01 05:46:43              view     5836496  2.151191e+18   \n",
       "4 2019-10-01 05:46:43  remove_from_cart     5846381  1.977576e+18   \n",
       "\n",
       "  category_code      brand  price    user_id  \\\n",
       "0          None       None   1.75  357372567   \n",
       "1          None  bpw.style   1.27  466012293   \n",
       "2          None      estel   4.92  552350017   \n",
       "3          None   nagaraku   4.76  527091030   \n",
       "4          None     lovely   6.19  522761684   \n",
       "\n",
       "                           user_session  \n",
       "0  76b8825a-dac2-46e5-8066-e4ac4dbf70fa  \n",
       "1  4916e61c-6b57-46a5-b743-6c7203b29644  \n",
       "2  b4ab6cbb-afc0-4740-b33f-4cf269ff9ab1  \n",
       "3  e9c4f5cd-c49e-408e-9aba-949543d9040d  \n",
       "4  47b122b4-6545-4285-8bfe-ee7887413138  "
      ]
     },
     "execution_count": 258,
     "metadata": {},
     "output_type": "execute_result"
    }
   ],
   "source": [
    "# read in the dataset and label columns\n",
    "query = \"SELECT * FROM all_events;\"\n",
    "df = pd_sql.read_sql(query, connection)\n",
    "print(df.shape)\n",
    "df.head()"
   ]
  },
  {
   "cell_type": "markdown",
   "metadata": {},
   "source": [
    "The dataset contains 8.7M rows and 9 columns. The data represents individual actions taken by each user throughout each session."
   ]
  },
  {
   "cell_type": "code",
   "execution_count": 259,
   "metadata": {},
   "outputs": [
    {
     "data": {
      "text/plain": [
       "1.487580007675987e+18"
      ]
     },
     "execution_count": 259,
     "metadata": {},
     "output_type": "execute_result"
    }
   ],
   "source": [
    "df.category_id[0]"
   ]
  },
  {
   "cell_type": "markdown",
   "metadata": {},
   "source": [
    "<a id='cleaning'></a>\n",
    "## Data Cleaning & Pre-Processing\n",
    "<ol>\n",
    "<li><a href=\"#first\">First purchase</a></li>\n",
    "<li><a href=\"#cosmetics\">Non-cosmetics categories</a></li>\n",
    "<li><a href=\"#negative\">Negatively priced items</a></li>\n",
    "<li><a href=\"#remove\">Removed from cart</a></li>\n",
    "<li><a href=\"#one\">One-time visitors</a></li>\n",
    "</ol>"
   ]
  },
  {
   "cell_type": "code",
   "execution_count": 260,
   "metadata": {},
   "outputs": [
    {
     "name": "stdout",
     "output_type": "stream",
     "text": [
      "<class 'pandas.core.frame.DataFrame'>\n",
      "RangeIndex: 8738120 entries, 0 to 8738119\n",
      "Data columns (total 9 columns):\n",
      "event_time       8738120 non-null datetime64[ns]\n",
      "event_type       8738120 non-null object\n",
      "product_id       8738120 non-null int64\n",
      "category_id      8738120 non-null float64\n",
      "category_code    143225 non-null object\n",
      "brand            5092830 non-null object\n",
      "price            8738120 non-null float64\n",
      "user_id          8738120 non-null int64\n",
      "user_session     8736670 non-null object\n",
      "dtypes: datetime64[ns](1), float64(2), int64(2), object(4)\n",
      "memory usage: 600.0+ MB\n"
     ]
    }
   ],
   "source": [
    "df.info(verbose=True, null_counts=True)"
   ]
  },
  {
   "cell_type": "markdown",
   "metadata": {},
   "source": [
    "There are quite a few null values in the `category_code` column."
   ]
  },
  {
   "cell_type": "markdown",
   "metadata": {},
   "source": [
    "<a id='first'></a>\n",
    "### 1. First purchase\n",
    "The data set includes all actions each customer took throughout the store in every session they logged, which includes multiple purchases. But what if a customer did make multiple purchases in different sessions? \n",
    "\n",
    "Let's say a customer buys 3 products one day, then 2 weeks later returns and does not make a purchase, but views 4 products. When analyzing the data to model that customer's views beyond the initial purchase will be factored into the model, but at that point the customer's intent may have completely changed given they are already familiar with the store.\n",
    "\n",
    "To avoid misreadings of the data, I will focus solely on predicting a customer's **first** purchase. For customers that have purchased previously, the model will take into account only the actions that customer took leading up to their first purchase."
   ]
  },
  {
   "cell_type": "code",
   "execution_count": 261,
   "metadata": {},
   "outputs": [],
   "source": [
    "# run sql query that filters purchasers' data to include only events leading up to their first purchases\n",
    "query = \"\"\"\n",
    "WITH purchasers AS (\n",
    "    SELECT DISTINCT user_id,\n",
    "                    MIN(event_time) AS first_purchase_time\n",
    "    FROM all_events\n",
    "    WHERE event_type = 'purchase'\n",
    "    GROUP BY 1\n",
    ")\n",
    "\n",
    "SELECT all_events.*\n",
    "FROM all_events\n",
    "JOIN purchasers\n",
    "    ON all_events.user_id = purchasers.user_id\n",
    "           AND all_events.event_time <= purchasers.first_purchase_time\n",
    "\n",
    "UNION\n",
    "\n",
    "SELECT all_events.*\n",
    "FROM all_events\n",
    "WHERE user_id NOT IN (\n",
    "    SELECT DISTINCT user_id\n",
    "    FROM all_events\n",
    "    WHERE event_type = 'purchase'\n",
    " )\n",
    "\"\"\"\n",
    "df = pd_sql.read_sql(query, connection)"
   ]
  },
  {
   "cell_type": "markdown",
   "metadata": {},
   "source": [
    "Now that I have modified the starting dataset to avoid misclassification in the modeling process, I can clean the rest of the data."
   ]
  },
  {
   "cell_type": "markdown",
   "metadata": {},
   "source": [
    "<a id='cosmetics'></a>\n",
    "### 2. Non-cosmetics categories"
   ]
  },
  {
   "cell_type": "code",
   "execution_count": 262,
   "metadata": {},
   "outputs": [
    {
     "data": {
      "text/plain": [
       "appliances.environment.vacuum             48835\n",
       "stationery.cartrige                       22529\n",
       "apparel.glove                             13193\n",
       "furniture.living_room.cabinet             11564\n",
       "accessories.bag                           10359\n",
       "furniture.bathroom.bath                    7965\n",
       "appliances.personal.hair_cutter            1414\n",
       "accessories.cosmetic_bag                   1010\n",
       "appliances.environment.air_conditioner      310\n",
       "furniture.living_room.chair                 250\n",
       "sport.diving                                  2\n",
       "Name: category_code, dtype: int64"
      ]
     },
     "execution_count": 262,
     "metadata": {},
     "output_type": "execute_result"
    }
   ],
   "source": [
    "df.category_code.value_counts()"
   ]
  },
  {
   "cell_type": "markdown",
   "metadata": {},
   "source": [
    "The non-null columns appear to be non-cosmetic. These are assumed to be erroneous data and will be removed from the dataset."
   ]
  },
  {
   "cell_type": "code",
   "execution_count": 263,
   "metadata": {},
   "outputs": [
    {
     "data": {
      "text/plain": [
       "(6674080, 9)"
      ]
     },
     "execution_count": 263,
     "metadata": {},
     "output_type": "execute_result"
    }
   ],
   "source": [
    "df = df[df.category_code.isnull()]\n",
    "df.shape"
   ]
  },
  {
   "cell_type": "markdown",
   "metadata": {},
   "source": [
    "<a id='negative'></a>\n",
    "### 3. Negatively priced items"
   ]
  },
  {
   "cell_type": "markdown",
   "metadata": {},
   "source": [
    "Next let's look at the range in product pricing. Gauging propensity to purchase could potentially be pricing based, so it's good to get a sense of the pricing distribution"
   ]
  },
  {
   "cell_type": "code",
   "execution_count": 264,
   "metadata": {},
   "outputs": [
    {
     "data": {
      "image/png": "[encoded data removed]",
      "text/plain": [
       "<Figure size 432x288 with 1 Axes>"
      ]
     },
     "metadata": {},
     "output_type": "display_data"
    }
   ],
   "source": [
    "df.price.hist();"
   ]
  },
  {
   "cell_type": "markdown",
   "metadata": {},
   "source": [
    "There seem to be some items that are priced negatively."
   ]
  },
  {
   "cell_type": "code",
   "execution_count": 265,
   "metadata": {},
   "outputs": [
    {
     "data": {
      "text/html": [
       "<div>\n",
       "<style scoped>\n",
       "    .dataframe tbody tr th:only-of-type {\n",
       "        vertical-align: middle;\n",
       "    }\n",
       "\n",
       "    .dataframe tbody tr th {\n",
       "        vertical-align: top;\n",
       "    }\n",
       "\n",
       "    .dataframe thead th {\n",
       "        text-align: right;\n",
       "    }\n",
       "</style>\n",
       "<table border=\"1\" class=\"dataframe\">\n",
       "  <thead>\n",
       "    <tr style=\"text-align: right;\">\n",
       "      <th></th>\n",
       "      <th>event_time</th>\n",
       "      <th>event_type</th>\n",
       "      <th>product_id</th>\n",
       "      <th>category_id</th>\n",
       "      <th>category_code</th>\n",
       "      <th>brand</th>\n",
       "      <th>price</th>\n",
       "      <th>user_id</th>\n",
       "      <th>user_session</th>\n",
       "    </tr>\n",
       "  </thead>\n",
       "  <tbody>\n",
       "    <tr>\n",
       "      <th>105384</th>\n",
       "      <td>2019-10-01 19:10:56</td>\n",
       "      <td>purchase</td>\n",
       "      <td>5716857</td>\n",
       "      <td>1.487580e+18</td>\n",
       "      <td>None</td>\n",
       "      <td>None</td>\n",
       "      <td>-23.81</td>\n",
       "      <td>552507528</td>\n",
       "      <td>dcdd60c6-1a70-442d-bfb2-0252879054ad</td>\n",
       "    </tr>\n",
       "    <tr>\n",
       "      <th>185260</th>\n",
       "      <td>2019-10-02 08:30:03</td>\n",
       "      <td>purchase</td>\n",
       "      <td>5716855</td>\n",
       "      <td>1.487580e+18</td>\n",
       "      <td>None</td>\n",
       "      <td>None</td>\n",
       "      <td>-7.94</td>\n",
       "      <td>550375225</td>\n",
       "      <td>5ddec778-9464-4514-914d-be7b751b8e2c</td>\n",
       "    </tr>\n",
       "    <tr>\n",
       "      <th>412107</th>\n",
       "      <td>2019-10-03 18:25:39</td>\n",
       "      <td>purchase</td>\n",
       "      <td>5670257</td>\n",
       "      <td>1.487580e+18</td>\n",
       "      <td>None</td>\n",
       "      <td>None</td>\n",
       "      <td>-15.87</td>\n",
       "      <td>556383221</td>\n",
       "      <td>4333d203-bc4d-4d0d-a6e1-0ea3a97a28c1</td>\n",
       "    </tr>\n",
       "    <tr>\n",
       "      <th>1172779</th>\n",
       "      <td>2019-10-09 14:49:14</td>\n",
       "      <td>purchase</td>\n",
       "      <td>5716855</td>\n",
       "      <td>1.487580e+18</td>\n",
       "      <td>None</td>\n",
       "      <td>None</td>\n",
       "      <td>-7.94</td>\n",
       "      <td>514562574</td>\n",
       "      <td>fed2aeb4-0c75-44f7-9ca8-1a8be8214779</td>\n",
       "    </tr>\n",
       "    <tr>\n",
       "      <th>1286865</th>\n",
       "      <td>2019-10-10 14:33:29</td>\n",
       "      <td>purchase</td>\n",
       "      <td>5716855</td>\n",
       "      <td>1.487580e+18</td>\n",
       "      <td>None</td>\n",
       "      <td>None</td>\n",
       "      <td>-7.94</td>\n",
       "      <td>558797258</td>\n",
       "      <td>a406cf28-f04b-4361-8e6a-c62d36045e07</td>\n",
       "    </tr>\n",
       "    <tr>\n",
       "      <th>1366348</th>\n",
       "      <td>2019-10-11 10:27:19</td>\n",
       "      <td>purchase</td>\n",
       "      <td>5716859</td>\n",
       "      <td>1.487580e+18</td>\n",
       "      <td>None</td>\n",
       "      <td>None</td>\n",
       "      <td>-47.62</td>\n",
       "      <td>543647038</td>\n",
       "      <td>85e11d74-6583-4eab-b50c-ff86dbb25d97</td>\n",
       "    </tr>\n",
       "    <tr>\n",
       "      <th>1592120</th>\n",
       "      <td>2019-10-13 16:46:01</td>\n",
       "      <td>purchase</td>\n",
       "      <td>5716857</td>\n",
       "      <td>1.487580e+18</td>\n",
       "      <td>None</td>\n",
       "      <td>None</td>\n",
       "      <td>-23.81</td>\n",
       "      <td>559820267</td>\n",
       "      <td>f178c995-f004-4040-b26d-b1cca0f9657d</td>\n",
       "    </tr>\n",
       "    <tr>\n",
       "      <th>1710571</th>\n",
       "      <td>2019-10-14 17:33:24</td>\n",
       "      <td>purchase</td>\n",
       "      <td>5716861</td>\n",
       "      <td>1.487580e+18</td>\n",
       "      <td>None</td>\n",
       "      <td>None</td>\n",
       "      <td>-79.37</td>\n",
       "      <td>541122983</td>\n",
       "      <td>b60f777d-afca-4299-8548-273b810d6130</td>\n",
       "    </tr>\n",
       "    <tr>\n",
       "      <th>1896796</th>\n",
       "      <td>2019-10-16 11:41:06</td>\n",
       "      <td>purchase</td>\n",
       "      <td>5716857</td>\n",
       "      <td>1.487580e+18</td>\n",
       "      <td>None</td>\n",
       "      <td>None</td>\n",
       "      <td>-23.81</td>\n",
       "      <td>461943726</td>\n",
       "      <td>beefa8fb-a3d1-48ca-97e9-9c95b05ee997</td>\n",
       "    </tr>\n",
       "    <tr>\n",
       "      <th>2016222</th>\n",
       "      <td>2019-10-17 11:41:07</td>\n",
       "      <td>purchase</td>\n",
       "      <td>5670257</td>\n",
       "      <td>1.487580e+18</td>\n",
       "      <td>None</td>\n",
       "      <td>None</td>\n",
       "      <td>-15.87</td>\n",
       "      <td>557964596</td>\n",
       "      <td>4f4ee4c7-8081-41f1-91bb-ea74a7f1669d</td>\n",
       "    </tr>\n",
       "    <tr>\n",
       "      <th>2642746</th>\n",
       "      <td>2019-10-23 15:11:37</td>\n",
       "      <td>purchase</td>\n",
       "      <td>5670257</td>\n",
       "      <td>1.487580e+18</td>\n",
       "      <td>None</td>\n",
       "      <td>None</td>\n",
       "      <td>-15.87</td>\n",
       "      <td>563375190</td>\n",
       "      <td>e925f825-c62a-4e0d-bf80-884ca1c66f41</td>\n",
       "    </tr>\n",
       "    <tr>\n",
       "      <th>2704059</th>\n",
       "      <td>2019-10-24 08:10:06</td>\n",
       "      <td>purchase</td>\n",
       "      <td>5716859</td>\n",
       "      <td>1.487580e+18</td>\n",
       "      <td>None</td>\n",
       "      <td>None</td>\n",
       "      <td>-47.62</td>\n",
       "      <td>545859098</td>\n",
       "      <td>95ed1875-cb64-443d-90bb-17d0dc596c10</td>\n",
       "    </tr>\n",
       "    <tr>\n",
       "      <th>2992957</th>\n",
       "      <td>2019-10-27 11:24:32</td>\n",
       "      <td>purchase</td>\n",
       "      <td>5716859</td>\n",
       "      <td>1.487580e+18</td>\n",
       "      <td>None</td>\n",
       "      <td>None</td>\n",
       "      <td>-47.62</td>\n",
       "      <td>564627373</td>\n",
       "      <td>81d564e9-55b3-4929-9132-6353cab08a97</td>\n",
       "    </tr>\n",
       "    <tr>\n",
       "      <th>3077172</th>\n",
       "      <td>2019-10-28 07:41:54</td>\n",
       "      <td>purchase</td>\n",
       "      <td>5716857</td>\n",
       "      <td>1.487580e+18</td>\n",
       "      <td>None</td>\n",
       "      <td>None</td>\n",
       "      <td>-23.81</td>\n",
       "      <td>385939606</td>\n",
       "      <td>2255291d-8060-4ce9-934c-458a3bd0b944</td>\n",
       "    </tr>\n",
       "    <tr>\n",
       "      <th>3225115</th>\n",
       "      <td>2019-10-29 14:34:24</td>\n",
       "      <td>purchase</td>\n",
       "      <td>5716857</td>\n",
       "      <td>1.487580e+18</td>\n",
       "      <td>None</td>\n",
       "      <td>None</td>\n",
       "      <td>-23.81</td>\n",
       "      <td>554081558</td>\n",
       "      <td>4b84a8f9-97d7-4eb1-b120-7b34ddfe9a85</td>\n",
       "    </tr>\n",
       "    <tr>\n",
       "      <th>3518322</th>\n",
       "      <td>2019-11-01 15:36:23</td>\n",
       "      <td>purchase</td>\n",
       "      <td>5716855</td>\n",
       "      <td>1.487580e+18</td>\n",
       "      <td>None</td>\n",
       "      <td>None</td>\n",
       "      <td>-7.94</td>\n",
       "      <td>566480066</td>\n",
       "      <td>34fa4291-9e2e-470f-a678-b84d9bbbdfe3</td>\n",
       "    </tr>\n",
       "    <tr>\n",
       "      <th>3711593</th>\n",
       "      <td>2019-11-03 18:47:04</td>\n",
       "      <td>purchase</td>\n",
       "      <td>5716859</td>\n",
       "      <td>1.487580e+18</td>\n",
       "      <td>None</td>\n",
       "      <td>None</td>\n",
       "      <td>-47.62</td>\n",
       "      <td>567194545</td>\n",
       "      <td>fd27b149-3006-41cd-8afc-884c47272e5d</td>\n",
       "    </tr>\n",
       "    <tr>\n",
       "      <th>3768572</th>\n",
       "      <td>2019-11-04 11:54:29</td>\n",
       "      <td>purchase</td>\n",
       "      <td>5670257</td>\n",
       "      <td>1.487580e+18</td>\n",
       "      <td>None</td>\n",
       "      <td>None</td>\n",
       "      <td>-15.87</td>\n",
       "      <td>516725846</td>\n",
       "      <td>26e74f0c-762a-4162-b807-72a3e7bfa015</td>\n",
       "    </tr>\n",
       "    <tr>\n",
       "      <th>3768573</th>\n",
       "      <td>2019-11-04 11:54:29</td>\n",
       "      <td>purchase</td>\n",
       "      <td>5716857</td>\n",
       "      <td>1.487580e+18</td>\n",
       "      <td>None</td>\n",
       "      <td>None</td>\n",
       "      <td>-23.81</td>\n",
       "      <td>516725846</td>\n",
       "      <td>26e74f0c-762a-4162-b807-72a3e7bfa015</td>\n",
       "    </tr>\n",
       "    <tr>\n",
       "      <th>3991122</th>\n",
       "      <td>2019-11-06 11:51:26</td>\n",
       "      <td>purchase</td>\n",
       "      <td>5670257</td>\n",
       "      <td>1.487580e+18</td>\n",
       "      <td>None</td>\n",
       "      <td>None</td>\n",
       "      <td>-15.87</td>\n",
       "      <td>568159131</td>\n",
       "      <td>8edce83b-2d4c-4654-89e6-16234303031c</td>\n",
       "    </tr>\n",
       "    <tr>\n",
       "      <th>4477654</th>\n",
       "      <td>2019-11-10 20:16:38</td>\n",
       "      <td>purchase</td>\n",
       "      <td>5716857</td>\n",
       "      <td>1.487580e+18</td>\n",
       "      <td>None</td>\n",
       "      <td>None</td>\n",
       "      <td>-23.81</td>\n",
       "      <td>549736485</td>\n",
       "      <td>d1acbc83-3876-4317-a00f-6c60800f4572</td>\n",
       "    </tr>\n",
       "    <tr>\n",
       "      <th>5159911</th>\n",
       "      <td>2019-11-18 07:06:17</td>\n",
       "      <td>purchase</td>\n",
       "      <td>5716857</td>\n",
       "      <td>1.487580e+18</td>\n",
       "      <td>None</td>\n",
       "      <td>None</td>\n",
       "      <td>-23.81</td>\n",
       "      <td>565309368</td>\n",
       "      <td>47af9baa-94af-4334-a4ac-514230ddfa9c</td>\n",
       "    </tr>\n",
       "    <tr>\n",
       "      <th>5583918</th>\n",
       "      <td>2019-11-21 19:34:16</td>\n",
       "      <td>purchase</td>\n",
       "      <td>5716859</td>\n",
       "      <td>1.487580e+18</td>\n",
       "      <td>None</td>\n",
       "      <td>None</td>\n",
       "      <td>-47.62</td>\n",
       "      <td>419166079</td>\n",
       "      <td>7e76a460-adb4-4e3f-9c85-c08a97016aa0</td>\n",
       "    </tr>\n",
       "    <tr>\n",
       "      <th>5712193</th>\n",
       "      <td>2019-11-22 13:46:53</td>\n",
       "      <td>purchase</td>\n",
       "      <td>5716859</td>\n",
       "      <td>1.487580e+18</td>\n",
       "      <td>None</td>\n",
       "      <td>None</td>\n",
       "      <td>-47.62</td>\n",
       "      <td>540003383</td>\n",
       "      <td>33da1676-00df-4f21-b87e-4c1b9b09420c</td>\n",
       "    </tr>\n",
       "    <tr>\n",
       "      <th>5862268</th>\n",
       "      <td>2019-11-23 13:30:53</td>\n",
       "      <td>purchase</td>\n",
       "      <td>5716859</td>\n",
       "      <td>1.487580e+18</td>\n",
       "      <td>None</td>\n",
       "      <td>None</td>\n",
       "      <td>-47.62</td>\n",
       "      <td>574878046</td>\n",
       "      <td>b60c5299-7a53-e636-6dc3-c7fd5d86452b</td>\n",
       "    </tr>\n",
       "    <tr>\n",
       "      <th>6340773</th>\n",
       "      <td>2019-11-27 16:17:31</td>\n",
       "      <td>purchase</td>\n",
       "      <td>5716855</td>\n",
       "      <td>1.487580e+18</td>\n",
       "      <td>None</td>\n",
       "      <td>None</td>\n",
       "      <td>-7.94</td>\n",
       "      <td>395032118</td>\n",
       "      <td>dad52920-321a-4d0d-805e-e83ff813d994</td>\n",
       "    </tr>\n",
       "    <tr>\n",
       "      <th>6583996</th>\n",
       "      <td>2019-11-29 10:48:18</td>\n",
       "      <td>purchase</td>\n",
       "      <td>5670257</td>\n",
       "      <td>1.487580e+18</td>\n",
       "      <td>None</td>\n",
       "      <td>None</td>\n",
       "      <td>-15.87</td>\n",
       "      <td>569446220</td>\n",
       "      <td>14de64e5-bfbf-43e4-a3d9-362caf9f847e</td>\n",
       "    </tr>\n",
       "  </tbody>\n",
       "</table>\n",
       "</div>"
      ],
      "text/plain": [
       "                 event_time event_type  product_id   category_id  \\\n",
       "105384  2019-10-01 19:10:56   purchase     5716857  1.487580e+18   \n",
       "185260  2019-10-02 08:30:03   purchase     5716855  1.487580e+18   \n",
       "412107  2019-10-03 18:25:39   purchase     5670257  1.487580e+18   \n",
       "1172779 2019-10-09 14:49:14   purchase     5716855  1.487580e+18   \n",
       "1286865 2019-10-10 14:33:29   purchase     5716855  1.487580e+18   \n",
       "1366348 2019-10-11 10:27:19   purchase     5716859  1.487580e+18   \n",
       "1592120 2019-10-13 16:46:01   purchase     5716857  1.487580e+18   \n",
       "1710571 2019-10-14 17:33:24   purchase     5716861  1.487580e+18   \n",
       "1896796 2019-10-16 11:41:06   purchase     5716857  1.487580e+18   \n",
       "2016222 2019-10-17 11:41:07   purchase     5670257  1.487580e+18   \n",
       "2642746 2019-10-23 15:11:37   purchase     5670257  1.487580e+18   \n",
       "2704059 2019-10-24 08:10:06   purchase     5716859  1.487580e+18   \n",
       "2992957 2019-10-27 11:24:32   purchase     5716859  1.487580e+18   \n",
       "3077172 2019-10-28 07:41:54   purchase     5716857  1.487580e+18   \n",
       "3225115 2019-10-29 14:34:24   purchase     5716857  1.487580e+18   \n",
       "3518322 2019-11-01 15:36:23   purchase     5716855  1.487580e+18   \n",
       "3711593 2019-11-03 18:47:04   purchase     5716859  1.487580e+18   \n",
       "3768572 2019-11-04 11:54:29   purchase     5670257  1.487580e+18   \n",
       "3768573 2019-11-04 11:54:29   purchase     5716857  1.487580e+18   \n",
       "3991122 2019-11-06 11:51:26   purchase     5670257  1.487580e+18   \n",
       "4477654 2019-11-10 20:16:38   purchase     5716857  1.487580e+18   \n",
       "5159911 2019-11-18 07:06:17   purchase     5716857  1.487580e+18   \n",
       "5583918 2019-11-21 19:34:16   purchase     5716859  1.487580e+18   \n",
       "5712193 2019-11-22 13:46:53   purchase     5716859  1.487580e+18   \n",
       "5862268 2019-11-23 13:30:53   purchase     5716859  1.487580e+18   \n",
       "6340773 2019-11-27 16:17:31   purchase     5716855  1.487580e+18   \n",
       "6583996 2019-11-29 10:48:18   purchase     5670257  1.487580e+18   \n",
       "\n",
       "        category_code brand  price    user_id  \\\n",
       "105384           None  None -23.81  552507528   \n",
       "185260           None  None  -7.94  550375225   \n",
       "412107           None  None -15.87  556383221   \n",
       "1172779          None  None  -7.94  514562574   \n",
       "1286865          None  None  -7.94  558797258   \n",
       "1366348          None  None -47.62  543647038   \n",
       "1592120          None  None -23.81  559820267   \n",
       "1710571          None  None -79.37  541122983   \n",
       "1896796          None  None -23.81  461943726   \n",
       "2016222          None  None -15.87  557964596   \n",
       "2642746          None  None -15.87  563375190   \n",
       "2704059          None  None -47.62  545859098   \n",
       "2992957          None  None -47.62  564627373   \n",
       "3077172          None  None -23.81  385939606   \n",
       "3225115          None  None -23.81  554081558   \n",
       "3518322          None  None  -7.94  566480066   \n",
       "3711593          None  None -47.62  567194545   \n",
       "3768572          None  None -15.87  516725846   \n",
       "3768573          None  None -23.81  516725846   \n",
       "3991122          None  None -15.87  568159131   \n",
       "4477654          None  None -23.81  549736485   \n",
       "5159911          None  None -23.81  565309368   \n",
       "5583918          None  None -47.62  419166079   \n",
       "5712193          None  None -47.62  540003383   \n",
       "5862268          None  None -47.62  574878046   \n",
       "6340773          None  None  -7.94  395032118   \n",
       "6583996          None  None -15.87  569446220   \n",
       "\n",
       "                                 user_session  \n",
       "105384   dcdd60c6-1a70-442d-bfb2-0252879054ad  \n",
       "185260   5ddec778-9464-4514-914d-be7b751b8e2c  \n",
       "412107   4333d203-bc4d-4d0d-a6e1-0ea3a97a28c1  \n",
       "1172779  fed2aeb4-0c75-44f7-9ca8-1a8be8214779  \n",
       "1286865  a406cf28-f04b-4361-8e6a-c62d36045e07  \n",
       "1366348  85e11d74-6583-4eab-b50c-ff86dbb25d97  \n",
       "1592120  f178c995-f004-4040-b26d-b1cca0f9657d  \n",
       "1710571  b60f777d-afca-4299-8548-273b810d6130  \n",
       "1896796  beefa8fb-a3d1-48ca-97e9-9c95b05ee997  \n",
       "2016222  4f4ee4c7-8081-41f1-91bb-ea74a7f1669d  \n",
       "2642746  e925f825-c62a-4e0d-bf80-884ca1c66f41  \n",
       "2704059  95ed1875-cb64-443d-90bb-17d0dc596c10  \n",
       "2992957  81d564e9-55b3-4929-9132-6353cab08a97  \n",
       "3077172  2255291d-8060-4ce9-934c-458a3bd0b944  \n",
       "3225115  4b84a8f9-97d7-4eb1-b120-7b34ddfe9a85  \n",
       "3518322  34fa4291-9e2e-470f-a678-b84d9bbbdfe3  \n",
       "3711593  fd27b149-3006-41cd-8afc-884c47272e5d  \n",
       "3768572  26e74f0c-762a-4162-b807-72a3e7bfa015  \n",
       "3768573  26e74f0c-762a-4162-b807-72a3e7bfa015  \n",
       "3991122  8edce83b-2d4c-4654-89e6-16234303031c  \n",
       "4477654  d1acbc83-3876-4317-a00f-6c60800f4572  \n",
       "5159911  47af9baa-94af-4334-a4ac-514230ddfa9c  \n",
       "5583918  7e76a460-adb4-4e3f-9c85-c08a97016aa0  \n",
       "5712193  33da1676-00df-4f21-b87e-4c1b9b09420c  \n",
       "5862268  b60c5299-7a53-e636-6dc3-c7fd5d86452b  \n",
       "6340773  dad52920-321a-4d0d-805e-e83ff813d994  \n",
       "6583996  14de64e5-bfbf-43e4-a3d9-362caf9f847e  "
      ]
     },
     "execution_count": 265,
     "metadata": {},
     "output_type": "execute_result"
    }
   ],
   "source": [
    "df[df.price < 0]"
   ]
  },
  {
   "cell_type": "markdown",
   "metadata": {},
   "source": [
    "It looks like each of these events correspond to a customer purchase. These could potentially be returned items. With that in mind, line items with negative purchases will be removed from the dataset."
   ]
  },
  {
   "cell_type": "code",
   "execution_count": 266,
   "metadata": {},
   "outputs": [
    {
     "data": {
      "text/plain": [
       "(6660929, 9)"
      ]
     },
     "execution_count": 266,
     "metadata": {},
     "output_type": "execute_result"
    }
   ],
   "source": [
    "df = df[df.price > 0]\n",
    "df.shape"
   ]
  },
  {
   "cell_type": "markdown",
   "metadata": {},
   "source": [
    "<a id='remove'></a>\n",
    "### 4. Removed from cart"
   ]
  },
  {
   "cell_type": "markdown",
   "metadata": {},
   "source": [
    "Next I will look at event types to see what behaviors will be incorporated into the model in order to predict a future purchase."
   ]
  },
  {
   "cell_type": "code",
   "execution_count": 267,
   "metadata": {},
   "outputs": [
    {
     "data": {
      "text/plain": [
       "view                3231603\n",
       "cart                1997535\n",
       "remove_from_cart    1007802\n",
       "purchase             423989\n",
       "Name: event_type, dtype: int64"
      ]
     },
     "execution_count": 267,
     "metadata": {},
     "output_type": "execute_result"
    }
   ],
   "source": [
    "df.event_type.value_counts()"
   ]
  },
  {
   "cell_type": "markdown",
   "metadata": {},
   "source": [
    "The different types of actions captured in the dataset include customer views of each product, adding items to cart, removing items from cart, and purchasing.  \n",
    "\n",
    "Because my objective is to find customer purchases, I must handle the event types in a way that will not be duplicative. Each action taken by the customer is captured in the data, therefore all rows where a customer purchased a product will also have a row within that same session where the customer added the item to their cart.  \n",
    "\n",
    "To account for this, counts of occurrences where a customer added an item to their cart should not include sessions where they made a purchase. With this in mind, removals from cart become duplicative and should be removed."
   ]
  },
  {
   "cell_type": "code",
   "execution_count": 268,
   "metadata": {},
   "outputs": [
    {
     "data": {
      "text/plain": [
       "(5653127, 9)"
      ]
     },
     "execution_count": 268,
     "metadata": {},
     "output_type": "execute_result"
    }
   ],
   "source": [
    "df = df[df.event_type.isin(['view', 'cart', 'purchase'])]\n",
    "df.shape"
   ]
  },
  {
   "cell_type": "markdown",
   "metadata": {},
   "source": [
    "<a id='one'></a>\n",
    "### 5. One-time visitors\n",
    "One major source of variability in the data I may encounter when predicting future purchases is the presence of one-time visitors. One-time visitors may either buy or leave in their sole visit, which has the potential to throw off the model. Because I am looking to predict the first purchase a user will make, I will need more than one session per user to accurately predict future actions. As such, one-time visitors will be removed from the dataset."
   ]
  },
  {
   "cell_type": "code",
   "execution_count": 269,
   "metadata": {},
   "outputs": [
    {
     "data": {
      "text/html": [
       "<div>\n",
       "<style scoped>\n",
       "    .dataframe tbody tr th:only-of-type {\n",
       "        vertical-align: middle;\n",
       "    }\n",
       "\n",
       "    .dataframe tbody tr th {\n",
       "        vertical-align: top;\n",
       "    }\n",
       "\n",
       "    .dataframe thead th {\n",
       "        text-align: right;\n",
       "    }\n",
       "</style>\n",
       "<table border=\"1\" class=\"dataframe\">\n",
       "  <thead>\n",
       "    <tr style=\"text-align: right;\">\n",
       "      <th></th>\n",
       "      <th>user_id</th>\n",
       "      <th>count</th>\n",
       "    </tr>\n",
       "  </thead>\n",
       "  <tbody>\n",
       "    <tr>\n",
       "      <th>0</th>\n",
       "      <td>1458813</td>\n",
       "      <td>4</td>\n",
       "    </tr>\n",
       "    <tr>\n",
       "      <th>1</th>\n",
       "      <td>8846226</td>\n",
       "      <td>2</td>\n",
       "    </tr>\n",
       "    <tr>\n",
       "      <th>2</th>\n",
       "      <td>9478445</td>\n",
       "      <td>4</td>\n",
       "    </tr>\n",
       "    <tr>\n",
       "      <th>3</th>\n",
       "      <td>9794320</td>\n",
       "      <td>15</td>\n",
       "    </tr>\n",
       "    <tr>\n",
       "      <th>4</th>\n",
       "      <td>10280338</td>\n",
       "      <td>6</td>\n",
       "    </tr>\n",
       "    <tr>\n",
       "      <th>...</th>\n",
       "      <td>...</td>\n",
       "      <td>...</td>\n",
       "    </tr>\n",
       "    <tr>\n",
       "      <th>223972</th>\n",
       "      <td>579956587</td>\n",
       "      <td>2</td>\n",
       "    </tr>\n",
       "    <tr>\n",
       "      <th>223973</th>\n",
       "      <td>579956611</td>\n",
       "      <td>3</td>\n",
       "    </tr>\n",
       "    <tr>\n",
       "      <th>223974</th>\n",
       "      <td>579960749</td>\n",
       "      <td>2</td>\n",
       "    </tr>\n",
       "    <tr>\n",
       "      <th>223975</th>\n",
       "      <td>579963467</td>\n",
       "      <td>2</td>\n",
       "    </tr>\n",
       "    <tr>\n",
       "      <th>223976</th>\n",
       "      <td>579964964</td>\n",
       "      <td>2</td>\n",
       "    </tr>\n",
       "  </tbody>\n",
       "</table>\n",
       "<p>223977 rows × 2 columns</p>\n",
       "</div>"
      ],
      "text/plain": [
       "          user_id  count\n",
       "0         1458813      4\n",
       "1         8846226      2\n",
       "2         9478445      4\n",
       "3         9794320     15\n",
       "4        10280338      6\n",
       "...           ...    ...\n",
       "223972  579956587      2\n",
       "223973  579956611      3\n",
       "223974  579960749      2\n",
       "223975  579963467      2\n",
       "223976  579964964      2\n",
       "\n",
       "[223977 rows x 2 columns]"
      ]
     },
     "execution_count": 269,
     "metadata": {},
     "output_type": "execute_result"
    }
   ],
   "source": [
    "# create dataframe of number of sessions per user, where the user logged more than one session\n",
    "query = \"\"\"\n",
    "SELECT user_id,\n",
    "       COUNT(DISTINCT user_session)\n",
    "FROM all_events\n",
    "GROUP BY 1\n",
    "HAVING COUNT(DISTINCT user_session) > 1;\n",
    "\"\"\"\n",
    "one_visit = pd_sql.read_sql(query, connection)\n",
    "one_visit"
   ]
  },
  {
   "cell_type": "code",
   "execution_count": 270,
   "metadata": {},
   "outputs": [
    {
     "data": {
      "text/plain": [
       "(4269438, 9)"
      ]
     },
     "execution_count": 270,
     "metadata": {},
     "output_type": "execute_result"
    }
   ],
   "source": [
    "# filter original dataframe to include only the user IDs found in query\n",
    "df = df[df.user_id.isin(one_visit.user_id.values)]\n",
    "df.shape"
   ]
  },
  {
   "cell_type": "code",
   "execution_count": 271,
   "metadata": {},
   "outputs": [
    {
     "data": {
      "text/html": [
       "<div>\n",
       "<style scoped>\n",
       "    .dataframe tbody tr th:only-of-type {\n",
       "        vertical-align: middle;\n",
       "    }\n",
       "\n",
       "    .dataframe tbody tr th {\n",
       "        vertical-align: top;\n",
       "    }\n",
       "\n",
       "    .dataframe thead th {\n",
       "        text-align: right;\n",
       "    }\n",
       "</style>\n",
       "<table border=\"1\" class=\"dataframe\">\n",
       "  <thead>\n",
       "    <tr style=\"text-align: right;\">\n",
       "      <th></th>\n",
       "      <th>event_time</th>\n",
       "      <th>event_type</th>\n",
       "      <th>product_id</th>\n",
       "      <th>category_id</th>\n",
       "      <th>category_code</th>\n",
       "      <th>brand</th>\n",
       "      <th>price</th>\n",
       "      <th>user_id</th>\n",
       "      <th>user_session</th>\n",
       "    </tr>\n",
       "  </thead>\n",
       "  <tbody>\n",
       "    <tr>\n",
       "      <th>3</th>\n",
       "      <td>2019-10-01 00:00:07</td>\n",
       "      <td>cart</td>\n",
       "      <td>5881589</td>\n",
       "      <td>2.151191e+18</td>\n",
       "      <td>None</td>\n",
       "      <td>lovely</td>\n",
       "      <td>13.48</td>\n",
       "      <td>429681830</td>\n",
       "      <td>49e8d843-adf3-428b-a2c3-fe8bc6a307c9</td>\n",
       "    </tr>\n",
       "    <tr>\n",
       "      <th>4</th>\n",
       "      <td>2019-10-01 00:00:15</td>\n",
       "      <td>cart</td>\n",
       "      <td>5881449</td>\n",
       "      <td>1.487580e+18</td>\n",
       "      <td>None</td>\n",
       "      <td>lovely</td>\n",
       "      <td>0.56</td>\n",
       "      <td>429681830</td>\n",
       "      <td>49e8d843-adf3-428b-a2c3-fe8bc6a307c9</td>\n",
       "    </tr>\n",
       "    <tr>\n",
       "      <th>5</th>\n",
       "      <td>2019-10-01 00:00:16</td>\n",
       "      <td>cart</td>\n",
       "      <td>5857269</td>\n",
       "      <td>1.487580e+18</td>\n",
       "      <td>None</td>\n",
       "      <td>runail</td>\n",
       "      <td>2.62</td>\n",
       "      <td>430174032</td>\n",
       "      <td>73dea1e7-664e-43f4-8b30-d32b9d5af04f</td>\n",
       "    </tr>\n",
       "    <tr>\n",
       "      <th>6</th>\n",
       "      <td>2019-10-01 00:00:19</td>\n",
       "      <td>cart</td>\n",
       "      <td>5739055</td>\n",
       "      <td>1.487580e+18</td>\n",
       "      <td>None</td>\n",
       "      <td>kapous</td>\n",
       "      <td>4.75</td>\n",
       "      <td>377667011</td>\n",
       "      <td>81326ac6-daa4-4f0a-b488-fd0956a78733</td>\n",
       "    </tr>\n",
       "    <tr>\n",
       "      <th>7</th>\n",
       "      <td>2019-10-01 00:00:24</td>\n",
       "      <td>cart</td>\n",
       "      <td>5825598</td>\n",
       "      <td>1.487580e+18</td>\n",
       "      <td>None</td>\n",
       "      <td>None</td>\n",
       "      <td>0.56</td>\n",
       "      <td>467916806</td>\n",
       "      <td>2f5b5546-b8cb-9ee7-7ecd-84276f8ef486</td>\n",
       "    </tr>\n",
       "  </tbody>\n",
       "</table>\n",
       "</div>"
      ],
      "text/plain": [
       "           event_time event_type  product_id   category_id category_code  \\\n",
       "3 2019-10-01 00:00:07       cart     5881589  2.151191e+18          None   \n",
       "4 2019-10-01 00:00:15       cart     5881449  1.487580e+18          None   \n",
       "5 2019-10-01 00:00:16       cart     5857269  1.487580e+18          None   \n",
       "6 2019-10-01 00:00:19       cart     5739055  1.487580e+18          None   \n",
       "7 2019-10-01 00:00:24       cart     5825598  1.487580e+18          None   \n",
       "\n",
       "    brand  price    user_id                          user_session  \n",
       "3  lovely  13.48  429681830  49e8d843-adf3-428b-a2c3-fe8bc6a307c9  \n",
       "4  lovely   0.56  429681830  49e8d843-adf3-428b-a2c3-fe8bc6a307c9  \n",
       "5  runail   2.62  430174032  73dea1e7-664e-43f4-8b30-d32b9d5af04f  \n",
       "6  kapous   4.75  377667011  81326ac6-daa4-4f0a-b488-fd0956a78733  \n",
       "7    None   0.56  467916806  2f5b5546-b8cb-9ee7-7ecd-84276f8ef486  "
      ]
     },
     "execution_count": 271,
     "metadata": {},
     "output_type": "execute_result"
    }
   ],
   "source": [
    "df.head()"
   ]
  },
  {
   "cell_type": "markdown",
   "metadata": {},
   "source": [
    "### Data Cleaning Summary\n",
    "1. Include only the first purchase of those that have purchased\n",
    "2. Remove extraneous product categories (non-cosmetics products)\n",
    "3. Remove negatively priced items\n",
    "4. Remove rows with `remove_from_cart`\n",
    "5. Filter out one-time users"
   ]
  },
  {
   "cell_type": "code",
   "execution_count": 272,
   "metadata": {},
   "outputs": [],
   "source": [
    "# export cleaned data to create table in Postgres \n",
    "# this data table will be what I use for feature egineering\n",
    "df.to_csv('base_data_cleaned.csv', index=False)"
   ]
  },
  {
   "cell_type": "markdown",
   "metadata": {
    "toc-hr-collapsed": false
   },
   "source": [
    "<a id='feature'></a>\n",
    "## Feature Engineering"
   ]
  },
  {
   "cell_type": "markdown",
   "metadata": {},
   "source": [
    "### Create Target\n",
    "The target I am aiming to predict from this dataset is if a customer will make a purchase. The first step is to create a column that turns the \"purchase\" event into a binary classifier. From there, I can begin engineering other features to predict the event."
   ]
  },
  {
   "cell_type": "code",
   "execution_count": 277,
   "metadata": {},
   "outputs": [
    {
     "data": {
      "text/html": [
       "<div>\n",
       "<style scoped>\n",
       "    .dataframe tbody tr th:only-of-type {\n",
       "        vertical-align: middle;\n",
       "    }\n",
       "\n",
       "    .dataframe tbody tr th {\n",
       "        vertical-align: top;\n",
       "    }\n",
       "\n",
       "    .dataframe thead th {\n",
       "        text-align: right;\n",
       "    }\n",
       "</style>\n",
       "<table border=\"1\" class=\"dataframe\">\n",
       "  <thead>\n",
       "    <tr style=\"text-align: right;\">\n",
       "      <th></th>\n",
       "      <th>event_time</th>\n",
       "      <th>event_type</th>\n",
       "      <th>product_id</th>\n",
       "      <th>category_id</th>\n",
       "      <th>category_code</th>\n",
       "      <th>brand</th>\n",
       "      <th>price</th>\n",
       "      <th>user_id</th>\n",
       "      <th>user_session</th>\n",
       "      <th>purchased</th>\n",
       "    </tr>\n",
       "  </thead>\n",
       "  <tbody>\n",
       "    <tr>\n",
       "      <th>3</th>\n",
       "      <td>2019-10-01 00:00:07</td>\n",
       "      <td>cart</td>\n",
       "      <td>5881589</td>\n",
       "      <td>2.151191e+18</td>\n",
       "      <td>None</td>\n",
       "      <td>lovely</td>\n",
       "      <td>13.48</td>\n",
       "      <td>429681830</td>\n",
       "      <td>49e8d843-adf3-428b-a2c3-fe8bc6a307c9</td>\n",
       "      <td>0</td>\n",
       "    </tr>\n",
       "    <tr>\n",
       "      <th>4</th>\n",
       "      <td>2019-10-01 00:00:15</td>\n",
       "      <td>cart</td>\n",
       "      <td>5881449</td>\n",
       "      <td>1.487580e+18</td>\n",
       "      <td>None</td>\n",
       "      <td>lovely</td>\n",
       "      <td>0.56</td>\n",
       "      <td>429681830</td>\n",
       "      <td>49e8d843-adf3-428b-a2c3-fe8bc6a307c9</td>\n",
       "      <td>0</td>\n",
       "    </tr>\n",
       "    <tr>\n",
       "      <th>5</th>\n",
       "      <td>2019-10-01 00:00:16</td>\n",
       "      <td>cart</td>\n",
       "      <td>5857269</td>\n",
       "      <td>1.487580e+18</td>\n",
       "      <td>None</td>\n",
       "      <td>runail</td>\n",
       "      <td>2.62</td>\n",
       "      <td>430174032</td>\n",
       "      <td>73dea1e7-664e-43f4-8b30-d32b9d5af04f</td>\n",
       "      <td>0</td>\n",
       "    </tr>\n",
       "    <tr>\n",
       "      <th>6</th>\n",
       "      <td>2019-10-01 00:00:19</td>\n",
       "      <td>cart</td>\n",
       "      <td>5739055</td>\n",
       "      <td>1.487580e+18</td>\n",
       "      <td>None</td>\n",
       "      <td>kapous</td>\n",
       "      <td>4.75</td>\n",
       "      <td>377667011</td>\n",
       "      <td>81326ac6-daa4-4f0a-b488-fd0956a78733</td>\n",
       "      <td>0</td>\n",
       "    </tr>\n",
       "    <tr>\n",
       "      <th>7</th>\n",
       "      <td>2019-10-01 00:00:24</td>\n",
       "      <td>cart</td>\n",
       "      <td>5825598</td>\n",
       "      <td>1.487580e+18</td>\n",
       "      <td>None</td>\n",
       "      <td>None</td>\n",
       "      <td>0.56</td>\n",
       "      <td>467916806</td>\n",
       "      <td>2f5b5546-b8cb-9ee7-7ecd-84276f8ef486</td>\n",
       "      <td>0</td>\n",
       "    </tr>\n",
       "  </tbody>\n",
       "</table>\n",
       "</div>"
      ],
      "text/plain": [
       "           event_time event_type  product_id   category_id category_code  \\\n",
       "3 2019-10-01 00:00:07       cart     5881589  2.151191e+18          None   \n",
       "4 2019-10-01 00:00:15       cart     5881449  1.487580e+18          None   \n",
       "5 2019-10-01 00:00:16       cart     5857269  1.487580e+18          None   \n",
       "6 2019-10-01 00:00:19       cart     5739055  1.487580e+18          None   \n",
       "7 2019-10-01 00:00:24       cart     5825598  1.487580e+18          None   \n",
       "\n",
       "    brand  price    user_id                          user_session  purchased  \n",
       "3  lovely  13.48  429681830  49e8d843-adf3-428b-a2c3-fe8bc6a307c9          0  \n",
       "4  lovely   0.56  429681830  49e8d843-adf3-428b-a2c3-fe8bc6a307c9          0  \n",
       "5  runail   2.62  430174032  73dea1e7-664e-43f4-8b30-d32b9d5af04f          0  \n",
       "6  kapous   4.75  377667011  81326ac6-daa4-4f0a-b488-fd0956a78733          0  \n",
       "7    None   0.56  467916806  2f5b5546-b8cb-9ee7-7ecd-84276f8ef486          0  "
      ]
     },
     "execution_count": 277,
     "metadata": {},
     "output_type": "execute_result"
    }
   ],
   "source": [
    "# create target column with binary classifier\n",
    "df['purchased'] = np.where(df['event_type'] == 'purchase', 1, 0)\n",
    "df.head()"
   ]
  },
  {
   "cell_type": "markdown",
   "metadata": {},
   "source": [
    "### Create Modeling Dataset\n",
    "This approach will use features that are \"user-centric,\" meaning each line item will hold values for unique users. Each feature will contain roll-ups of that user's activity throughout the time period in which the data was captured."
   ]
  },
  {
   "cell_type": "code",
   "execution_count": 278,
   "metadata": {},
   "outputs": [],
   "source": [
    "# group the original dataframe by user\n",
    "by_user = df.groupby('user_id', as_index=False).purchased.sum()"
   ]
  },
  {
   "cell_type": "code",
   "execution_count": 279,
   "metadata": {},
   "outputs": [
    {
     "name": "stdout",
     "output_type": "stream",
     "text": [
      "<class 'pandas.core.frame.DataFrame'>\n",
      "Int64Index: 221069 entries, 0 to 221068\n",
      "Data columns (total 3 columns):\n",
      "user_id          221069 non-null int64\n",
      "purchased        221069 non-null int64\n",
      "num_purchases    221069 non-null int64\n",
      "dtypes: int64(3)\n",
      "memory usage: 6.7 MB\n"
     ]
    }
   ],
   "source": [
    "# create a column to hold the total number of purchases per user\n",
    "# change the 'purchased' column to a binary classification\n",
    "by_user['num_purchases'] = by_user['purchased']\n",
    "by_user['purchased'] = (by_user['purchased'] >= 1).astype(int)\n",
    "by_user.info()"
   ]
  },
  {
   "cell_type": "code",
   "execution_count": 280,
   "metadata": {},
   "outputs": [
    {
     "data": {
      "image/png": "[encoded data removed]",
      "text/plain": [
       "<Figure size 432x288 with 1 Axes>"
      ]
     },
     "metadata": {},
     "output_type": "display_data"
    }
   ],
   "source": [
    "# visualize feature classes to assess if there is imbalance\n",
    "by_user.purchased.value_counts().plot(kind='bar')\n",
    "plt.title('Target Classes');"
   ]
  },
  {
   "cell_type": "markdown",
   "metadata": {},
   "source": [
    "Whoa. The result set is highly skewed with more users that have not purchased, which is in line with what I'd expect for e-commerce data within this window. I will have to take this into account when testing classification methods by stratifying the prediction and over/undersampling."
   ]
  },
  {
   "cell_type": "markdown",
   "metadata": {},
   "source": [
    "### Recency, Frequency, Monetary Value\n",
    "Recency, frequency, and monetary value, commonly known as RFM, is a widely used metric in marketing analytics. This metric aims to group individual users into user segments, or cohorts, based on three factors:\n",
    "1. **Recency** - The last time the user made a purchase in the store. Since I am aiming to gauge future purchases based on behavior, I am adjusting this metric to reflect the last time the user made an action on the site. This value is represented as the number of days between the current date and the date of the last user action.\n",
    "2. **Frequency** - How many times the user made a purchase in a given window. Again, I will adjust this metric to include the number of actions taken rather than the number of purchases to better predict future purchases based on all behavior. \n",
    "3. **Monetary value** - The total dollar amount of all purchases made by the user. Similar to the other components, the typical RFM calculation will not work here, as we do not know whether the customer has made a purchase or not. To account for this, this value will measure the total value of products the customer has added to their cart."
   ]
  },
  {
   "cell_type": "code",
   "execution_count": 281,
   "metadata": {},
   "outputs": [],
   "source": [
    "# run sql query that calculates RFM scores and create dataframe\n",
    "query = \"\"\"\n",
    "WITH monetary_value_calc AS (\n",
    "    SELECT user_id,\n",
    "           AVG(product_value) AS monetary_value\n",
    "    FROM (\n",
    "         SELECT user_id,\n",
    "                user_session,\n",
    "                SUM(price) AS product_value\n",
    "        FROM base_data_cleaned\n",
    "        WHERE event_type != 'purchase'\n",
    "        GROUP BY 1, 2) AS total_value\n",
    "    GROUP BY 1\n",
    "),\n",
    "rfm_raw AS (\n",
    "    SELECT base_data_cleaned.user_id,\n",
    "           EXTRACT(DAY FROM CURRENT_DATE - MAX(event_time)) AS recency,\n",
    "           COUNT(DISTINCT user_session) AS frequency,\n",
    "           COALESCE(AVG(monetary_value), 0) AS monetary_value\n",
    "    FROM base_data_cleaned\n",
    "    LEFT JOIN monetary_value_calc\n",
    "        ON base_data_cleaned.user_id = monetary_value_calc.user_id\n",
    "    GROUP BY 1\n",
    "),\n",
    "rfm_scores AS (\n",
    "    SELECT rfm_raw.user_id,\n",
    "           NTILE(5) OVER(ORDER BY recency) AS r,\n",
    "           NTILE(5) OVER(ORDER BY frequency) AS f,\n",
    "           NTILE(5) OVER(ORDER BY monetary_value) AS m\n",
    "    FROM base_data_cleaned\n",
    "    JOIN rfm_raw\n",
    "    ON base_data_cleaned.user_id = rfm_raw.user_id\n",
    ")\n",
    "\n",
    "SELECT DISTINCT user_id,\n",
    "                rfm_raw.recency,\n",
    "                rfm_raw.frequency,\n",
    "                ROUND(rfm_raw.monetary_value, 2) AS monetary_value,\n",
    "                r,\n",
    "                f,\n",
    "                m,\n",
    "                CONCAT(r, f, m) AS rfm_score,\n",
    "                CAST(CONCAT(r, f, m) AS INT) AS rfm_int\n",
    "FROM rfm_raw\n",
    "JOIN rfm_scores\n",
    "USING(user_id);\n",
    "\"\"\"\n",
    "rfm = pd_sql.read_sql(query, connection)"
   ]
  },
  {
   "cell_type": "markdown",
   "metadata": {},
   "source": [
    "Note that for this query I took a few different cuts of the rfm calculation. I did this in order to test different combinations in the model, I'm not sure which will play nice."
   ]
  },
  {
   "cell_type": "code",
   "execution_count": 282,
   "metadata": {},
   "outputs": [
    {
     "name": "stdout",
     "output_type": "stream",
     "text": [
      "(221132, 9)\n"
     ]
    },
    {
     "data": {
      "text/html": [
       "<div>\n",
       "<style scoped>\n",
       "    .dataframe tbody tr th:only-of-type {\n",
       "        vertical-align: middle;\n",
       "    }\n",
       "\n",
       "    .dataframe tbody tr th {\n",
       "        vertical-align: top;\n",
       "    }\n",
       "\n",
       "    .dataframe thead th {\n",
       "        text-align: right;\n",
       "    }\n",
       "</style>\n",
       "<table border=\"1\" class=\"dataframe\">\n",
       "  <thead>\n",
       "    <tr style=\"text-align: right;\">\n",
       "      <th></th>\n",
       "      <th>user_id</th>\n",
       "      <th>recency</th>\n",
       "      <th>frequency</th>\n",
       "      <th>monetary_value</th>\n",
       "      <th>r</th>\n",
       "      <th>f</th>\n",
       "      <th>m</th>\n",
       "      <th>rfm_score</th>\n",
       "      <th>rfm_int</th>\n",
       "    </tr>\n",
       "  </thead>\n",
       "  <tbody>\n",
       "    <tr>\n",
       "      <th>0</th>\n",
       "      <td>1458813</td>\n",
       "      <td>81.0</td>\n",
       "      <td>4</td>\n",
       "      <td>39.84</td>\n",
       "      <td>2</td>\n",
       "      <td>2</td>\n",
       "      <td>3</td>\n",
       "      <td>223</td>\n",
       "      <td>223</td>\n",
       "    </tr>\n",
       "    <tr>\n",
       "      <th>1</th>\n",
       "      <td>8846226</td>\n",
       "      <td>131.0</td>\n",
       "      <td>2</td>\n",
       "      <td>63.46</td>\n",
       "      <td>5</td>\n",
       "      <td>1</td>\n",
       "      <td>4</td>\n",
       "      <td>514</td>\n",
       "      <td>514</td>\n",
       "    </tr>\n",
       "    <tr>\n",
       "      <th>2</th>\n",
       "      <td>9478445</td>\n",
       "      <td>94.0</td>\n",
       "      <td>4</td>\n",
       "      <td>11.31</td>\n",
       "      <td>3</td>\n",
       "      <td>3</td>\n",
       "      <td>1</td>\n",
       "      <td>331</td>\n",
       "      <td>331</td>\n",
       "    </tr>\n",
       "    <tr>\n",
       "      <th>3</th>\n",
       "      <td>9794320</td>\n",
       "      <td>77.0</td>\n",
       "      <td>11</td>\n",
       "      <td>26.42</td>\n",
       "      <td>2</td>\n",
       "      <td>4</td>\n",
       "      <td>2</td>\n",
       "      <td>242</td>\n",
       "      <td>242</td>\n",
       "    </tr>\n",
       "    <tr>\n",
       "      <th>4</th>\n",
       "      <td>10280338</td>\n",
       "      <td>82.0</td>\n",
       "      <td>3</td>\n",
       "      <td>143.30</td>\n",
       "      <td>2</td>\n",
       "      <td>2</td>\n",
       "      <td>5</td>\n",
       "      <td>225</td>\n",
       "      <td>225</td>\n",
       "    </tr>\n",
       "  </tbody>\n",
       "</table>\n",
       "</div>"
      ],
      "text/plain": [
       "    user_id  recency  frequency  monetary_value  r  f  m rfm_score  rfm_int\n",
       "0   1458813     81.0          4           39.84  2  2  3       223      223\n",
       "1   8846226    131.0          2           63.46  5  1  4       514      514\n",
       "2   9478445     94.0          4           11.31  3  3  1       331      331\n",
       "3   9794320     77.0         11           26.42  2  4  2       242      242\n",
       "4  10280338     82.0          3          143.30  2  2  5       225      225"
      ]
     },
     "execution_count": 282,
     "metadata": {},
     "output_type": "execute_result"
    }
   ],
   "source": [
    "print(rfm.shape)\n",
    "rfm.head()"
   ]
  },
  {
   "cell_type": "code",
   "execution_count": 121,
   "metadata": {},
   "outputs": [
    {
     "data": {
      "image/png": "[encoded data removed]",
      "text/plain": [
       "<Figure size 1260x1260 with 56 Axes>"
      ]
     },
     "metadata": {},
     "output_type": "display_data"
    }
   ],
   "source": [
    "# view distribution of features\n",
    "sns.pairplot(rfm.drop(['user_id', 'rfm_score', 'rfm_int'], axis=1));"
   ]
  },
  {
   "cell_type": "code",
   "execution_count": 283,
   "metadata": {},
   "outputs": [
    {
     "data": {
      "text/plain": [
       "(count    221132.000000\n",
       " mean         96.896085\n",
       " std          18.005230\n",
       " min          72.000000\n",
       " 25%          80.000000\n",
       " 50%          95.000000\n",
       " 75%         112.000000\n",
       " max         132.000000\n",
       " Name: recency, dtype: float64, count    221132.000000\n",
       " mean          4.851767\n",
       " std          17.460941\n",
       " min           1.000000\n",
       " 25%           2.000000\n",
       " 50%           2.000000\n",
       " 75%           4.000000\n",
       " max        5710.000000\n",
       " Name: frequency, dtype: float64, count    221132.000000\n",
       " mean         39.880046\n",
       " std          73.066406\n",
       " min           0.000000\n",
       " 25%           7.140000\n",
       " 50%          17.150000\n",
       " 75%          44.290000\n",
       " max        3093.070000\n",
       " Name: monetary_value, dtype: float64)"
      ]
     },
     "execution_count": 283,
     "metadata": {},
     "output_type": "execute_result"
    }
   ],
   "source": [
    "# view descriptive statistics of features\n",
    "rfm['recency'].describe(), rfm['frequency'].describe(), rfm['monetary_value'].describe()"
   ]
  },
  {
   "cell_type": "markdown",
   "metadata": {},
   "source": [
    "Aha! It looks like frequency and monetary_value are pretty highly skewed. These show that most customers visit the store pretty infrequenty, my hunch would be maybe 2 to 3 times within the given time period (since we removed one-time customers). The skew in monetary value makes sense because a lot of customers have never added anything to their cart. We filled these nulls with zero, so naturally the data will skew towards zero.\n",
    "\n",
    "To account for these extreme values, I will need to scale the features. A log transform will not work here because the minimum value is zero in the monetary value column, since there are customers that have not added any items to their cart.\n",
    "\n",
    "BUT WAIT: In that query to pull those values I binned each feature into quantiles. What I actually did here is a method known as <font color='red'>discretization</font>, which is a form of standardization. Passing these values, whether separate features or the combined integer value of the segments, effecively normalize the calculation."
   ]
  },
  {
   "cell_type": "code",
   "execution_count": 284,
   "metadata": {},
   "outputs": [],
   "source": [
    "# combine target column to features to color plot\n",
    "target = by_user[['user_id', 'purchased']]\n",
    "rfm_with_pred = rfm.merge(target, on='user_id')"
   ]
  },
  {
   "cell_type": "code",
   "execution_count": 287,
   "metadata": {},
   "outputs": [
    {
     "data": {
      "image/png": "[encoded data removed]",
      "text/plain": [
       "<Figure size 576x576 with 1 Axes>"
      ]
     },
     "metadata": {},
     "output_type": "display_data"
    }
   ],
   "source": [
    "# create axes to plot the values\n",
    "# plot frequency and monetary value on log scales to better show distribution of points\n",
    "r = rfm_with_pred['recency']\n",
    "f = np.log(rfm_with_pred['frequency'])\n",
    "m = np.log(rfm_with_pred['monetary_value'])\n",
    "c = rfm_with_pred['purchased'] == 0\n",
    "\n",
    "# plot 3d figure of rfm cohorts\n",
    "fig = plt.figure(figsize=(8, 8))\n",
    "ax = Axes3D(fig)\n",
    "\n",
    "ax.scatter(r, m, f, c=c, cmap='Set1', alpha=0.4)\n",
    "ax.set_title('RFM Three Dimensional Plot')\n",
    "ax.set_xlabel('Recency')\n",
    "ax.set_ylabel('Frequency')\n",
    "ax.set_zlabel('Monetary Value');"
   ]
  },
  {
   "cell_type": "markdown",
   "metadata": {
    "toc-hr-collapsed": false
   },
   "source": [
    "### Actions per user\n",
    "Calculate the number of each unique action per user; product views and adds to cart. The total number of purchases was already created when grouping by user, so this step will focus on creating features to quantify the other types of action."
   ]
  },
  {
   "cell_type": "code",
   "execution_count": 288,
   "metadata": {},
   "outputs": [],
   "source": [
    "query = \"\"\"\n",
    "SELECT user_id,\n",
    "       SUM(CASE WHEN event_type = 'view' THEN 1 ELSE 0 END) AS num_views,\n",
    "       SUM(CASE WHEN event_type = 'cart' THEN 1 ELSE 0 END) AS adds_to_cart\n",
    "FROM base_data_cleaned\n",
    "GROUP BY 1;\n",
    "\"\"\"\n",
    "actions = pd_sql.read_sql(query, connection)"
   ]
  },
  {
   "cell_type": "code",
   "execution_count": 289,
   "metadata": {},
   "outputs": [
    {
     "data": {
      "text/html": [
       "<div>\n",
       "<style scoped>\n",
       "    .dataframe tbody tr th:only-of-type {\n",
       "        vertical-align: middle;\n",
       "    }\n",
       "\n",
       "    .dataframe tbody tr th {\n",
       "        vertical-align: top;\n",
       "    }\n",
       "\n",
       "    .dataframe thead th {\n",
       "        text-align: right;\n",
       "    }\n",
       "</style>\n",
       "<table border=\"1\" class=\"dataframe\">\n",
       "  <thead>\n",
       "    <tr style=\"text-align: right;\">\n",
       "      <th></th>\n",
       "      <th>user_id</th>\n",
       "      <th>num_views</th>\n",
       "      <th>adds_to_cart</th>\n",
       "    </tr>\n",
       "  </thead>\n",
       "  <tbody>\n",
       "    <tr>\n",
       "      <th>0</th>\n",
       "      <td>1458813</td>\n",
       "      <td>29</td>\n",
       "      <td>0</td>\n",
       "    </tr>\n",
       "    <tr>\n",
       "      <th>1</th>\n",
       "      <td>8846226</td>\n",
       "      <td>7</td>\n",
       "      <td>24</td>\n",
       "    </tr>\n",
       "    <tr>\n",
       "      <th>2</th>\n",
       "      <td>9478445</td>\n",
       "      <td>4</td>\n",
       "      <td>0</td>\n",
       "    </tr>\n",
       "    <tr>\n",
       "      <th>3</th>\n",
       "      <td>9794320</td>\n",
       "      <td>65</td>\n",
       "      <td>46</td>\n",
       "    </tr>\n",
       "    <tr>\n",
       "      <th>4</th>\n",
       "      <td>10280338</td>\n",
       "      <td>40</td>\n",
       "      <td>36</td>\n",
       "    </tr>\n",
       "  </tbody>\n",
       "</table>\n",
       "</div>"
      ],
      "text/plain": [
       "    user_id  num_views  adds_to_cart\n",
       "0   1458813         29             0\n",
       "1   8846226          7            24\n",
       "2   9478445          4             0\n",
       "3   9794320         65            46\n",
       "4  10280338         40            36"
      ]
     },
     "execution_count": 289,
     "metadata": {},
     "output_type": "execute_result"
    }
   ],
   "source": [
    "actions.head()"
   ]
  },
  {
   "cell_type": "markdown",
   "metadata": {},
   "source": [
    "### Add to cart rate\n",
    "This feature is the measure of how often a customer added a product to their cart when they visited the store. This is a measure of customer intent and may be an indicator of future purchasing."
   ]
  },
  {
   "cell_type": "code",
   "execution_count": 290,
   "metadata": {},
   "outputs": [],
   "source": [
    "query = \"\"\"\n",
    "WITH cart_sessions AS (\n",
    "    SELECT base_data_cleaned.user_id,\n",
    "           add_to_cart_sessions,\n",
    "           COUNT(user_session) AS total_sessions\n",
    "    FROM base_data_cleaned\n",
    "    JOIN (\n",
    "        SELECT user_id,\n",
    "               COUNT(user_session) add_to_cart_sessions\n",
    "        FROM base_data_cleaned\n",
    "        WHERE event_type = 'cart'\n",
    "        GROUP BY 1) AS adds_to_cart\n",
    "        ON base_data_cleaned.user_id = adds_to_cart.user_id\n",
    "    GROUP BY 1, 2\n",
    ")\n",
    "\n",
    "SELECT user_id,\n",
    "       CASE WHEN total_sessions = 0 THEN 0 ELSE\n",
    "           ROUND(CAST(add_to_cart_sessions AS decimal) / total_sessions, 2) END AS add_to_cart_rate\n",
    "FROM cart_sessions;\n",
    "\"\"\"\n",
    "add_to_cart = pd_sql.read_sql(query, connection)"
   ]
  },
  {
   "cell_type": "code",
   "execution_count": 291,
   "metadata": {},
   "outputs": [
    {
     "data": {
      "text/html": [
       "<div>\n",
       "<style scoped>\n",
       "    .dataframe tbody tr th:only-of-type {\n",
       "        vertical-align: middle;\n",
       "    }\n",
       "\n",
       "    .dataframe tbody tr th {\n",
       "        vertical-align: top;\n",
       "    }\n",
       "\n",
       "    .dataframe thead th {\n",
       "        text-align: right;\n",
       "    }\n",
       "</style>\n",
       "<table border=\"1\" class=\"dataframe\">\n",
       "  <thead>\n",
       "    <tr style=\"text-align: right;\">\n",
       "      <th></th>\n",
       "      <th>user_id</th>\n",
       "      <th>add_to_cart_rate</th>\n",
       "    </tr>\n",
       "  </thead>\n",
       "  <tbody>\n",
       "    <tr>\n",
       "      <th>0</th>\n",
       "      <td>8846226</td>\n",
       "      <td>0.77</td>\n",
       "    </tr>\n",
       "    <tr>\n",
       "      <th>1</th>\n",
       "      <td>9794320</td>\n",
       "      <td>0.40</td>\n",
       "    </tr>\n",
       "    <tr>\n",
       "      <th>2</th>\n",
       "      <td>10280338</td>\n",
       "      <td>0.42</td>\n",
       "    </tr>\n",
       "    <tr>\n",
       "      <th>3</th>\n",
       "      <td>10968431</td>\n",
       "      <td>0.33</td>\n",
       "    </tr>\n",
       "    <tr>\n",
       "      <th>4</th>\n",
       "      <td>11274156</td>\n",
       "      <td>0.33</td>\n",
       "    </tr>\n",
       "  </tbody>\n",
       "</table>\n",
       "</div>"
      ],
      "text/plain": [
       "    user_id  add_to_cart_rate\n",
       "0   8846226              0.77\n",
       "1   9794320              0.40\n",
       "2  10280338              0.42\n",
       "3  10968431              0.33\n",
       "4  11274156              0.33"
      ]
     },
     "execution_count": 291,
     "metadata": {},
     "output_type": "execute_result"
    }
   ],
   "source": [
    "add_to_cart.head()"
   ]
  },
  {
   "cell_type": "markdown",
   "metadata": {},
   "source": [
    "### Brand segmentation\n",
    "Segmentation by brand may give insight into particular affinities for each customer. \n",
    "To model this in the data, I will create features for each brand based on each user's individual percentage of total views and percentage of total adds to cart for each brand. These features alongside the users' total views and adds to cart may give the model insight into particular thresholds for brand affinity that entices a customer to eventually make a purchase."
   ]
  },
  {
   "cell_type": "code",
   "execution_count": 292,
   "metadata": {},
   "outputs": [],
   "source": [
    "query = \"\"\"\n",
    "WITH brand_totals AS (\n",
    "    SELECT user_id,\n",
    "           COALESCE(brand, 'other') AS brand,\n",
    "           SUM(CASE WHEN event_type = 'view' THEN 1 ELSE 0 END) AS num_views_per_brand,\n",
    "           SUM(CASE WHEN event_type = 'cart' THEN 1 ELSE 0 END) AS num_carts_per_brand\n",
    "    FROM base_data_cleaned\n",
    "    GROUP BY 1, 2\n",
    "),\n",
    "user_totals AS (\n",
    "    SELECT DISTINCT user_id,\n",
    "                    COALESCE(brand, 'other') AS brand,\n",
    "                    SUM(CASE WHEN event_type = 'view' THEN 1 ELSE 0 END) OVER(PARTITION BY user_id) AS user_views,\n",
    "                    SUM(CASE WHEN event_type = 'cart' THEN 1 ELSE 0 END) OVER(PARTITION BY user_id) AS user_carts\n",
    "    FROM base_data_cleaned\n",
    ")\n",
    "\n",
    "SELECT brand_totals.user_id,\n",
    "       brand_totals.brand,\n",
    "       CASE WHEN user_views = 0 THEN 0 ELSE\n",
    "           ROUND(CAST(num_views_per_brand AS decimal) / user_views, 2) END AS perc_user_views,\n",
    "       CASE WHEN user_carts = 0 THEN 0 ELSE\n",
    "           ROUND(CAST(num_carts_per_brand AS decimal) / user_carts, 2) END AS perc_user_carts\n",
    "FROM brand_totals\n",
    "JOIN user_totals\n",
    "    USING(user_id, brand);\n",
    "\"\"\"\n",
    "brand_dist = pd_sql.read_sql(query, connection)"
   ]
  },
  {
   "cell_type": "code",
   "execution_count": 293,
   "metadata": {},
   "outputs": [
    {
     "data": {
      "image/png": "[encoded data removed]",
      "text/plain": [
       "<Figure size 432x288 with 1 Axes>"
      ]
     },
     "metadata": {},
     "output_type": "display_data"
    }
   ],
   "source": [
    "brand_dist.perc_user_views.hist();"
   ]
  },
  {
   "cell_type": "code",
   "execution_count": 294,
   "metadata": {},
   "outputs": [
    {
     "data": {
      "image/png": "[encoded data removed]",
      "text/plain": [
       "<Figure size 432x288 with 1 Axes>"
      ]
     },
     "metadata": {},
     "output_type": "display_data"
    }
   ],
   "source": [
    "brand_dist.perc_user_carts.hist();"
   ]
  },
  {
   "cell_type": "code",
   "execution_count": 295,
   "metadata": {},
   "outputs": [
    {
     "data": {
      "text/html": [
       "<div>\n",
       "<style scoped>\n",
       "    .dataframe tbody tr th:only-of-type {\n",
       "        vertical-align: middle;\n",
       "    }\n",
       "\n",
       "    .dataframe tbody tr th {\n",
       "        vertical-align: top;\n",
       "    }\n",
       "\n",
       "    .dataframe thead th {\n",
       "        text-align: right;\n",
       "    }\n",
       "</style>\n",
       "<table border=\"1\" class=\"dataframe\">\n",
       "  <thead>\n",
       "    <tr style=\"text-align: right;\">\n",
       "      <th></th>\n",
       "      <th>user_id</th>\n",
       "      <th>brand</th>\n",
       "      <th>perc_user_views</th>\n",
       "      <th>perc_user_carts</th>\n",
       "    </tr>\n",
       "  </thead>\n",
       "  <tbody>\n",
       "    <tr>\n",
       "      <th>0</th>\n",
       "      <td>1458813</td>\n",
       "      <td>f.o.x</td>\n",
       "      <td>0.72</td>\n",
       "      <td>0.00</td>\n",
       "    </tr>\n",
       "    <tr>\n",
       "      <th>1</th>\n",
       "      <td>8846226</td>\n",
       "      <td>kapous</td>\n",
       "      <td>0.14</td>\n",
       "      <td>0.29</td>\n",
       "    </tr>\n",
       "    <tr>\n",
       "      <th>2</th>\n",
       "      <td>10280338</td>\n",
       "      <td>other</td>\n",
       "      <td>0.05</td>\n",
       "      <td>0.11</td>\n",
       "    </tr>\n",
       "    <tr>\n",
       "      <th>3</th>\n",
       "      <td>13392135</td>\n",
       "      <td>cosmoprofi</td>\n",
       "      <td>0.21</td>\n",
       "      <td>0.33</td>\n",
       "    </tr>\n",
       "    <tr>\n",
       "      <th>4</th>\n",
       "      <td>13392135</td>\n",
       "      <td>other</td>\n",
       "      <td>0.29</td>\n",
       "      <td>0.44</td>\n",
       "    </tr>\n",
       "  </tbody>\n",
       "</table>\n",
       "</div>"
      ],
      "text/plain": [
       "    user_id       brand  perc_user_views  perc_user_carts\n",
       "0   1458813       f.o.x             0.72             0.00\n",
       "1   8846226      kapous             0.14             0.29\n",
       "2  10280338       other             0.05             0.11\n",
       "3  13392135  cosmoprofi             0.21             0.33\n",
       "4  13392135       other             0.29             0.44"
      ]
     },
     "execution_count": 295,
     "metadata": {},
     "output_type": "execute_result"
    }
   ],
   "source": [
    "brand_dist.head()"
   ]
  },
  {
   "cell_type": "code",
   "execution_count": 296,
   "metadata": {},
   "outputs": [],
   "source": [
    "# group by user_id and brand in order to unstack index and get individual columns per brand\n",
    "group_user_categories = brand_dist.groupby(['user_id', 'brand']).mean()"
   ]
  },
  {
   "cell_type": "code",
   "execution_count": 297,
   "metadata": {},
   "outputs": [],
   "source": [
    "# unstack the dataframe and create separate columns for each brand; fill nulls with zero\n",
    "brand_unstack = group_user_categories.unstack(level=-1).fillna(0)"
   ]
  },
  {
   "cell_type": "code",
   "execution_count": 298,
   "metadata": {},
   "outputs": [],
   "source": [
    "# user a list comprehension to create unique feature names for each brand + metric\n",
    "brand_unstack.columns = ['_'.join(col) for col in brand_unstack.columns]"
   ]
  },
  {
   "cell_type": "code",
   "execution_count": 299,
   "metadata": {},
   "outputs": [],
   "source": [
    "# drop the \"other\" category columns in the perc_user_views and perc_user_charts\n",
    "brand_metrics = brand_unstack.drop(['perc_user_views_other', 'perc_user_carts_other'], axis=1)"
   ]
  },
  {
   "cell_type": "code",
   "execution_count": 300,
   "metadata": {},
   "outputs": [
    {
     "data": {
      "text/html": [
       "<div>\n",
       "<style scoped>\n",
       "    .dataframe tbody tr th:only-of-type {\n",
       "        vertical-align: middle;\n",
       "    }\n",
       "\n",
       "    .dataframe tbody tr th {\n",
       "        vertical-align: top;\n",
       "    }\n",
       "\n",
       "    .dataframe thead th {\n",
       "        text-align: right;\n",
       "    }\n",
       "</style>\n",
       "<table border=\"1\" class=\"dataframe\">\n",
       "  <thead>\n",
       "    <tr style=\"text-align: right;\">\n",
       "      <th></th>\n",
       "      <th>perc_user_views_airnails</th>\n",
       "      <th>perc_user_views_almea</th>\n",
       "      <th>perc_user_views_andrea</th>\n",
       "      <th>perc_user_views_ardell</th>\n",
       "      <th>perc_user_views_art-visage</th>\n",
       "      <th>perc_user_views_artex</th>\n",
       "      <th>perc_user_views_aura</th>\n",
       "      <th>perc_user_views_australis</th>\n",
       "      <th>perc_user_views_balbcare</th>\n",
       "      <th>perc_user_views_barbie</th>\n",
       "      <th>...</th>\n",
       "      <th>perc_user_carts_vilenta</th>\n",
       "      <th>perc_user_carts_vl-gel</th>\n",
       "      <th>perc_user_carts_vosev</th>\n",
       "      <th>perc_user_carts_weaver</th>\n",
       "      <th>perc_user_carts_yoko</th>\n",
       "      <th>perc_user_carts_ypsed</th>\n",
       "      <th>perc_user_carts_yu-r</th>\n",
       "      <th>perc_user_carts_zab</th>\n",
       "      <th>perc_user_carts_zeitun</th>\n",
       "      <th>perc_user_carts_zinger</th>\n",
       "    </tr>\n",
       "    <tr>\n",
       "      <th>user_id</th>\n",
       "      <th></th>\n",
       "      <th></th>\n",
       "      <th></th>\n",
       "      <th></th>\n",
       "      <th></th>\n",
       "      <th></th>\n",
       "      <th></th>\n",
       "      <th></th>\n",
       "      <th></th>\n",
       "      <th></th>\n",
       "      <th></th>\n",
       "      <th></th>\n",
       "      <th></th>\n",
       "      <th></th>\n",
       "      <th></th>\n",
       "      <th></th>\n",
       "      <th></th>\n",
       "      <th></th>\n",
       "      <th></th>\n",
       "      <th></th>\n",
       "      <th></th>\n",
       "    </tr>\n",
       "  </thead>\n",
       "  <tbody>\n",
       "    <tr>\n",
       "      <th>1458813</th>\n",
       "      <td>0.00</td>\n",
       "      <td>0.0</td>\n",
       "      <td>0.0</td>\n",
       "      <td>0.0</td>\n",
       "      <td>0.0</td>\n",
       "      <td>0.0</td>\n",
       "      <td>0.0</td>\n",
       "      <td>0.0</td>\n",
       "      <td>0.0</td>\n",
       "      <td>0.0</td>\n",
       "      <td>...</td>\n",
       "      <td>0.00</td>\n",
       "      <td>0.0</td>\n",
       "      <td>0.0</td>\n",
       "      <td>0.0</td>\n",
       "      <td>0.0</td>\n",
       "      <td>0.0</td>\n",
       "      <td>0.0</td>\n",
       "      <td>0.0</td>\n",
       "      <td>0.0</td>\n",
       "      <td>0.0</td>\n",
       "    </tr>\n",
       "    <tr>\n",
       "      <th>8846226</th>\n",
       "      <td>0.00</td>\n",
       "      <td>0.0</td>\n",
       "      <td>0.0</td>\n",
       "      <td>0.0</td>\n",
       "      <td>0.0</td>\n",
       "      <td>0.0</td>\n",
       "      <td>0.0</td>\n",
       "      <td>0.0</td>\n",
       "      <td>0.0</td>\n",
       "      <td>0.0</td>\n",
       "      <td>...</td>\n",
       "      <td>0.04</td>\n",
       "      <td>0.0</td>\n",
       "      <td>0.0</td>\n",
       "      <td>0.0</td>\n",
       "      <td>0.0</td>\n",
       "      <td>0.0</td>\n",
       "      <td>0.0</td>\n",
       "      <td>0.0</td>\n",
       "      <td>0.0</td>\n",
       "      <td>0.0</td>\n",
       "    </tr>\n",
       "    <tr>\n",
       "      <th>9478445</th>\n",
       "      <td>0.00</td>\n",
       "      <td>0.0</td>\n",
       "      <td>0.0</td>\n",
       "      <td>0.0</td>\n",
       "      <td>0.0</td>\n",
       "      <td>0.0</td>\n",
       "      <td>0.0</td>\n",
       "      <td>0.0</td>\n",
       "      <td>0.0</td>\n",
       "      <td>0.0</td>\n",
       "      <td>...</td>\n",
       "      <td>0.00</td>\n",
       "      <td>0.0</td>\n",
       "      <td>0.0</td>\n",
       "      <td>0.0</td>\n",
       "      <td>0.0</td>\n",
       "      <td>0.0</td>\n",
       "      <td>0.0</td>\n",
       "      <td>0.0</td>\n",
       "      <td>0.0</td>\n",
       "      <td>0.0</td>\n",
       "    </tr>\n",
       "    <tr>\n",
       "      <th>9794320</th>\n",
       "      <td>0.00</td>\n",
       "      <td>0.0</td>\n",
       "      <td>0.0</td>\n",
       "      <td>0.0</td>\n",
       "      <td>0.0</td>\n",
       "      <td>0.0</td>\n",
       "      <td>0.0</td>\n",
       "      <td>0.0</td>\n",
       "      <td>0.0</td>\n",
       "      <td>0.0</td>\n",
       "      <td>...</td>\n",
       "      <td>0.00</td>\n",
       "      <td>0.0</td>\n",
       "      <td>0.0</td>\n",
       "      <td>0.0</td>\n",
       "      <td>0.0</td>\n",
       "      <td>0.0</td>\n",
       "      <td>0.0</td>\n",
       "      <td>0.0</td>\n",
       "      <td>0.0</td>\n",
       "      <td>0.0</td>\n",
       "    </tr>\n",
       "    <tr>\n",
       "      <th>10280338</th>\n",
       "      <td>0.03</td>\n",
       "      <td>0.0</td>\n",
       "      <td>0.0</td>\n",
       "      <td>0.0</td>\n",
       "      <td>0.0</td>\n",
       "      <td>0.0</td>\n",
       "      <td>0.0</td>\n",
       "      <td>0.0</td>\n",
       "      <td>0.0</td>\n",
       "      <td>0.0</td>\n",
       "      <td>...</td>\n",
       "      <td>0.00</td>\n",
       "      <td>0.0</td>\n",
       "      <td>0.0</td>\n",
       "      <td>0.0</td>\n",
       "      <td>0.0</td>\n",
       "      <td>0.0</td>\n",
       "      <td>0.0</td>\n",
       "      <td>0.0</td>\n",
       "      <td>0.0</td>\n",
       "      <td>0.0</td>\n",
       "    </tr>\n",
       "  </tbody>\n",
       "</table>\n",
       "<p>5 rows × 474 columns</p>\n",
       "</div>"
      ],
      "text/plain": [
       "          perc_user_views_airnails  perc_user_views_almea  \\\n",
       "user_id                                                     \n",
       "1458813                       0.00                    0.0   \n",
       "8846226                       0.00                    0.0   \n",
       "9478445                       0.00                    0.0   \n",
       "9794320                       0.00                    0.0   \n",
       "10280338                      0.03                    0.0   \n",
       "\n",
       "          perc_user_views_andrea  perc_user_views_ardell  \\\n",
       "user_id                                                    \n",
       "1458813                      0.0                     0.0   \n",
       "8846226                      0.0                     0.0   \n",
       "9478445                      0.0                     0.0   \n",
       "9794320                      0.0                     0.0   \n",
       "10280338                     0.0                     0.0   \n",
       "\n",
       "          perc_user_views_art-visage  perc_user_views_artex  \\\n",
       "user_id                                                       \n",
       "1458813                          0.0                    0.0   \n",
       "8846226                          0.0                    0.0   \n",
       "9478445                          0.0                    0.0   \n",
       "9794320                          0.0                    0.0   \n",
       "10280338                         0.0                    0.0   \n",
       "\n",
       "          perc_user_views_aura  perc_user_views_australis  \\\n",
       "user_id                                                     \n",
       "1458813                    0.0                        0.0   \n",
       "8846226                    0.0                        0.0   \n",
       "9478445                    0.0                        0.0   \n",
       "9794320                    0.0                        0.0   \n",
       "10280338                   0.0                        0.0   \n",
       "\n",
       "          perc_user_views_balbcare  perc_user_views_barbie  ...  \\\n",
       "user_id                                                     ...   \n",
       "1458813                        0.0                     0.0  ...   \n",
       "8846226                        0.0                     0.0  ...   \n",
       "9478445                        0.0                     0.0  ...   \n",
       "9794320                        0.0                     0.0  ...   \n",
       "10280338                       0.0                     0.0  ...   \n",
       "\n",
       "          perc_user_carts_vilenta  perc_user_carts_vl-gel  \\\n",
       "user_id                                                     \n",
       "1458813                      0.00                     0.0   \n",
       "8846226                      0.04                     0.0   \n",
       "9478445                      0.00                     0.0   \n",
       "9794320                      0.00                     0.0   \n",
       "10280338                     0.00                     0.0   \n",
       "\n",
       "          perc_user_carts_vosev  perc_user_carts_weaver  perc_user_carts_yoko  \\\n",
       "user_id                                                                         \n",
       "1458813                     0.0                     0.0                   0.0   \n",
       "8846226                     0.0                     0.0                   0.0   \n",
       "9478445                     0.0                     0.0                   0.0   \n",
       "9794320                     0.0                     0.0                   0.0   \n",
       "10280338                    0.0                     0.0                   0.0   \n",
       "\n",
       "          perc_user_carts_ypsed  perc_user_carts_yu-r  perc_user_carts_zab  \\\n",
       "user_id                                                                      \n",
       "1458813                     0.0                   0.0                  0.0   \n",
       "8846226                     0.0                   0.0                  0.0   \n",
       "9478445                     0.0                   0.0                  0.0   \n",
       "9794320                     0.0                   0.0                  0.0   \n",
       "10280338                    0.0                   0.0                  0.0   \n",
       "\n",
       "          perc_user_carts_zeitun  perc_user_carts_zinger  \n",
       "user_id                                                   \n",
       "1458813                      0.0                     0.0  \n",
       "8846226                      0.0                     0.0  \n",
       "9478445                      0.0                     0.0  \n",
       "9794320                      0.0                     0.0  \n",
       "10280338                     0.0                     0.0  \n",
       "\n",
       "[5 rows x 474 columns]"
      ]
     },
     "execution_count": 300,
     "metadata": {},
     "output_type": "execute_result"
    }
   ],
   "source": [
    "brand_metrics.head()"
   ]
  },
  {
   "cell_type": "markdown",
   "metadata": {},
   "source": [
    "Now this is quite a bit of features, but what if this is all noise? What if the brand itself that drew the attention of each customer didn't matter at all, rather the fact that the customer directed attention toward any brand in the fashion that they did. To simulate this and roll up the data, I will also include a single value for the percent of views and the percent of adds to cart for each customer that takes the maximum value for each customer from the distribution of brands."
   ]
  },
  {
   "cell_type": "code",
   "execution_count": 301,
   "metadata": {},
   "outputs": [],
   "source": [
    "max_vals = brand_dist.groupby('user_id', as_index=False).max()"
   ]
  },
  {
   "cell_type": "code",
   "execution_count": 302,
   "metadata": {},
   "outputs": [],
   "source": [
    "# drop the brand columns\n",
    "max_vals = max_vals.drop('brand', axis=1)"
   ]
  },
  {
   "cell_type": "code",
   "execution_count": 303,
   "metadata": {},
   "outputs": [
    {
     "data": {
      "text/html": [
       "<div>\n",
       "<style scoped>\n",
       "    .dataframe tbody tr th:only-of-type {\n",
       "        vertical-align: middle;\n",
       "    }\n",
       "\n",
       "    .dataframe tbody tr th {\n",
       "        vertical-align: top;\n",
       "    }\n",
       "\n",
       "    .dataframe thead th {\n",
       "        text-align: right;\n",
       "    }\n",
       "</style>\n",
       "<table border=\"1\" class=\"dataframe\">\n",
       "  <thead>\n",
       "    <tr style=\"text-align: right;\">\n",
       "      <th></th>\n",
       "      <th>user_id</th>\n",
       "      <th>max_perc_user_views</th>\n",
       "      <th>max_perc_user_carts</th>\n",
       "    </tr>\n",
       "  </thead>\n",
       "  <tbody>\n",
       "    <tr>\n",
       "      <th>0</th>\n",
       "      <td>1458813</td>\n",
       "      <td>0.72</td>\n",
       "      <td>0.00</td>\n",
       "    </tr>\n",
       "    <tr>\n",
       "      <th>1</th>\n",
       "      <td>8846226</td>\n",
       "      <td>0.57</td>\n",
       "      <td>0.33</td>\n",
       "    </tr>\n",
       "    <tr>\n",
       "      <th>2</th>\n",
       "      <td>9478445</td>\n",
       "      <td>0.50</td>\n",
       "      <td>0.00</td>\n",
       "    </tr>\n",
       "    <tr>\n",
       "      <th>3</th>\n",
       "      <td>9794320</td>\n",
       "      <td>0.80</td>\n",
       "      <td>0.63</td>\n",
       "    </tr>\n",
       "    <tr>\n",
       "      <th>4</th>\n",
       "      <td>10280338</td>\n",
       "      <td>0.50</td>\n",
       "      <td>0.44</td>\n",
       "    </tr>\n",
       "  </tbody>\n",
       "</table>\n",
       "</div>"
      ],
      "text/plain": [
       "    user_id  max_perc_user_views  max_perc_user_carts\n",
       "0   1458813                 0.72                 0.00\n",
       "1   8846226                 0.57                 0.33\n",
       "2   9478445                 0.50                 0.00\n",
       "3   9794320                 0.80                 0.63\n",
       "4  10280338                 0.50                 0.44"
      ]
     },
     "execution_count": 303,
     "metadata": {},
     "output_type": "execute_result"
    }
   ],
   "source": [
    "# rename the columns to avoid confusion with brand columns created from metrics\n",
    "max_vals = max_vals.rename(columns={'perc_user_views': 'max_perc_user_views', 'perc_user_carts': 'max_perc_user_carts'})\n",
    "max_vals.head()"
   ]
  },
  {
   "cell_type": "markdown",
   "metadata": {},
   "source": [
    "Now the dataset will include a measure of a customers' affinity to view or add products to cart of particular brands. Let's see how this impacts the overall classification of each customer."
   ]
  },
  {
   "cell_type": "markdown",
   "metadata": {},
   "source": [
    "### Time-based components\n",
    "To introduce a time-based component to the model, I will create a feature that measures the average number of days between customer visits as well as the total range in days between first and last visit. The goal here is to create metrics that provide insight into customer intent. Does a customer that visits the store more frequently suggest they will soon make a purchase. This used in conjunction with the frequency metric, which represents the total number of sessions the customer logged, may tell that story in the model."
   ]
  },
  {
   "cell_type": "code",
   "execution_count": 313,
   "metadata": {},
   "outputs": [],
   "source": [
    "query = \"\"\"\n",
    "SELECT user_id,\n",
    "       EXTRACT(DAY FROM (MAX(event_time) - MIN(event_time))) AS range_visits,\n",
    "       ROUND(CAST(EXTRACT(DAY FROM (MAX(event_time) - MIN(event_time))) /\n",
    "                  COUNT(DISTINCT user_session) AS decimal), 2) AS avg_days_btw_sessions\n",
    "FROM base_data_cleaned\n",
    "GROUP BY 1;\n",
    "\"\"\"\n",
    "time_based = pd_sql.read_sql(query, connection)"
   ]
  },
  {
   "cell_type": "code",
   "execution_count": 314,
   "metadata": {},
   "outputs": [
    {
     "data": {
      "text/html": [
       "<div>\n",
       "<style scoped>\n",
       "    .dataframe tbody tr th:only-of-type {\n",
       "        vertical-align: middle;\n",
       "    }\n",
       "\n",
       "    .dataframe tbody tr th {\n",
       "        vertical-align: top;\n",
       "    }\n",
       "\n",
       "    .dataframe thead th {\n",
       "        text-align: right;\n",
       "    }\n",
       "</style>\n",
       "<table border=\"1\" class=\"dataframe\">\n",
       "  <thead>\n",
       "    <tr style=\"text-align: right;\">\n",
       "      <th></th>\n",
       "      <th>user_id</th>\n",
       "      <th>range_visits</th>\n",
       "      <th>avg_days_btw_sessions</th>\n",
       "    </tr>\n",
       "  </thead>\n",
       "  <tbody>\n",
       "    <tr>\n",
       "      <th>0</th>\n",
       "      <td>1458813</td>\n",
       "      <td>1.0</td>\n",
       "      <td>0.25</td>\n",
       "    </tr>\n",
       "    <tr>\n",
       "      <th>1</th>\n",
       "      <td>8846226</td>\n",
       "      <td>0.0</td>\n",
       "      <td>0.00</td>\n",
       "    </tr>\n",
       "    <tr>\n",
       "      <th>2</th>\n",
       "      <td>9478445</td>\n",
       "      <td>0.0</td>\n",
       "      <td>0.00</td>\n",
       "    </tr>\n",
       "    <tr>\n",
       "      <th>3</th>\n",
       "      <td>9794320</td>\n",
       "      <td>54.0</td>\n",
       "      <td>4.91</td>\n",
       "    </tr>\n",
       "    <tr>\n",
       "      <th>4</th>\n",
       "      <td>10280338</td>\n",
       "      <td>30.0</td>\n",
       "      <td>10.00</td>\n",
       "    </tr>\n",
       "  </tbody>\n",
       "</table>\n",
       "</div>"
      ],
      "text/plain": [
       "    user_id  range_visits  avg_days_btw_sessions\n",
       "0   1458813           1.0                   0.25\n",
       "1   8846226           0.0                   0.00\n",
       "2   9478445           0.0                   0.00\n",
       "3   9794320          54.0                   4.91\n",
       "4  10280338          30.0                  10.00"
      ]
     },
     "execution_count": 314,
     "metadata": {},
     "output_type": "execute_result"
    }
   ],
   "source": [
    "time_based.head()"
   ]
  },
  {
   "cell_type": "markdown",
   "metadata": {},
   "source": [
    "### Average price of products viewed and added to cart\n",
    "To gain further insight into customer affinity toward different pricing tiers, I will segment pricing by products viewed and added to cart per user"
   ]
  },
  {
   "cell_type": "code",
   "execution_count": 340,
   "metadata": {},
   "outputs": [],
   "source": [
    "query = \"\"\"\n",
    "WITH view_price AS (\n",
    "    SELECT user_id,\n",
    "           AVG(price) AS avg_view_price\n",
    "    FROM base_data_cleaned\n",
    "    WHERE event_type = 'view'\n",
    "    GROUP BY 1\n",
    "),\n",
    "cart_price AS (\n",
    "    SELECT user_id,\n",
    "           AVG(price) AS avg_cart_price\n",
    "    FROM base_data_cleaned\n",
    "    WHERE event_type = 'cart'\n",
    "    GROUP BY 1\n",
    ")\n",
    "\n",
    "SELECT user_id,\n",
    "       ROUND(avg_view_price, 2) AS avg_view_price,\n",
    "       ROUND(COALESCE(avg_cart_price, 0), 2) AS avg_cart_price\n",
    "FROM view_price\n",
    "LEFT JOIN cart_price\n",
    "USING(user_id);\n",
    "\"\"\"\n",
    "avg_price = pd_sql.read_sql(query, connection)"
   ]
  },
  {
   "cell_type": "code",
   "execution_count": 341,
   "metadata": {},
   "outputs": [
    {
     "data": {
      "text/html": [
       "<div>\n",
       "<style scoped>\n",
       "    .dataframe tbody tr th:only-of-type {\n",
       "        vertical-align: middle;\n",
       "    }\n",
       "\n",
       "    .dataframe tbody tr th {\n",
       "        vertical-align: top;\n",
       "    }\n",
       "\n",
       "    .dataframe thead th {\n",
       "        text-align: right;\n",
       "    }\n",
       "</style>\n",
       "<table border=\"1\" class=\"dataframe\">\n",
       "  <thead>\n",
       "    <tr style=\"text-align: right;\">\n",
       "      <th></th>\n",
       "      <th>user_id</th>\n",
       "      <th>avg_view_price</th>\n",
       "      <th>avg_cart_price</th>\n",
       "    </tr>\n",
       "  </thead>\n",
       "  <tbody>\n",
       "    <tr>\n",
       "      <th>0</th>\n",
       "      <td>1458813</td>\n",
       "      <td>5.50</td>\n",
       "      <td>0.00</td>\n",
       "    </tr>\n",
       "    <tr>\n",
       "      <th>1</th>\n",
       "      <td>10280338</td>\n",
       "      <td>6.05</td>\n",
       "      <td>5.22</td>\n",
       "    </tr>\n",
       "    <tr>\n",
       "      <th>2</th>\n",
       "      <td>13392135</td>\n",
       "      <td>5.81</td>\n",
       "      <td>5.45</td>\n",
       "    </tr>\n",
       "    <tr>\n",
       "      <th>3</th>\n",
       "      <td>14297993</td>\n",
       "      <td>12.87</td>\n",
       "      <td>6.62</td>\n",
       "    </tr>\n",
       "    <tr>\n",
       "      <th>4</th>\n",
       "      <td>15781728</td>\n",
       "      <td>3.73</td>\n",
       "      <td>3.47</td>\n",
       "    </tr>\n",
       "  </tbody>\n",
       "</table>\n",
       "</div>"
      ],
      "text/plain": [
       "    user_id  avg_view_price  avg_cart_price\n",
       "0   1458813            5.50            0.00\n",
       "1  10280338            6.05            5.22\n",
       "2  13392135            5.81            5.45\n",
       "3  14297993           12.87            6.62\n",
       "4  15781728            3.73            3.47"
      ]
     },
     "execution_count": 341,
     "metadata": {},
     "output_type": "execute_result"
    }
   ],
   "source": [
    "avg_price.head()"
   ]
  },
  {
   "cell_type": "markdown",
   "metadata": {},
   "source": [
    "<a id='export'></a>\n",
    "## Merge DataFrames and Export\n",
    "Merge dataframes created with new features to the original, grouped dataframe. Export the resulting dataframe as the dataset to run models for classification."
   ]
  },
  {
   "cell_type": "code",
   "execution_count": 342,
   "metadata": {},
   "outputs": [],
   "source": [
    "# merge rfm scores onto grouped dataframe\n",
    "users = by_user.merge(rfm, on='user_id')"
   ]
  },
  {
   "cell_type": "code",
   "execution_count": 343,
   "metadata": {},
   "outputs": [],
   "source": [
    "# merge user actions data\n",
    "users = users.merge(actions, on='user_id')"
   ]
  },
  {
   "cell_type": "code",
   "execution_count": 344,
   "metadata": {},
   "outputs": [],
   "source": [
    "# merge add to cart rate data\n",
    "users = users.merge(add_to_cart, how='left', on='user_id')"
   ]
  },
  {
   "cell_type": "code",
   "execution_count": 345,
   "metadata": {},
   "outputs": [],
   "source": [
    "# merge brand segmentation metrics to create final modeling set\n",
    "# users = users.merge(brand_metrics, how='left', on='user_id')"
   ]
  },
  {
   "cell_type": "code",
   "execution_count": 346,
   "metadata": {},
   "outputs": [],
   "source": [
    "users = users.merge(max_vals, how='left', on='user_id')"
   ]
  },
  {
   "cell_type": "code",
   "execution_count": 347,
   "metadata": {},
   "outputs": [],
   "source": [
    "users = users.merge(time_based, on='user_id')"
   ]
  },
  {
   "cell_type": "code",
   "execution_count": 348,
   "metadata": {},
   "outputs": [],
   "source": [
    "users = users.merge(avg_price, on='user_id')"
   ]
  },
  {
   "cell_type": "markdown",
   "metadata": {},
   "source": [
    "The percentage metrics (add to cart rate, user views %, and add to cart %) produced nulls due to the left joins in order to preserve customers that may not have added to their cart. To reflect the customers' that did not add to their cart, I will fill all null values with zero. "
   ]
  },
  {
   "cell_type": "code",
   "execution_count": 349,
   "metadata": {},
   "outputs": [],
   "source": [
    "# fill null values with zero\n",
    "users = users.fillna(0)"
   ]
  },
  {
   "cell_type": "markdown",
   "metadata": {},
   "source": [
    "Finally, I will need to drop the number of purchases metric to prevent data leakage in my models."
   ]
  },
  {
   "cell_type": "code",
   "execution_count": 350,
   "metadata": {},
   "outputs": [],
   "source": [
    "users = users.drop('num_purchases', axis=1)"
   ]
  },
  {
   "cell_type": "code",
   "execution_count": 351,
   "metadata": {},
   "outputs": [
    {
     "name": "stdout",
     "output_type": "stream",
     "text": [
      "(217743, 19)\n"
     ]
    },
    {
     "data": {
      "text/html": [
       "<div>\n",
       "<style scoped>\n",
       "    .dataframe tbody tr th:only-of-type {\n",
       "        vertical-align: middle;\n",
       "    }\n",
       "\n",
       "    .dataframe tbody tr th {\n",
       "        vertical-align: top;\n",
       "    }\n",
       "\n",
       "    .dataframe thead th {\n",
       "        text-align: right;\n",
       "    }\n",
       "</style>\n",
       "<table border=\"1\" class=\"dataframe\">\n",
       "  <thead>\n",
       "    <tr style=\"text-align: right;\">\n",
       "      <th></th>\n",
       "      <th>user_id</th>\n",
       "      <th>purchased</th>\n",
       "      <th>recency</th>\n",
       "      <th>frequency</th>\n",
       "      <th>monetary_value</th>\n",
       "      <th>r</th>\n",
       "      <th>f</th>\n",
       "      <th>m</th>\n",
       "      <th>rfm_score</th>\n",
       "      <th>rfm_int</th>\n",
       "      <th>num_views</th>\n",
       "      <th>adds_to_cart</th>\n",
       "      <th>add_to_cart_rate</th>\n",
       "      <th>max_perc_user_views</th>\n",
       "      <th>max_perc_user_carts</th>\n",
       "      <th>range_visits</th>\n",
       "      <th>avg_days_btw_sessions</th>\n",
       "      <th>avg_view_price</th>\n",
       "      <th>avg_cart_price</th>\n",
       "    </tr>\n",
       "  </thead>\n",
       "  <tbody>\n",
       "    <tr>\n",
       "      <th>0</th>\n",
       "      <td>1458813</td>\n",
       "      <td>0</td>\n",
       "      <td>81.0</td>\n",
       "      <td>4</td>\n",
       "      <td>39.84</td>\n",
       "      <td>2</td>\n",
       "      <td>2</td>\n",
       "      <td>3</td>\n",
       "      <td>223</td>\n",
       "      <td>223</td>\n",
       "      <td>29</td>\n",
       "      <td>0</td>\n",
       "      <td>0.00</td>\n",
       "      <td>0.72</td>\n",
       "      <td>0.00</td>\n",
       "      <td>1.0</td>\n",
       "      <td>0.25</td>\n",
       "      <td>5.50</td>\n",
       "      <td>0.00</td>\n",
       "    </tr>\n",
       "    <tr>\n",
       "      <th>1</th>\n",
       "      <td>8846226</td>\n",
       "      <td>0</td>\n",
       "      <td>131.0</td>\n",
       "      <td>2</td>\n",
       "      <td>63.46</td>\n",
       "      <td>5</td>\n",
       "      <td>1</td>\n",
       "      <td>4</td>\n",
       "      <td>514</td>\n",
       "      <td>514</td>\n",
       "      <td>7</td>\n",
       "      <td>24</td>\n",
       "      <td>0.77</td>\n",
       "      <td>0.57</td>\n",
       "      <td>0.33</td>\n",
       "      <td>0.0</td>\n",
       "      <td>0.00</td>\n",
       "      <td>5.63</td>\n",
       "      <td>3.65</td>\n",
       "    </tr>\n",
       "    <tr>\n",
       "      <th>2</th>\n",
       "      <td>9478445</td>\n",
       "      <td>0</td>\n",
       "      <td>94.0</td>\n",
       "      <td>4</td>\n",
       "      <td>11.31</td>\n",
       "      <td>3</td>\n",
       "      <td>3</td>\n",
       "      <td>1</td>\n",
       "      <td>331</td>\n",
       "      <td>331</td>\n",
       "      <td>4</td>\n",
       "      <td>0</td>\n",
       "      <td>0.00</td>\n",
       "      <td>0.50</td>\n",
       "      <td>0.00</td>\n",
       "      <td>0.0</td>\n",
       "      <td>0.00</td>\n",
       "      <td>11.31</td>\n",
       "      <td>0.00</td>\n",
       "    </tr>\n",
       "    <tr>\n",
       "      <th>3</th>\n",
       "      <td>9794320</td>\n",
       "      <td>1</td>\n",
       "      <td>77.0</td>\n",
       "      <td>11</td>\n",
       "      <td>26.42</td>\n",
       "      <td>2</td>\n",
       "      <td>4</td>\n",
       "      <td>2</td>\n",
       "      <td>242</td>\n",
       "      <td>242</td>\n",
       "      <td>65</td>\n",
       "      <td>46</td>\n",
       "      <td>0.40</td>\n",
       "      <td>0.80</td>\n",
       "      <td>0.63</td>\n",
       "      <td>54.0</td>\n",
       "      <td>4.91</td>\n",
       "      <td>2.99</td>\n",
       "      <td>2.10</td>\n",
       "    </tr>\n",
       "    <tr>\n",
       "      <th>4</th>\n",
       "      <td>10280338</td>\n",
       "      <td>1</td>\n",
       "      <td>82.0</td>\n",
       "      <td>3</td>\n",
       "      <td>143.30</td>\n",
       "      <td>2</td>\n",
       "      <td>2</td>\n",
       "      <td>5</td>\n",
       "      <td>225</td>\n",
       "      <td>225</td>\n",
       "      <td>40</td>\n",
       "      <td>36</td>\n",
       "      <td>0.42</td>\n",
       "      <td>0.50</td>\n",
       "      <td>0.44</td>\n",
       "      <td>30.0</td>\n",
       "      <td>10.00</td>\n",
       "      <td>6.05</td>\n",
       "      <td>5.22</td>\n",
       "    </tr>\n",
       "  </tbody>\n",
       "</table>\n",
       "</div>"
      ],
      "text/plain": [
       "    user_id  purchased  recency  frequency  monetary_value  r  f  m rfm_score  \\\n",
       "0   1458813          0     81.0          4           39.84  2  2  3       223   \n",
       "1   8846226          0    131.0          2           63.46  5  1  4       514   \n",
       "2   9478445          0     94.0          4           11.31  3  3  1       331   \n",
       "3   9794320          1     77.0         11           26.42  2  4  2       242   \n",
       "4  10280338          1     82.0          3          143.30  2  2  5       225   \n",
       "\n",
       "   rfm_int  num_views  adds_to_cart  add_to_cart_rate  max_perc_user_views  \\\n",
       "0      223         29             0              0.00                 0.72   \n",
       "1      514          7            24              0.77                 0.57   \n",
       "2      331          4             0              0.00                 0.50   \n",
       "3      242         65            46              0.40                 0.80   \n",
       "4      225         40            36              0.42                 0.50   \n",
       "\n",
       "   max_perc_user_carts  range_visits  avg_days_btw_sessions  avg_view_price  \\\n",
       "0                 0.00           1.0                   0.25            5.50   \n",
       "1                 0.33           0.0                   0.00            5.63   \n",
       "2                 0.00           0.0                   0.00           11.31   \n",
       "3                 0.63          54.0                   4.91            2.99   \n",
       "4                 0.44          30.0                  10.00            6.05   \n",
       "\n",
       "   avg_cart_price  \n",
       "0            0.00  \n",
       "1            3.65  \n",
       "2            0.00  \n",
       "3            2.10  \n",
       "4            5.22  "
      ]
     },
     "execution_count": 351,
     "metadata": {},
     "output_type": "execute_result"
    }
   ],
   "source": [
    "print(users.shape)\n",
    "users.head()"
   ]
  },
  {
   "cell_type": "code",
   "execution_count": 352,
   "metadata": {},
   "outputs": [],
   "source": [
    "# export dataframe to pickle file to easily import in modeling notebook\n",
    "with open('modeling_data.pickle', 'wb') as outfile:\n",
    "    pickle.dump(users, outfile)"
   ]
  }
 ],
 "metadata": {
  "kernelspec": {
   "display_name": "Python 3",
   "language": "python",
   "name": "python3"
  },
  "language_info": {
   "codemirror_mode": {
    "name": "ipython",
    "version": 3
   },
   "file_extension": ".py",
   "mimetype": "text/x-python",
   "name": "python",
   "nbconvert_exporter": "python",
   "pygments_lexer": "ipython3",
   "version": "3.7.4"
  },
  "pycharm": {
   "stem_cell": {
    "cell_type": "raw",
    "metadata": {
     "collapsed": false
    },
    "source": []
   }
  },
  "toc-autonumbering": false,
  "toc-showcode": false,
  "toc-showmarkdowntxt": false,
  "toc-showtags": false
 },
 "nbformat": 4,
 "nbformat_minor": 4
}
