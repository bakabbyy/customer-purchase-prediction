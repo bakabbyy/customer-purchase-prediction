{
 "cells": [
  {
   "cell_type": "markdown",
   "metadata": {
    "toc-hr-collapsed": false
   },
   "source": [
    "# Exploratory Data Analysis & Feature Engineering"
   ]
  },
  {
   "cell_type": "markdown",
   "metadata": {},
   "source": [
    "## Table of Contents\n",
    "<ul>\n",
    "<li><a href=\"#intro\">Introduction</a></li>\n",
    "<li><a href=\"#cleaning\">Data Cleaning</a></li>\n",
    "<li><a href=\"#feature\">Feature Engineering</a></li>\n",
    "<li><a href=\"#export\">Export Data</a></li>\n",
    "</ul>"
   ]
  },
  {
   "cell_type": "markdown",
   "metadata": {},
   "source": [
    "<a id='intro'></a>\n",
    "## Introduction\n",
    "This dataset consists of over 8.5M rows of consumer behavior data across an online cosmetics storefront. Every record contains a unique timestamp corresponding to an action the user took on the site; which includes viewing a product, adding a product to their cart, removing a product from the cart, and purchasing an item.  \n",
    "\n",
    "The goal for this project is to predict if a customer will make <font color='red'>[their first?]</font> purchase. To achieve this, all of the features will need to be created to aggregate individual user actions leading up to their purchase."
   ]
  },
  {
   "cell_type": "code",
   "execution_count": 1,
   "metadata": {
    "pycharm": {
     "is_executing": false
    }
   },
   "outputs": [],
   "source": [
    "# import necessary packages\n",
    "import pandas as pd\n",
    "import numpy as np\n",
    "import pickle\n",
    "\n",
    "import psycopg2 as pg\n",
    "import pandas.io.sql as pd_sql\n",
    "\n",
    "import matplotlib.pyplot as plt\n",
    "import seaborn as sns\n",
    "%matplotlib inline"
   ]
  },
  {
   "cell_type": "code",
   "execution_count": 2,
   "metadata": {},
   "outputs": [],
   "source": [
    "# set plot style for visualizations\n",
    "#plt.style.use('dark_background')\n",
    "plt.style.use('ggplot')"
   ]
  },
  {
   "cell_type": "code",
   "execution_count": 3,
   "metadata": {},
   "outputs": [],
   "source": [
    "# set up connection to postgres\n",
    "connection_args = {\n",
    "    'host': 'localhost',  \n",
    "    'dbname': 'events',    \n",
    "    'port': 5432          \n",
    "}\n",
    "connection = pg.connect(**connection_args)"
   ]
  },
  {
   "cell_type": "code",
   "execution_count": 4,
   "metadata": {
    "collapsed": false,
    "jupyter": {
     "outputs_hidden": false
    },
    "pycharm": {
     "is_executing": false,
     "name": "#%%\n"
    }
   },
   "outputs": [
    {
     "name": "stdout",
     "output_type": "stream",
     "text": [
      "(8738120, 9)\n"
     ]
    },
    {
     "data": {
      "text/html": [
       "<div>\n",
       "<style scoped>\n",
       "    .dataframe tbody tr th:only-of-type {\n",
       "        vertical-align: middle;\n",
       "    }\n",
       "\n",
       "    .dataframe tbody tr th {\n",
       "        vertical-align: top;\n",
       "    }\n",
       "\n",
       "    .dataframe thead th {\n",
       "        text-align: right;\n",
       "    }\n",
       "</style>\n",
       "<table border=\"1\" class=\"dataframe\">\n",
       "  <thead>\n",
       "    <tr style=\"text-align: right;\">\n",
       "      <th></th>\n",
       "      <th>event_time</th>\n",
       "      <th>event_type</th>\n",
       "      <th>product_id</th>\n",
       "      <th>category_id</th>\n",
       "      <th>category_code</th>\n",
       "      <th>brand</th>\n",
       "      <th>price</th>\n",
       "      <th>user_id</th>\n",
       "      <th>user_session</th>\n",
       "    </tr>\n",
       "  </thead>\n",
       "  <tbody>\n",
       "    <tr>\n",
       "      <th>0</th>\n",
       "      <td>2019-10-01 00:00:00</td>\n",
       "      <td>cart</td>\n",
       "      <td>5773203</td>\n",
       "      <td>1.487580e+18</td>\n",
       "      <td>None</td>\n",
       "      <td>runail</td>\n",
       "      <td>2.62</td>\n",
       "      <td>463240011</td>\n",
       "      <td>26dd6e6e-4dac-4778-8d2c-92e149dab885</td>\n",
       "    </tr>\n",
       "    <tr>\n",
       "      <th>1</th>\n",
       "      <td>2019-10-01 00:00:03</td>\n",
       "      <td>cart</td>\n",
       "      <td>5773353</td>\n",
       "      <td>1.487580e+18</td>\n",
       "      <td>None</td>\n",
       "      <td>runail</td>\n",
       "      <td>2.62</td>\n",
       "      <td>463240011</td>\n",
       "      <td>26dd6e6e-4dac-4778-8d2c-92e149dab885</td>\n",
       "    </tr>\n",
       "    <tr>\n",
       "      <th>2</th>\n",
       "      <td>2019-10-01 00:00:07</td>\n",
       "      <td>cart</td>\n",
       "      <td>5881589</td>\n",
       "      <td>2.151191e+18</td>\n",
       "      <td>None</td>\n",
       "      <td>lovely</td>\n",
       "      <td>13.48</td>\n",
       "      <td>429681830</td>\n",
       "      <td>49e8d843-adf3-428b-a2c3-fe8bc6a307c9</td>\n",
       "    </tr>\n",
       "    <tr>\n",
       "      <th>3</th>\n",
       "      <td>2019-10-01 00:00:07</td>\n",
       "      <td>cart</td>\n",
       "      <td>5723490</td>\n",
       "      <td>1.487580e+18</td>\n",
       "      <td>None</td>\n",
       "      <td>runail</td>\n",
       "      <td>2.62</td>\n",
       "      <td>463240011</td>\n",
       "      <td>26dd6e6e-4dac-4778-8d2c-92e149dab885</td>\n",
       "    </tr>\n",
       "    <tr>\n",
       "      <th>4</th>\n",
       "      <td>2019-10-01 00:00:15</td>\n",
       "      <td>cart</td>\n",
       "      <td>5881449</td>\n",
       "      <td>1.487580e+18</td>\n",
       "      <td>None</td>\n",
       "      <td>lovely</td>\n",
       "      <td>0.56</td>\n",
       "      <td>429681830</td>\n",
       "      <td>49e8d843-adf3-428b-a2c3-fe8bc6a307c9</td>\n",
       "    </tr>\n",
       "  </tbody>\n",
       "</table>\n",
       "</div>"
      ],
      "text/plain": [
       "           event_time event_type  product_id   category_id category_code  \\\n",
       "0 2019-10-01 00:00:00       cart     5773203  1.487580e+18          None   \n",
       "1 2019-10-01 00:00:03       cart     5773353  1.487580e+18          None   \n",
       "2 2019-10-01 00:00:07       cart     5881589  2.151191e+18          None   \n",
       "3 2019-10-01 00:00:07       cart     5723490  1.487580e+18          None   \n",
       "4 2019-10-01 00:00:15       cart     5881449  1.487580e+18          None   \n",
       "\n",
       "    brand  price    user_id                          user_session  \n",
       "0  runail   2.62  463240011  26dd6e6e-4dac-4778-8d2c-92e149dab885  \n",
       "1  runail   2.62  463240011  26dd6e6e-4dac-4778-8d2c-92e149dab885  \n",
       "2  lovely  13.48  429681830  49e8d843-adf3-428b-a2c3-fe8bc6a307c9  \n",
       "3  runail   2.62  463240011  26dd6e6e-4dac-4778-8d2c-92e149dab885  \n",
       "4  lovely   0.56  429681830  49e8d843-adf3-428b-a2c3-fe8bc6a307c9  "
      ]
     },
     "execution_count": 4,
     "metadata": {},
     "output_type": "execute_result"
    }
   ],
   "source": [
    "# read in the dataset and label columns\n",
    "query = \"SELECT * FROM all_events;\"\n",
    "df = pd_sql.read_sql(query, connection)\n",
    "print(df.shape)\n",
    "df.head()"
   ]
  },
  {
   "cell_type": "markdown",
   "metadata": {},
   "source": [
    "The dataset contains 8.7M rows and 9 columns. The data represents individual actions taken by each user throughout each session."
   ]
  },
  {
   "cell_type": "markdown",
   "metadata": {},
   "source": [
    "<a id='cleaning'></a>\n",
    "## Data Cleaning\n",
    "<ol>\n",
    "<li><a href=\"#cosmetics\">Non-cosmetics categories</a></li>\n",
    "<li><a href=\"#negative\">Negatively priced items</a></li>\n",
    "<li><a href=\"#remove\">Removed from cart</a></li>\n",
    "<li><a href=\"#first\">One-time visitors</a></li>\n",
    "</ol>"
   ]
  },
  {
   "cell_type": "code",
   "execution_count": 5,
   "metadata": {},
   "outputs": [
    {
     "name": "stdout",
     "output_type": "stream",
     "text": [
      "<class 'pandas.core.frame.DataFrame'>\n",
      "RangeIndex: 8738120 entries, 0 to 8738119\n",
      "Data columns (total 9 columns):\n",
      "event_time       8738120 non-null datetime64[ns]\n",
      "event_type       8738120 non-null object\n",
      "product_id       8738120 non-null int64\n",
      "category_id      8738120 non-null float64\n",
      "category_code    143225 non-null object\n",
      "brand            5092830 non-null object\n",
      "price            8738120 non-null float64\n",
      "user_id          8738120 non-null int64\n",
      "user_session     8736670 non-null object\n",
      "dtypes: datetime64[ns](1), float64(2), int64(2), object(4)\n",
      "memory usage: 600.0+ MB\n"
     ]
    }
   ],
   "source": [
    "df.info(verbose=True, null_counts=True)"
   ]
  },
  {
   "cell_type": "markdown",
   "metadata": {},
   "source": [
    "There are quite a few null values in the `category_code` column."
   ]
  },
  {
   "cell_type": "code",
   "execution_count": 6,
   "metadata": {},
   "outputs": [
    {
     "data": {
      "text/plain": [
       "appliances.environment.vacuum             59761\n",
       "stationery.cartrige                       26722\n",
       "apparel.glove                             18232\n",
       "furniture.living_room.cabinet             13439\n",
       "accessories.bag                           11681\n",
       "furniture.bathroom.bath                    9857\n",
       "appliances.personal.hair_cutter            1643\n",
       "accessories.cosmetic_bag                   1248\n",
       "appliances.environment.air_conditioner      332\n",
       "furniture.living_room.chair                 308\n",
       "sport.diving                                  2\n",
       "Name: category_code, dtype: int64"
      ]
     },
     "execution_count": 6,
     "metadata": {},
     "output_type": "execute_result"
    }
   ],
   "source": [
    "df.category_code.value_counts()"
   ]
  },
  {
   "cell_type": "markdown",
   "metadata": {},
   "source": [
    "<a id='cosmetics'></a>\n",
    "### 1. Non-cosmetics categories"
   ]
  },
  {
   "cell_type": "markdown",
   "metadata": {},
   "source": [
    "The non-null columns appear to be non-cosmetic. These are assumed to be erroneous data and will be removed from the dataset."
   ]
  },
  {
   "cell_type": "code",
   "execution_count": 7,
   "metadata": {},
   "outputs": [
    {
     "data": {
      "text/plain": [
       "(8594895, 9)"
      ]
     },
     "execution_count": 7,
     "metadata": {},
     "output_type": "execute_result"
    }
   ],
   "source": [
    "df = df[df.category_code.isnull()]\n",
    "df.shape"
   ]
  },
  {
   "cell_type": "markdown",
   "metadata": {},
   "source": [
    "<a id='negative'></a>\n",
    "### 2. Negatively priced items"
   ]
  },
  {
   "cell_type": "markdown",
   "metadata": {},
   "source": [
    "Next let's look at the range in product pricing. Gauging propensity to purchase could potentially be pricing based, so it's good to get a sense of the pricing distribution"
   ]
  },
  {
   "cell_type": "code",
   "execution_count": 8,
   "metadata": {},
   "outputs": [
    {
     "data": {
      "image/png": "[encoded data removed]",
      "text/plain": [
       "<Figure size 432x288 with 1 Axes>"
      ]
     },
     "metadata": {},
     "output_type": "display_data"
    }
   ],
   "source": [
    "df.price.hist();"
   ]
  },
  {
   "cell_type": "markdown",
   "metadata": {},
   "source": [
    "There seem to be some items that are priced negatively."
   ]
  },
  {
   "cell_type": "code",
   "execution_count": 9,
   "metadata": {},
   "outputs": [
    {
     "data": {
      "text/html": [
       "<div>\n",
       "<style scoped>\n",
       "    .dataframe tbody tr th:only-of-type {\n",
       "        vertical-align: middle;\n",
       "    }\n",
       "\n",
       "    .dataframe tbody tr th {\n",
       "        vertical-align: top;\n",
       "    }\n",
       "\n",
       "    .dataframe thead th {\n",
       "        text-align: right;\n",
       "    }\n",
       "</style>\n",
       "<table border=\"1\" class=\"dataframe\">\n",
       "  <thead>\n",
       "    <tr style=\"text-align: right;\">\n",
       "      <th></th>\n",
       "      <th>event_time</th>\n",
       "      <th>event_type</th>\n",
       "      <th>product_id</th>\n",
       "      <th>category_id</th>\n",
       "      <th>category_code</th>\n",
       "      <th>brand</th>\n",
       "      <th>price</th>\n",
       "      <th>user_id</th>\n",
       "      <th>user_session</th>\n",
       "    </tr>\n",
       "  </thead>\n",
       "  <tbody>\n",
       "    <tr>\n",
       "      <th>112860</th>\n",
       "      <td>2019-10-01 19:10:56</td>\n",
       "      <td>purchase</td>\n",
       "      <td>5716857</td>\n",
       "      <td>1.487580e+18</td>\n",
       "      <td>None</td>\n",
       "      <td>None</td>\n",
       "      <td>-23.81</td>\n",
       "      <td>552507528</td>\n",
       "      <td>dcdd60c6-1a70-442d-bfb2-0252879054ad</td>\n",
       "    </tr>\n",
       "    <tr>\n",
       "      <th>198302</th>\n",
       "      <td>2019-10-02 08:30:03</td>\n",
       "      <td>purchase</td>\n",
       "      <td>5716855</td>\n",
       "      <td>1.487580e+18</td>\n",
       "      <td>None</td>\n",
       "      <td>None</td>\n",
       "      <td>-7.94</td>\n",
       "      <td>550375225</td>\n",
       "      <td>5ddec778-9464-4514-914d-be7b751b8e2c</td>\n",
       "    </tr>\n",
       "    <tr>\n",
       "      <th>436918</th>\n",
       "      <td>2019-10-03 17:37:04</td>\n",
       "      <td>purchase</td>\n",
       "      <td>5716859</td>\n",
       "      <td>1.487580e+18</td>\n",
       "      <td>None</td>\n",
       "      <td>None</td>\n",
       "      <td>-47.62</td>\n",
       "      <td>555414763</td>\n",
       "      <td>479149eb-1807-4178-8f6b-87c642350735</td>\n",
       "    </tr>\n",
       "    <tr>\n",
       "      <th>443204</th>\n",
       "      <td>2019-10-03 18:25:39</td>\n",
       "      <td>purchase</td>\n",
       "      <td>5670257</td>\n",
       "      <td>1.487580e+18</td>\n",
       "      <td>None</td>\n",
       "      <td>None</td>\n",
       "      <td>-15.87</td>\n",
       "      <td>556383221</td>\n",
       "      <td>4333d203-bc4d-4d0d-a6e1-0ea3a97a28c1</td>\n",
       "    </tr>\n",
       "    <tr>\n",
       "      <th>1295556</th>\n",
       "      <td>2019-10-09 14:49:14</td>\n",
       "      <td>purchase</td>\n",
       "      <td>5716855</td>\n",
       "      <td>1.487580e+18</td>\n",
       "      <td>None</td>\n",
       "      <td>None</td>\n",
       "      <td>-7.94</td>\n",
       "      <td>514562574</td>\n",
       "      <td>fed2aeb4-0c75-44f7-9ca8-1a8be8214779</td>\n",
       "    </tr>\n",
       "    <tr>\n",
       "      <th>1426186</th>\n",
       "      <td>2019-10-10 14:33:29</td>\n",
       "      <td>purchase</td>\n",
       "      <td>5716855</td>\n",
       "      <td>1.487580e+18</td>\n",
       "      <td>None</td>\n",
       "      <td>None</td>\n",
       "      <td>-7.94</td>\n",
       "      <td>558797258</td>\n",
       "      <td>a406cf28-f04b-4361-8e6a-c62d36045e07</td>\n",
       "    </tr>\n",
       "    <tr>\n",
       "      <th>1519246</th>\n",
       "      <td>2019-10-11 10:27:19</td>\n",
       "      <td>purchase</td>\n",
       "      <td>5716859</td>\n",
       "      <td>1.487580e+18</td>\n",
       "      <td>None</td>\n",
       "      <td>None</td>\n",
       "      <td>-47.62</td>\n",
       "      <td>543647038</td>\n",
       "      <td>85e11d74-6583-4eab-b50c-ff86dbb25d97</td>\n",
       "    </tr>\n",
       "    <tr>\n",
       "      <th>1783312</th>\n",
       "      <td>2019-10-13 16:46:01</td>\n",
       "      <td>purchase</td>\n",
       "      <td>5716857</td>\n",
       "      <td>1.487580e+18</td>\n",
       "      <td>None</td>\n",
       "      <td>None</td>\n",
       "      <td>-23.81</td>\n",
       "      <td>559820267</td>\n",
       "      <td>f178c995-f004-4040-b26d-b1cca0f9657d</td>\n",
       "    </tr>\n",
       "    <tr>\n",
       "      <th>1924072</th>\n",
       "      <td>2019-10-14 17:33:24</td>\n",
       "      <td>purchase</td>\n",
       "      <td>5716861</td>\n",
       "      <td>1.487580e+18</td>\n",
       "      <td>None</td>\n",
       "      <td>None</td>\n",
       "      <td>-79.37</td>\n",
       "      <td>541122983</td>\n",
       "      <td>b60f777d-afca-4299-8548-273b810d6130</td>\n",
       "    </tr>\n",
       "    <tr>\n",
       "      <th>2143763</th>\n",
       "      <td>2019-10-16 11:41:06</td>\n",
       "      <td>purchase</td>\n",
       "      <td>5716857</td>\n",
       "      <td>1.487580e+18</td>\n",
       "      <td>None</td>\n",
       "      <td>None</td>\n",
       "      <td>-23.81</td>\n",
       "      <td>461943726</td>\n",
       "      <td>beefa8fb-a3d1-48ca-97e9-9c95b05ee997</td>\n",
       "    </tr>\n",
       "    <tr>\n",
       "      <th>2286569</th>\n",
       "      <td>2019-10-17 11:41:07</td>\n",
       "      <td>purchase</td>\n",
       "      <td>5670257</td>\n",
       "      <td>1.487580e+18</td>\n",
       "      <td>None</td>\n",
       "      <td>None</td>\n",
       "      <td>-15.87</td>\n",
       "      <td>557964596</td>\n",
       "      <td>4f4ee4c7-8081-41f1-91bb-ea74a7f1669d</td>\n",
       "    </tr>\n",
       "    <tr>\n",
       "      <th>2418566</th>\n",
       "      <td>2019-10-18 12:27:23</td>\n",
       "      <td>purchase</td>\n",
       "      <td>5670257</td>\n",
       "      <td>1.487580e+18</td>\n",
       "      <td>None</td>\n",
       "      <td>None</td>\n",
       "      <td>-15.87</td>\n",
       "      <td>558697902</td>\n",
       "      <td>8ad665ca-1cd9-46a5-a95c-996fe3afa08f</td>\n",
       "    </tr>\n",
       "    <tr>\n",
       "      <th>3056821</th>\n",
       "      <td>2019-10-23 15:11:37</td>\n",
       "      <td>purchase</td>\n",
       "      <td>5670257</td>\n",
       "      <td>1.487580e+18</td>\n",
       "      <td>None</td>\n",
       "      <td>None</td>\n",
       "      <td>-15.87</td>\n",
       "      <td>563375190</td>\n",
       "      <td>e925f825-c62a-4e0d-bf80-884ca1c66f41</td>\n",
       "    </tr>\n",
       "    <tr>\n",
       "      <th>3135434</th>\n",
       "      <td>2019-10-24 08:10:06</td>\n",
       "      <td>purchase</td>\n",
       "      <td>5716859</td>\n",
       "      <td>1.487580e+18</td>\n",
       "      <td>None</td>\n",
       "      <td>None</td>\n",
       "      <td>-47.62</td>\n",
       "      <td>545859098</td>\n",
       "      <td>95ed1875-cb64-443d-90bb-17d0dc596c10</td>\n",
       "    </tr>\n",
       "    <tr>\n",
       "      <th>3502423</th>\n",
       "      <td>2019-10-27 11:24:32</td>\n",
       "      <td>purchase</td>\n",
       "      <td>5716859</td>\n",
       "      <td>1.487580e+18</td>\n",
       "      <td>None</td>\n",
       "      <td>None</td>\n",
       "      <td>-47.62</td>\n",
       "      <td>564627373</td>\n",
       "      <td>81d564e9-55b3-4929-9132-6353cab08a97</td>\n",
       "    </tr>\n",
       "    <tr>\n",
       "      <th>3593035</th>\n",
       "      <td>2019-10-28 04:19:20</td>\n",
       "      <td>purchase</td>\n",
       "      <td>5670257</td>\n",
       "      <td>1.487580e+18</td>\n",
       "      <td>None</td>\n",
       "      <td>None</td>\n",
       "      <td>-15.87</td>\n",
       "      <td>564602671</td>\n",
       "      <td>527638c5-23bb-98f7-3776-6278c0776b84</td>\n",
       "    </tr>\n",
       "    <tr>\n",
       "      <th>3608727</th>\n",
       "      <td>2019-10-28 07:41:54</td>\n",
       "      <td>purchase</td>\n",
       "      <td>5716857</td>\n",
       "      <td>1.487580e+18</td>\n",
       "      <td>None</td>\n",
       "      <td>None</td>\n",
       "      <td>-23.81</td>\n",
       "      <td>385939606</td>\n",
       "      <td>2255291d-8060-4ce9-934c-458a3bd0b944</td>\n",
       "    </tr>\n",
       "    <tr>\n",
       "      <th>3670217</th>\n",
       "      <td>2019-10-28 15:43:59</td>\n",
       "      <td>purchase</td>\n",
       "      <td>5670257</td>\n",
       "      <td>1.487580e+18</td>\n",
       "      <td>None</td>\n",
       "      <td>None</td>\n",
       "      <td>-15.87</td>\n",
       "      <td>562756002</td>\n",
       "      <td>6f5bc29c-5ea9-4157-9d9e-7ceabb1e993c</td>\n",
       "    </tr>\n",
       "    <tr>\n",
       "      <th>3798007</th>\n",
       "      <td>2019-10-29 14:34:24</td>\n",
       "      <td>purchase</td>\n",
       "      <td>5716857</td>\n",
       "      <td>1.487580e+18</td>\n",
       "      <td>None</td>\n",
       "      <td>None</td>\n",
       "      <td>-23.81</td>\n",
       "      <td>554081558</td>\n",
       "      <td>4b84a8f9-97d7-4eb1-b120-7b34ddfe9a85</td>\n",
       "    </tr>\n",
       "    <tr>\n",
       "      <th>3807737</th>\n",
       "      <td>2019-10-29 16:07:23</td>\n",
       "      <td>purchase</td>\n",
       "      <td>5716859</td>\n",
       "      <td>1.487580e+18</td>\n",
       "      <td>None</td>\n",
       "      <td>None</td>\n",
       "      <td>-47.62</td>\n",
       "      <td>546120591</td>\n",
       "      <td>31cd4767-fadb-43ea-8a3f-f8769dd83fcf</td>\n",
       "    </tr>\n",
       "    <tr>\n",
       "      <th>4175457</th>\n",
       "      <td>2019-11-01 15:36:23</td>\n",
       "      <td>purchase</td>\n",
       "      <td>5716855</td>\n",
       "      <td>1.487580e+18</td>\n",
       "      <td>None</td>\n",
       "      <td>None</td>\n",
       "      <td>-7.94</td>\n",
       "      <td>566480066</td>\n",
       "      <td>34fa4291-9e2e-470f-a678-b84d9bbbdfe3</td>\n",
       "    </tr>\n",
       "    <tr>\n",
       "      <th>4432906</th>\n",
       "      <td>2019-11-03 18:47:04</td>\n",
       "      <td>purchase</td>\n",
       "      <td>5716859</td>\n",
       "      <td>1.487580e+18</td>\n",
       "      <td>None</td>\n",
       "      <td>None</td>\n",
       "      <td>-47.62</td>\n",
       "      <td>567194545</td>\n",
       "      <td>fd27b149-3006-41cd-8afc-884c47272e5d</td>\n",
       "    </tr>\n",
       "    <tr>\n",
       "      <th>4510519</th>\n",
       "      <td>2019-11-04 11:54:29</td>\n",
       "      <td>purchase</td>\n",
       "      <td>5670257</td>\n",
       "      <td>1.487580e+18</td>\n",
       "      <td>None</td>\n",
       "      <td>None</td>\n",
       "      <td>-15.87</td>\n",
       "      <td>516725846</td>\n",
       "      <td>26e74f0c-762a-4162-b807-72a3e7bfa015</td>\n",
       "    </tr>\n",
       "    <tr>\n",
       "      <th>4510520</th>\n",
       "      <td>2019-11-04 11:54:29</td>\n",
       "      <td>purchase</td>\n",
       "      <td>5716857</td>\n",
       "      <td>1.487580e+18</td>\n",
       "      <td>None</td>\n",
       "      <td>None</td>\n",
       "      <td>-23.81</td>\n",
       "      <td>516725846</td>\n",
       "      <td>26e74f0c-762a-4162-b807-72a3e7bfa015</td>\n",
       "    </tr>\n",
       "    <tr>\n",
       "      <th>4510521</th>\n",
       "      <td>2019-11-04 11:54:29</td>\n",
       "      <td>purchase</td>\n",
       "      <td>5716857</td>\n",
       "      <td>1.487580e+18</td>\n",
       "      <td>None</td>\n",
       "      <td>None</td>\n",
       "      <td>-23.81</td>\n",
       "      <td>516725846</td>\n",
       "      <td>26e74f0c-762a-4162-b807-72a3e7bfa015</td>\n",
       "    </tr>\n",
       "    <tr>\n",
       "      <th>4809167</th>\n",
       "      <td>2019-11-06 11:51:26</td>\n",
       "      <td>purchase</td>\n",
       "      <td>5670257</td>\n",
       "      <td>1.487580e+18</td>\n",
       "      <td>None</td>\n",
       "      <td>None</td>\n",
       "      <td>-15.87</td>\n",
       "      <td>568159131</td>\n",
       "      <td>8edce83b-2d4c-4654-89e6-16234303031c</td>\n",
       "    </tr>\n",
       "    <tr>\n",
       "      <th>4852225</th>\n",
       "      <td>2019-11-06 17:31:51</td>\n",
       "      <td>purchase</td>\n",
       "      <td>5716861</td>\n",
       "      <td>1.487580e+18</td>\n",
       "      <td>None</td>\n",
       "      <td>None</td>\n",
       "      <td>-79.37</td>\n",
       "      <td>554241372</td>\n",
       "      <td>b85719db-2c56-460b-b800-d7a47d4c4d70</td>\n",
       "    </tr>\n",
       "    <tr>\n",
       "      <th>4852226</th>\n",
       "      <td>2019-11-06 17:31:51</td>\n",
       "      <td>purchase</td>\n",
       "      <td>5670257</td>\n",
       "      <td>1.487580e+18</td>\n",
       "      <td>None</td>\n",
       "      <td>None</td>\n",
       "      <td>-15.87</td>\n",
       "      <td>554241372</td>\n",
       "      <td>b85719db-2c56-460b-b800-d7a47d4c4d70</td>\n",
       "    </tr>\n",
       "    <tr>\n",
       "      <th>5474456</th>\n",
       "      <td>2019-11-10 20:16:38</td>\n",
       "      <td>purchase</td>\n",
       "      <td>5716857</td>\n",
       "      <td>1.487580e+18</td>\n",
       "      <td>None</td>\n",
       "      <td>None</td>\n",
       "      <td>-23.81</td>\n",
       "      <td>549736485</td>\n",
       "      <td>d1acbc83-3876-4317-a00f-6c60800f4572</td>\n",
       "    </tr>\n",
       "    <tr>\n",
       "      <th>6412556</th>\n",
       "      <td>2019-11-18 07:06:17</td>\n",
       "      <td>purchase</td>\n",
       "      <td>5716857</td>\n",
       "      <td>1.487580e+18</td>\n",
       "      <td>None</td>\n",
       "      <td>None</td>\n",
       "      <td>-23.81</td>\n",
       "      <td>565309368</td>\n",
       "      <td>47af9baa-94af-4334-a4ac-514230ddfa9c</td>\n",
       "    </tr>\n",
       "    <tr>\n",
       "      <th>7012258</th>\n",
       "      <td>2019-11-21 19:34:16</td>\n",
       "      <td>purchase</td>\n",
       "      <td>5716859</td>\n",
       "      <td>1.487580e+18</td>\n",
       "      <td>None</td>\n",
       "      <td>None</td>\n",
       "      <td>-47.62</td>\n",
       "      <td>419166079</td>\n",
       "      <td>7e76a460-adb4-4e3f-9c85-c08a97016aa0</td>\n",
       "    </tr>\n",
       "    <tr>\n",
       "      <th>7196096</th>\n",
       "      <td>2019-11-22 13:46:53</td>\n",
       "      <td>purchase</td>\n",
       "      <td>5716859</td>\n",
       "      <td>1.487580e+18</td>\n",
       "      <td>None</td>\n",
       "      <td>None</td>\n",
       "      <td>-47.62</td>\n",
       "      <td>540003383</td>\n",
       "      <td>33da1676-00df-4f21-b87e-4c1b9b09420c</td>\n",
       "    </tr>\n",
       "    <tr>\n",
       "      <th>7216495</th>\n",
       "      <td>2019-11-22 15:18:19</td>\n",
       "      <td>purchase</td>\n",
       "      <td>5716857</td>\n",
       "      <td>1.487580e+18</td>\n",
       "      <td>None</td>\n",
       "      <td>None</td>\n",
       "      <td>-23.81</td>\n",
       "      <td>541269785</td>\n",
       "      <td>3d92c5f7-5d6d-4df6-83ad-6fcdb4078761</td>\n",
       "    </tr>\n",
       "    <tr>\n",
       "      <th>7408502</th>\n",
       "      <td>2019-11-23 13:30:53</td>\n",
       "      <td>purchase</td>\n",
       "      <td>5716859</td>\n",
       "      <td>1.487580e+18</td>\n",
       "      <td>None</td>\n",
       "      <td>None</td>\n",
       "      <td>-47.62</td>\n",
       "      <td>574878046</td>\n",
       "      <td>b60c5299-7a53-e636-6dc3-c7fd5d86452b</td>\n",
       "    </tr>\n",
       "    <tr>\n",
       "      <th>8092704</th>\n",
       "      <td>2019-11-27 16:17:31</td>\n",
       "      <td>purchase</td>\n",
       "      <td>5716855</td>\n",
       "      <td>1.487580e+18</td>\n",
       "      <td>None</td>\n",
       "      <td>None</td>\n",
       "      <td>-7.94</td>\n",
       "      <td>395032118</td>\n",
       "      <td>dad52920-321a-4d0d-805e-e83ff813d994</td>\n",
       "    </tr>\n",
       "    <tr>\n",
       "      <th>8442913</th>\n",
       "      <td>2019-11-29 10:48:18</td>\n",
       "      <td>purchase</td>\n",
       "      <td>5670257</td>\n",
       "      <td>1.487580e+18</td>\n",
       "      <td>None</td>\n",
       "      <td>None</td>\n",
       "      <td>-15.87</td>\n",
       "      <td>569446220</td>\n",
       "      <td>14de64e5-bfbf-43e4-a3d9-362caf9f847e</td>\n",
       "    </tr>\n",
       "    <tr>\n",
       "      <th>8480291</th>\n",
       "      <td>2019-11-29 14:00:23</td>\n",
       "      <td>purchase</td>\n",
       "      <td>5716857</td>\n",
       "      <td>1.487580e+18</td>\n",
       "      <td>None</td>\n",
       "      <td>None</td>\n",
       "      <td>-23.81</td>\n",
       "      <td>480927132</td>\n",
       "      <td>e2a0c787-1f5b-4bd6-b449-9818addd688f</td>\n",
       "    </tr>\n",
       "  </tbody>\n",
       "</table>\n",
       "</div>"
      ],
      "text/plain": [
       "                 event_time event_type  product_id   category_id  \\\n",
       "112860  2019-10-01 19:10:56   purchase     5716857  1.487580e+18   \n",
       "198302  2019-10-02 08:30:03   purchase     5716855  1.487580e+18   \n",
       "436918  2019-10-03 17:37:04   purchase     5716859  1.487580e+18   \n",
       "443204  2019-10-03 18:25:39   purchase     5670257  1.487580e+18   \n",
       "1295556 2019-10-09 14:49:14   purchase     5716855  1.487580e+18   \n",
       "1426186 2019-10-10 14:33:29   purchase     5716855  1.487580e+18   \n",
       "1519246 2019-10-11 10:27:19   purchase     5716859  1.487580e+18   \n",
       "1783312 2019-10-13 16:46:01   purchase     5716857  1.487580e+18   \n",
       "1924072 2019-10-14 17:33:24   purchase     5716861  1.487580e+18   \n",
       "2143763 2019-10-16 11:41:06   purchase     5716857  1.487580e+18   \n",
       "2286569 2019-10-17 11:41:07   purchase     5670257  1.487580e+18   \n",
       "2418566 2019-10-18 12:27:23   purchase     5670257  1.487580e+18   \n",
       "3056821 2019-10-23 15:11:37   purchase     5670257  1.487580e+18   \n",
       "3135434 2019-10-24 08:10:06   purchase     5716859  1.487580e+18   \n",
       "3502423 2019-10-27 11:24:32   purchase     5716859  1.487580e+18   \n",
       "3593035 2019-10-28 04:19:20   purchase     5670257  1.487580e+18   \n",
       "3608727 2019-10-28 07:41:54   purchase     5716857  1.487580e+18   \n",
       "3670217 2019-10-28 15:43:59   purchase     5670257  1.487580e+18   \n",
       "3798007 2019-10-29 14:34:24   purchase     5716857  1.487580e+18   \n",
       "3807737 2019-10-29 16:07:23   purchase     5716859  1.487580e+18   \n",
       "4175457 2019-11-01 15:36:23   purchase     5716855  1.487580e+18   \n",
       "4432906 2019-11-03 18:47:04   purchase     5716859  1.487580e+18   \n",
       "4510519 2019-11-04 11:54:29   purchase     5670257  1.487580e+18   \n",
       "4510520 2019-11-04 11:54:29   purchase     5716857  1.487580e+18   \n",
       "4510521 2019-11-04 11:54:29   purchase     5716857  1.487580e+18   \n",
       "4809167 2019-11-06 11:51:26   purchase     5670257  1.487580e+18   \n",
       "4852225 2019-11-06 17:31:51   purchase     5716861  1.487580e+18   \n",
       "4852226 2019-11-06 17:31:51   purchase     5670257  1.487580e+18   \n",
       "5474456 2019-11-10 20:16:38   purchase     5716857  1.487580e+18   \n",
       "6412556 2019-11-18 07:06:17   purchase     5716857  1.487580e+18   \n",
       "7012258 2019-11-21 19:34:16   purchase     5716859  1.487580e+18   \n",
       "7196096 2019-11-22 13:46:53   purchase     5716859  1.487580e+18   \n",
       "7216495 2019-11-22 15:18:19   purchase     5716857  1.487580e+18   \n",
       "7408502 2019-11-23 13:30:53   purchase     5716859  1.487580e+18   \n",
       "8092704 2019-11-27 16:17:31   purchase     5716855  1.487580e+18   \n",
       "8442913 2019-11-29 10:48:18   purchase     5670257  1.487580e+18   \n",
       "8480291 2019-11-29 14:00:23   purchase     5716857  1.487580e+18   \n",
       "\n",
       "        category_code brand  price    user_id  \\\n",
       "112860           None  None -23.81  552507528   \n",
       "198302           None  None  -7.94  550375225   \n",
       "436918           None  None -47.62  555414763   \n",
       "443204           None  None -15.87  556383221   \n",
       "1295556          None  None  -7.94  514562574   \n",
       "1426186          None  None  -7.94  558797258   \n",
       "1519246          None  None -47.62  543647038   \n",
       "1783312          None  None -23.81  559820267   \n",
       "1924072          None  None -79.37  541122983   \n",
       "2143763          None  None -23.81  461943726   \n",
       "2286569          None  None -15.87  557964596   \n",
       "2418566          None  None -15.87  558697902   \n",
       "3056821          None  None -15.87  563375190   \n",
       "3135434          None  None -47.62  545859098   \n",
       "3502423          None  None -47.62  564627373   \n",
       "3593035          None  None -15.87  564602671   \n",
       "3608727          None  None -23.81  385939606   \n",
       "3670217          None  None -15.87  562756002   \n",
       "3798007          None  None -23.81  554081558   \n",
       "3807737          None  None -47.62  546120591   \n",
       "4175457          None  None  -7.94  566480066   \n",
       "4432906          None  None -47.62  567194545   \n",
       "4510519          None  None -15.87  516725846   \n",
       "4510520          None  None -23.81  516725846   \n",
       "4510521          None  None -23.81  516725846   \n",
       "4809167          None  None -15.87  568159131   \n",
       "4852225          None  None -79.37  554241372   \n",
       "4852226          None  None -15.87  554241372   \n",
       "5474456          None  None -23.81  549736485   \n",
       "6412556          None  None -23.81  565309368   \n",
       "7012258          None  None -47.62  419166079   \n",
       "7196096          None  None -47.62  540003383   \n",
       "7216495          None  None -23.81  541269785   \n",
       "7408502          None  None -47.62  574878046   \n",
       "8092704          None  None  -7.94  395032118   \n",
       "8442913          None  None -15.87  569446220   \n",
       "8480291          None  None -23.81  480927132   \n",
       "\n",
       "                                 user_session  \n",
       "112860   dcdd60c6-1a70-442d-bfb2-0252879054ad  \n",
       "198302   5ddec778-9464-4514-914d-be7b751b8e2c  \n",
       "436918   479149eb-1807-4178-8f6b-87c642350735  \n",
       "443204   4333d203-bc4d-4d0d-a6e1-0ea3a97a28c1  \n",
       "1295556  fed2aeb4-0c75-44f7-9ca8-1a8be8214779  \n",
       "1426186  a406cf28-f04b-4361-8e6a-c62d36045e07  \n",
       "1519246  85e11d74-6583-4eab-b50c-ff86dbb25d97  \n",
       "1783312  f178c995-f004-4040-b26d-b1cca0f9657d  \n",
       "1924072  b60f777d-afca-4299-8548-273b810d6130  \n",
       "2143763  beefa8fb-a3d1-48ca-97e9-9c95b05ee997  \n",
       "2286569  4f4ee4c7-8081-41f1-91bb-ea74a7f1669d  \n",
       "2418566  8ad665ca-1cd9-46a5-a95c-996fe3afa08f  \n",
       "3056821  e925f825-c62a-4e0d-bf80-884ca1c66f41  \n",
       "3135434  95ed1875-cb64-443d-90bb-17d0dc596c10  \n",
       "3502423  81d564e9-55b3-4929-9132-6353cab08a97  \n",
       "3593035  527638c5-23bb-98f7-3776-6278c0776b84  \n",
       "3608727  2255291d-8060-4ce9-934c-458a3bd0b944  \n",
       "3670217  6f5bc29c-5ea9-4157-9d9e-7ceabb1e993c  \n",
       "3798007  4b84a8f9-97d7-4eb1-b120-7b34ddfe9a85  \n",
       "3807737  31cd4767-fadb-43ea-8a3f-f8769dd83fcf  \n",
       "4175457  34fa4291-9e2e-470f-a678-b84d9bbbdfe3  \n",
       "4432906  fd27b149-3006-41cd-8afc-884c47272e5d  \n",
       "4510519  26e74f0c-762a-4162-b807-72a3e7bfa015  \n",
       "4510520  26e74f0c-762a-4162-b807-72a3e7bfa015  \n",
       "4510521  26e74f0c-762a-4162-b807-72a3e7bfa015  \n",
       "4809167  8edce83b-2d4c-4654-89e6-16234303031c  \n",
       "4852225  b85719db-2c56-460b-b800-d7a47d4c4d70  \n",
       "4852226  b85719db-2c56-460b-b800-d7a47d4c4d70  \n",
       "5474456  d1acbc83-3876-4317-a00f-6c60800f4572  \n",
       "6412556  47af9baa-94af-4334-a4ac-514230ddfa9c  \n",
       "7012258  7e76a460-adb4-4e3f-9c85-c08a97016aa0  \n",
       "7196096  33da1676-00df-4f21-b87e-4c1b9b09420c  \n",
       "7216495  3d92c5f7-5d6d-4df6-83ad-6fcdb4078761  \n",
       "7408502  b60c5299-7a53-e636-6dc3-c7fd5d86452b  \n",
       "8092704  dad52920-321a-4d0d-805e-e83ff813d994  \n",
       "8442913  14de64e5-bfbf-43e4-a3d9-362caf9f847e  \n",
       "8480291  e2a0c787-1f5b-4bd6-b449-9818addd688f  "
      ]
     },
     "execution_count": 9,
     "metadata": {},
     "output_type": "execute_result"
    }
   ],
   "source": [
    "df[df.price < 0]"
   ]
  },
  {
   "cell_type": "markdown",
   "metadata": {},
   "source": [
    "It looks like each of these events correspond to a customer purchase. These could potentially be returned items. With that in mind, line items with negative purchases will be removed from the dataset."
   ]
  },
  {
   "cell_type": "code",
   "execution_count": 10,
   "metadata": {},
   "outputs": [
    {
     "data": {
      "text/plain": [
       "(8577459, 9)"
      ]
     },
     "execution_count": 10,
     "metadata": {},
     "output_type": "execute_result"
    }
   ],
   "source": [
    "df = df[df.price > 0]\n",
    "df.shape"
   ]
  },
  {
   "cell_type": "markdown",
   "metadata": {},
   "source": [
    "<a id='remove'></a>\n",
    "### 3. Removed from cart"
   ]
  },
  {
   "cell_type": "code",
   "execution_count": 11,
   "metadata": {},
   "outputs": [
    {
     "data": {
      "text/plain": [
       "view                3832727\n",
       "cart                2512700\n",
       "remove_from_cart    1671299\n",
       "purchase             560733\n",
       "Name: event_type, dtype: int64"
      ]
     },
     "execution_count": 11,
     "metadata": {},
     "output_type": "execute_result"
    }
   ],
   "source": [
    "df.event_type.value_counts()"
   ]
  },
  {
   "cell_type": "markdown",
   "metadata": {},
   "source": [
    "Next I will look at event types to see what behaviors will be incorporated into the model in order to predict a future purchase."
   ]
  },
  {
   "cell_type": "code",
   "execution_count": 12,
   "metadata": {},
   "outputs": [
    {
     "data": {
      "text/plain": [
       "view                3832727\n",
       "cart                2512700\n",
       "remove_from_cart    1671299\n",
       "purchase             560733\n",
       "Name: event_type, dtype: int64"
      ]
     },
     "execution_count": 12,
     "metadata": {},
     "output_type": "execute_result"
    }
   ],
   "source": [
    "df.event_type.value_counts()"
   ]
  },
  {
   "cell_type": "markdown",
   "metadata": {},
   "source": [
    "The different types of actions captured in the dataset include customer views of each product, adding items to cart, removing items from cart, and purchasing.  \n",
    "\n",
    "Because my objective is to find customer purchases, I must handle the event types in a way that will not be duplicative. Each action taken by the customer is captured in the data, therefore all rows where a customer purchased a product will also have a row within that same session where the customer added the item to their cart.  \n",
    "\n",
    "To account for this, counts of occurrences where a customer added an item to their cart should not include sessions where they made a purchase. With this in mind, removals from cart become duplicative and should be removed."
   ]
  },
  {
   "cell_type": "code",
   "execution_count": 13,
   "metadata": {},
   "outputs": [
    {
     "data": {
      "text/plain": [
       "(6906160, 9)"
      ]
     },
     "execution_count": 13,
     "metadata": {},
     "output_type": "execute_result"
    }
   ],
   "source": [
    "df = df[df.event_type.isin(['view', 'cart', 'purchase'])]\n",
    "df.shape"
   ]
  },
  {
   "cell_type": "markdown",
   "metadata": {},
   "source": [
    "<a id='first'></a>\n",
    "### 4. One-time visitors\n",
    "One major source of variability in the data I may encounter when predicting future purchases is the presence of one-time visitors. One-time visitors may either buy or leave in their sole visit, which has the potential to throw off the model. Because I am looking to predict the first purchase a user will make, I will need more than one session per user to accurately predict future actions. As such, one-time visitors will be removed from the dataset."
   ]
  },
  {
   "cell_type": "code",
   "execution_count": 14,
   "metadata": {},
   "outputs": [
    {
     "data": {
      "text/html": [
       "<div>\n",
       "<style scoped>\n",
       "    .dataframe tbody tr th:only-of-type {\n",
       "        vertical-align: middle;\n",
       "    }\n",
       "\n",
       "    .dataframe tbody tr th {\n",
       "        vertical-align: top;\n",
       "    }\n",
       "\n",
       "    .dataframe thead th {\n",
       "        text-align: right;\n",
       "    }\n",
       "</style>\n",
       "<table border=\"1\" class=\"dataframe\">\n",
       "  <thead>\n",
       "    <tr style=\"text-align: right;\">\n",
       "      <th></th>\n",
       "      <th>user_id</th>\n",
       "      <th>count</th>\n",
       "    </tr>\n",
       "  </thead>\n",
       "  <tbody>\n",
       "    <tr>\n",
       "      <th>0</th>\n",
       "      <td>1458813</td>\n",
       "      <td>31</td>\n",
       "    </tr>\n",
       "    <tr>\n",
       "      <th>1</th>\n",
       "      <td>4103071</td>\n",
       "      <td>8</td>\n",
       "    </tr>\n",
       "    <tr>\n",
       "      <th>2</th>\n",
       "      <td>5493470</td>\n",
       "      <td>10</td>\n",
       "    </tr>\n",
       "    <tr>\n",
       "      <th>3</th>\n",
       "      <td>8846226</td>\n",
       "      <td>47</td>\n",
       "    </tr>\n",
       "    <tr>\n",
       "      <th>4</th>\n",
       "      <td>9478445</td>\n",
       "      <td>4</td>\n",
       "    </tr>\n",
       "    <tr>\n",
       "      <th>...</th>\n",
       "      <td>...</td>\n",
       "      <td>...</td>\n",
       "    </tr>\n",
       "    <tr>\n",
       "      <th>397853</th>\n",
       "      <td>579963467</td>\n",
       "      <td>2</td>\n",
       "    </tr>\n",
       "    <tr>\n",
       "      <th>397854</th>\n",
       "      <td>579964807</td>\n",
       "      <td>3</td>\n",
       "    </tr>\n",
       "    <tr>\n",
       "      <th>397855</th>\n",
       "      <td>579964964</td>\n",
       "      <td>2</td>\n",
       "    </tr>\n",
       "    <tr>\n",
       "      <th>397856</th>\n",
       "      <td>579966747</td>\n",
       "      <td>18</td>\n",
       "    </tr>\n",
       "    <tr>\n",
       "      <th>397857</th>\n",
       "      <td>579968623</td>\n",
       "      <td>5</td>\n",
       "    </tr>\n",
       "  </tbody>\n",
       "</table>\n",
       "<p>397858 rows × 2 columns</p>\n",
       "</div>"
      ],
      "text/plain": [
       "          user_id  count\n",
       "0         1458813     31\n",
       "1         4103071      8\n",
       "2         5493470     10\n",
       "3         8846226     47\n",
       "4         9478445      4\n",
       "...           ...    ...\n",
       "397853  579963467      2\n",
       "397854  579964807      3\n",
       "397855  579964964      2\n",
       "397856  579966747     18\n",
       "397857  579968623      5\n",
       "\n",
       "[397858 rows x 2 columns]"
      ]
     },
     "execution_count": 14,
     "metadata": {},
     "output_type": "execute_result"
    }
   ],
   "source": [
    "# create dataframe of number of sessions per user, where the user logged more than one session\n",
    "query = \"\"\"\n",
    "SELECT user_id,\n",
    "       COUNT(user_session)\n",
    "FROM all_events\n",
    "GROUP BY 1\n",
    "HAVING COUNT(user_session) > 1;\n",
    "\"\"\"\n",
    "one_visit = pd_sql.read_sql(query, connection)\n",
    "one_visit"
   ]
  },
  {
   "cell_type": "code",
   "execution_count": 15,
   "metadata": {},
   "outputs": [
    {
     "data": {
      "text/plain": [
       "(6601004, 9)"
      ]
     },
     "execution_count": 15,
     "metadata": {},
     "output_type": "execute_result"
    }
   ],
   "source": [
    "# filter original dataframe to include only the user IDs found in query\n",
    "df = df[df.user_id.isin(one_visit.user_id.values)]\n",
    "df.shape"
   ]
  },
  {
   "cell_type": "markdown",
   "metadata": {},
   "source": [
    "### Data Cleaning Summary\n",
    "1. Remove extraneous product categories (non-cosmetics products)\n",
    "2. Remove negatively priced items\n",
    "3. Remove rows with `remove_from_cart`\n",
    "4. Filter out one-time users"
   ]
  },
  {
   "cell_type": "markdown",
   "metadata": {
    "toc-hr-collapsed": false
   },
   "source": [
    "<a id='feature'></a>\n",
    "## Feature Engineering"
   ]
  },
  {
   "cell_type": "markdown",
   "metadata": {},
   "source": [
    "### Create Target\n",
    "The target I am aiming to predict from this dataset is if a customer will make a purchase. The first step is to create a column that turns the \"purchase\" event into a binary classifier. From there, I can begin engineering other features to predict the event."
   ]
  },
  {
   "cell_type": "code",
   "execution_count": 16,
   "metadata": {},
   "outputs": [],
   "source": [
    "# create target column with binary classifier\n",
    "df['purchased'] = np.where(df['event_type'] == 'purchase', 1, 0)"
   ]
  },
  {
   "cell_type": "markdown",
   "metadata": {},
   "source": [
    "This approach will use features that are \"user-centric,\" meaning each line item will hold values for unique users. Each feature will contain roll-ups of that user's activity throughout the time period in which the data was captured."
   ]
  },
  {
   "cell_type": "code",
   "execution_count": 17,
   "metadata": {},
   "outputs": [],
   "source": [
    "# group the original dataframe by user\n",
    "by_user = df.groupby('user_id', as_index=False).purchased.sum()"
   ]
  },
  {
   "cell_type": "code",
   "execution_count": 18,
   "metadata": {},
   "outputs": [
    {
     "name": "stdout",
     "output_type": "stream",
     "text": [
      "<class 'pandas.core.frame.DataFrame'>\n",
      "Int64Index: 391900 entries, 0 to 391899\n",
      "Data columns (total 3 columns):\n",
      "user_id          391900 non-null int64\n",
      "purchased        391900 non-null int64\n",
      "num_purchases    391900 non-null int64\n",
      "dtypes: int64(3)\n",
      "memory usage: 12.0 MB\n"
     ]
    }
   ],
   "source": [
    "# create a column to hold the total number of purchases per user\n",
    "# change the 'purchased' column to a binary classification\n",
    "by_user['num_purchases'] = by_user['purchased']\n",
    "by_user['purchased'] = (by_user['purchased'] >= 1).astype(int)\n",
    "by_user.info()"
   ]
  },
  {
   "cell_type": "code",
   "execution_count": 19,
   "metadata": {},
   "outputs": [
    {
     "data": {
      "image/png": "[encoded data removed]",
      "text/plain": [
       "<Figure size 432x288 with 1 Axes>"
      ]
     },
     "metadata": {},
     "output_type": "display_data"
    }
   ],
   "source": [
    "# visualize feature classes to assess if there is imbalance\n",
    "by_user.purchased.value_counts().plot(kind='bar')\n",
    "plt.title('Target Classes');"
   ]
  },
  {
   "cell_type": "markdown",
   "metadata": {},
   "source": [
    "Whoa. The result set is highly skewed with more users that have not purchased, which is in line with what I'd expect for e-commerce data within this window. I will have to take this into account when testing classification methods by stratifying the prediction and over/undersampling."
   ]
  },
  {
   "cell_type": "markdown",
   "metadata": {},
   "source": [
    "### Recency, Frequency, Monetary Value\n",
    "Recency, frequency, and monetary value, commonly known as RFM, is a widely used metric in marketing analytics. This metric aims to group individual users into user segments, or cohorts, based on three factors:\n",
    "1. **Recency** - The last time the user made a purchase in the store. Since I am aiming to gauge future purchases based on behavior, I am adjusting this metric to reflect the last time the user made an action on the site. This value is represented as the number of days between the current date and the date of the last user action.\n",
    "2. **Frequency** - How many times the user made a purchase in a given window. Again, I will adjust this metric to include the number of actions taken rather than the number of purchases to better predict future purchases based on all behavior. \n",
    "3. **Monetary value** - The total dollar amount of all purchases made by the user. Similar to the other components, the typical RFM calculation will not work here, as we do not know whether the customer has made a purchase or not. To account for this, this value will measure the total value of products the customer has interacted with."
   ]
  },
  {
   "cell_type": "code",
   "execution_count": 20,
   "metadata": {},
   "outputs": [],
   "source": [
    "# run sql query that calculates RFM scores and create dataframe\n",
    "query = \"\"\"\n",
    "WITH rfm_raw AS (\n",
    "    SELECT user_id,\n",
    "           EXTRACT(DAY FROM CURRENT_DATE - MAX(event_time)) AS recency,\n",
    "           COUNT(DISTINCT user_session) AS frequency,\n",
    "           SUM(CASE WHEN event_type != 'purchase' THEN price END) AS monetary_value\n",
    "    FROM all_events\n",
    "    GROUP BY 1\n",
    "),\n",
    "rfm_scores AS (\n",
    "    SELECT rfm_raw.user_id,\n",
    "           NTILE(5) OVER(ORDER BY recency DESC) AS r,\n",
    "           NTILE(5) OVER(ORDER BY frequency DESC) AS f,\n",
    "           NTILE(5) OVER(ORDER BY monetary_value DESC) AS m\n",
    "    FROM all_events\n",
    "    JOIN rfm_raw\n",
    "    ON all_events.user_id = rfm_raw.user_id\n",
    ")\n",
    "\n",
    "SELECT DISTINCT user_id,\n",
    "       CONCAT(r, f, m) AS rfm_score\n",
    "FROM rfm_scores;\n",
    "\"\"\"\n",
    "rfm = pd_sql.read_sql(query, connection)"
   ]
  },
  {
   "cell_type": "code",
   "execution_count": 21,
   "metadata": {},
   "outputs": [
    {
     "data": {
      "text/html": [
       "<div>\n",
       "<style scoped>\n",
       "    .dataframe tbody tr th:only-of-type {\n",
       "        vertical-align: middle;\n",
       "    }\n",
       "\n",
       "    .dataframe tbody tr th {\n",
       "        vertical-align: top;\n",
       "    }\n",
       "\n",
       "    .dataframe thead th {\n",
       "        text-align: right;\n",
       "    }\n",
       "</style>\n",
       "<table border=\"1\" class=\"dataframe\">\n",
       "  <thead>\n",
       "    <tr style=\"text-align: right;\">\n",
       "      <th></th>\n",
       "      <th>user_id</th>\n",
       "      <th>rfm_score</th>\n",
       "    </tr>\n",
       "  </thead>\n",
       "  <tbody>\n",
       "    <tr>\n",
       "      <th>0</th>\n",
       "      <td>1120748</td>\n",
       "      <td>255</td>\n",
       "    </tr>\n",
       "    <tr>\n",
       "      <th>1</th>\n",
       "      <td>1458813</td>\n",
       "      <td>334</td>\n",
       "    </tr>\n",
       "    <tr>\n",
       "      <th>2</th>\n",
       "      <td>4103071</td>\n",
       "      <td>155</td>\n",
       "    </tr>\n",
       "    <tr>\n",
       "      <th>3</th>\n",
       "      <td>5493470</td>\n",
       "      <td>255</td>\n",
       "    </tr>\n",
       "    <tr>\n",
       "      <th>4</th>\n",
       "      <td>6217356</td>\n",
       "      <td>355</td>\n",
       "    </tr>\n",
       "  </tbody>\n",
       "</table>\n",
       "</div>"
      ],
      "text/plain": [
       "   user_id rfm_score\n",
       "0  1120748       255\n",
       "1  1458813       334\n",
       "2  4103071       155\n",
       "3  5493470       255\n",
       "4  6217356       355"
      ]
     },
     "execution_count": 21,
     "metadata": {},
     "output_type": "execute_result"
    }
   ],
   "source": [
    "rfm.head()"
   ]
  },
  {
   "cell_type": "markdown",
   "metadata": {
    "toc-hr-collapsed": false
   },
   "source": [
    "### Actions per user\n",
    "Calculate the number of each unique action per user; purchases, product views, adds to cart, and removals from cart. These will all be separate features. Total number of purchases was already created when grouping by user, so this step will focus on creating features to quantify the other types of action."
   ]
  },
  {
   "cell_type": "code",
   "execution_count": 22,
   "metadata": {},
   "outputs": [],
   "source": [
    "query = \"\"\"\n",
    "SELECT user_id,\n",
    "       SUM(CASE WHEN event_type = 'purchase' THEN 1 ELSE 0 END) AS num_purchases,\n",
    "       SUM(CASE WHEN event_type = 'view' THEN 1 ELSE 0 END) AS num_views,\n",
    "       SUM(CASE WHEN event_type = 'cart' THEN 1 ELSE 0 END) AS adds_to_cart,\n",
    "       SUM(CASE WHEN event_type = 'remove_from_cart' THEN 1 ELSE 0 END) AS removals_from_cart\n",
    "FROM all_events\n",
    "GROUP BY 1;\n",
    "\"\"\"\n",
    "actions = pd_sql.read_sql(query, connection)"
   ]
  },
  {
   "cell_type": "code",
   "execution_count": 23,
   "metadata": {},
   "outputs": [
    {
     "data": {
      "text/html": [
       "<div>\n",
       "<style scoped>\n",
       "    .dataframe tbody tr th:only-of-type {\n",
       "        vertical-align: middle;\n",
       "    }\n",
       "\n",
       "    .dataframe tbody tr th {\n",
       "        vertical-align: top;\n",
       "    }\n",
       "\n",
       "    .dataframe thead th {\n",
       "        text-align: right;\n",
       "    }\n",
       "</style>\n",
       "<table border=\"1\" class=\"dataframe\">\n",
       "  <thead>\n",
       "    <tr style=\"text-align: right;\">\n",
       "      <th></th>\n",
       "      <th>user_id</th>\n",
       "      <th>num_purchases</th>\n",
       "      <th>num_views</th>\n",
       "      <th>adds_to_cart</th>\n",
       "      <th>removals_from_cart</th>\n",
       "    </tr>\n",
       "  </thead>\n",
       "  <tbody>\n",
       "    <tr>\n",
       "      <th>0</th>\n",
       "      <td>1120748</td>\n",
       "      <td>0</td>\n",
       "      <td>1</td>\n",
       "      <td>0</td>\n",
       "      <td>0</td>\n",
       "    </tr>\n",
       "    <tr>\n",
       "      <th>1</th>\n",
       "      <td>1458813</td>\n",
       "      <td>0</td>\n",
       "      <td>31</td>\n",
       "      <td>0</td>\n",
       "      <td>0</td>\n",
       "    </tr>\n",
       "    <tr>\n",
       "      <th>2</th>\n",
       "      <td>4103071</td>\n",
       "      <td>0</td>\n",
       "      <td>7</td>\n",
       "      <td>1</td>\n",
       "      <td>0</td>\n",
       "    </tr>\n",
       "    <tr>\n",
       "      <th>3</th>\n",
       "      <td>5493470</td>\n",
       "      <td>0</td>\n",
       "      <td>5</td>\n",
       "      <td>5</td>\n",
       "      <td>0</td>\n",
       "    </tr>\n",
       "    <tr>\n",
       "      <th>4</th>\n",
       "      <td>6217356</td>\n",
       "      <td>0</td>\n",
       "      <td>0</td>\n",
       "      <td>1</td>\n",
       "      <td>0</td>\n",
       "    </tr>\n",
       "  </tbody>\n",
       "</table>\n",
       "</div>"
      ],
      "text/plain": [
       "   user_id  num_purchases  num_views  adds_to_cart  removals_from_cart\n",
       "0  1120748              0          1             0                   0\n",
       "1  1458813              0         31             0                   0\n",
       "2  4103071              0          7             1                   0\n",
       "3  5493470              0          5             5                   0\n",
       "4  6217356              0          0             1                   0"
      ]
     },
     "execution_count": 23,
     "metadata": {},
     "output_type": "execute_result"
    }
   ],
   "source": [
    "actions.head()"
   ]
  },
  {
   "cell_type": "markdown",
   "metadata": {},
   "source": [
    "<a id='export'></a>\n",
    "## Export Data\n",
    "Merge dataframes created with new features to the original, grouped dataframe. Export the resulting dataframe as the dataset to run classification models."
   ]
  },
  {
   "cell_type": "code",
   "execution_count": 24,
   "metadata": {},
   "outputs": [],
   "source": [
    "# merge rfm scores onto grouped dataframe\n",
    "users = by_user.merge(rfm, on='user_id')"
   ]
  },
  {
   "cell_type": "code",
   "execution_count": 25,
   "metadata": {},
   "outputs": [],
   "source": [
    "# drop extra 'num_purchases' column from actions dataframe\n",
    "actions = actions.drop('num_purchases', axis=1)"
   ]
  },
  {
   "cell_type": "code",
   "execution_count": 26,
   "metadata": {},
   "outputs": [],
   "source": [
    "# merge user actions data\n",
    "users = users.merge(actions, on='user_id')"
   ]
  },
  {
   "cell_type": "code",
   "execution_count": 27,
   "metadata": {},
   "outputs": [
    {
     "data": {
      "text/html": [
       "<div>\n",
       "<style scoped>\n",
       "    .dataframe tbody tr th:only-of-type {\n",
       "        vertical-align: middle;\n",
       "    }\n",
       "\n",
       "    .dataframe tbody tr th {\n",
       "        vertical-align: top;\n",
       "    }\n",
       "\n",
       "    .dataframe thead th {\n",
       "        text-align: right;\n",
       "    }\n",
       "</style>\n",
       "<table border=\"1\" class=\"dataframe\">\n",
       "  <thead>\n",
       "    <tr style=\"text-align: right;\">\n",
       "      <th></th>\n",
       "      <th>user_id</th>\n",
       "      <th>purchased</th>\n",
       "      <th>num_purchases</th>\n",
       "      <th>rfm_score</th>\n",
       "      <th>num_views</th>\n",
       "      <th>adds_to_cart</th>\n",
       "      <th>removals_from_cart</th>\n",
       "    </tr>\n",
       "  </thead>\n",
       "  <tbody>\n",
       "    <tr>\n",
       "      <th>0</th>\n",
       "      <td>1458813</td>\n",
       "      <td>0</td>\n",
       "      <td>0</td>\n",
       "      <td>334</td>\n",
       "      <td>31</td>\n",
       "      <td>0</td>\n",
       "      <td>0</td>\n",
       "    </tr>\n",
       "    <tr>\n",
       "      <th>1</th>\n",
       "      <td>4103071</td>\n",
       "      <td>0</td>\n",
       "      <td>0</td>\n",
       "      <td>155</td>\n",
       "      <td>7</td>\n",
       "      <td>1</td>\n",
       "      <td>0</td>\n",
       "    </tr>\n",
       "    <tr>\n",
       "      <th>2</th>\n",
       "      <td>5493470</td>\n",
       "      <td>0</td>\n",
       "      <td>0</td>\n",
       "      <td>255</td>\n",
       "      <td>5</td>\n",
       "      <td>5</td>\n",
       "      <td>0</td>\n",
       "    </tr>\n",
       "    <tr>\n",
       "      <th>3</th>\n",
       "      <td>8846226</td>\n",
       "      <td>0</td>\n",
       "      <td>0</td>\n",
       "      <td>144</td>\n",
       "      <td>7</td>\n",
       "      <td>24</td>\n",
       "      <td>16</td>\n",
       "    </tr>\n",
       "    <tr>\n",
       "      <th>4</th>\n",
       "      <td>9478445</td>\n",
       "      <td>0</td>\n",
       "      <td>0</td>\n",
       "      <td>235</td>\n",
       "      <td>4</td>\n",
       "      <td>0</td>\n",
       "      <td>0</td>\n",
       "    </tr>\n",
       "  </tbody>\n",
       "</table>\n",
       "</div>"
      ],
      "text/plain": [
       "   user_id  purchased  num_purchases rfm_score  num_views  adds_to_cart  \\\n",
       "0  1458813          0              0       334         31             0   \n",
       "1  4103071          0              0       155          7             1   \n",
       "2  5493470          0              0       255          5             5   \n",
       "3  8846226          0              0       144          7            24   \n",
       "4  9478445          0              0       235          4             0   \n",
       "\n",
       "   removals_from_cart  \n",
       "0                   0  \n",
       "1                   0  \n",
       "2                   0  \n",
       "3                  16  \n",
       "4                   0  "
      ]
     },
     "execution_count": 27,
     "metadata": {},
     "output_type": "execute_result"
    }
   ],
   "source": [
    "users.head()"
   ]
  },
  {
   "cell_type": "markdown",
   "metadata": {},
   "source": [
    "<font color='red'>Drop other num_purchases column for model, but may want to include this again at some point...?</font>"
   ]
  },
  {
   "cell_type": "code",
   "execution_count": 28,
   "metadata": {},
   "outputs": [],
   "source": [
    "users = users.drop('num_purchases', axis=1)"
   ]
  },
  {
   "cell_type": "code",
   "execution_count": 29,
   "metadata": {},
   "outputs": [],
   "source": [
    "# export dataframe to pickle file to easily import in modeling notebook\n",
    "with open('users.pickle', 'wb') as outfile:\n",
    "    pickle.dump(users, outfile)"
   ]
  },
  {
   "cell_type": "markdown",
   "metadata": {},
   "source": [
    "<font color='red'><h1>Additional features</h1></font>"
   ]
  },
  {
   "cell_type": "markdown",
   "metadata": {},
   "source": [
    "#### Add to cart rate\n",
    "Calculate the number of each unique action per user; purchases, product views, adds to cart, and removals from cart. These will all be separate features. Total number of purchases was already created when grouping by user, so this step will focus on creating features to quantify the other types of action."
   ]
  },
  {
   "cell_type": "code",
   "execution_count": 30,
   "metadata": {},
   "outputs": [],
   "source": [
    "users_copy = users.copy()"
   ]
  },
  {
   "cell_type": "code",
   "execution_count": 31,
   "metadata": {},
   "outputs": [
    {
     "data": {
      "text/html": [
       "<div>\n",
       "<style scoped>\n",
       "    .dataframe tbody tr th:only-of-type {\n",
       "        vertical-align: middle;\n",
       "    }\n",
       "\n",
       "    .dataframe tbody tr th {\n",
       "        vertical-align: top;\n",
       "    }\n",
       "\n",
       "    .dataframe thead th {\n",
       "        text-align: right;\n",
       "    }\n",
       "</style>\n",
       "<table border=\"1\" class=\"dataframe\">\n",
       "  <thead>\n",
       "    <tr style=\"text-align: right;\">\n",
       "      <th></th>\n",
       "      <th>user_id</th>\n",
       "      <th>purchased</th>\n",
       "      <th>rfm_score</th>\n",
       "      <th>num_views</th>\n",
       "      <th>adds_to_cart</th>\n",
       "      <th>removals_from_cart</th>\n",
       "    </tr>\n",
       "  </thead>\n",
       "  <tbody>\n",
       "    <tr>\n",
       "      <th>0</th>\n",
       "      <td>1458813</td>\n",
       "      <td>0</td>\n",
       "      <td>334</td>\n",
       "      <td>31</td>\n",
       "      <td>0</td>\n",
       "      <td>0</td>\n",
       "    </tr>\n",
       "    <tr>\n",
       "      <th>1</th>\n",
       "      <td>4103071</td>\n",
       "      <td>0</td>\n",
       "      <td>155</td>\n",
       "      <td>7</td>\n",
       "      <td>1</td>\n",
       "      <td>0</td>\n",
       "    </tr>\n",
       "    <tr>\n",
       "      <th>2</th>\n",
       "      <td>5493470</td>\n",
       "      <td>0</td>\n",
       "      <td>255</td>\n",
       "      <td>5</td>\n",
       "      <td>5</td>\n",
       "      <td>0</td>\n",
       "    </tr>\n",
       "    <tr>\n",
       "      <th>3</th>\n",
       "      <td>8846226</td>\n",
       "      <td>0</td>\n",
       "      <td>144</td>\n",
       "      <td>7</td>\n",
       "      <td>24</td>\n",
       "      <td>16</td>\n",
       "    </tr>\n",
       "    <tr>\n",
       "      <th>4</th>\n",
       "      <td>9478445</td>\n",
       "      <td>0</td>\n",
       "      <td>235</td>\n",
       "      <td>4</td>\n",
       "      <td>0</td>\n",
       "      <td>0</td>\n",
       "    </tr>\n",
       "    <tr>\n",
       "      <th>...</th>\n",
       "      <td>...</td>\n",
       "      <td>...</td>\n",
       "      <td>...</td>\n",
       "      <td>...</td>\n",
       "      <td>...</td>\n",
       "      <td>...</td>\n",
       "    </tr>\n",
       "    <tr>\n",
       "      <th>392049</th>\n",
       "      <td>579963467</td>\n",
       "      <td>0</td>\n",
       "      <td>555</td>\n",
       "      <td>2</td>\n",
       "      <td>0</td>\n",
       "      <td>0</td>\n",
       "    </tr>\n",
       "    <tr>\n",
       "      <th>392050</th>\n",
       "      <td>579964807</td>\n",
       "      <td>0</td>\n",
       "      <td>555</td>\n",
       "      <td>3</td>\n",
       "      <td>0</td>\n",
       "      <td>0</td>\n",
       "    </tr>\n",
       "    <tr>\n",
       "      <th>392051</th>\n",
       "      <td>579964964</td>\n",
       "      <td>0</td>\n",
       "      <td>555</td>\n",
       "      <td>2</td>\n",
       "      <td>0</td>\n",
       "      <td>0</td>\n",
       "    </tr>\n",
       "    <tr>\n",
       "      <th>392052</th>\n",
       "      <td>579966747</td>\n",
       "      <td>0</td>\n",
       "      <td>555</td>\n",
       "      <td>4</td>\n",
       "      <td>11</td>\n",
       "      <td>3</td>\n",
       "    </tr>\n",
       "    <tr>\n",
       "      <th>392053</th>\n",
       "      <td>579968623</td>\n",
       "      <td>0</td>\n",
       "      <td>554</td>\n",
       "      <td>5</td>\n",
       "      <td>0</td>\n",
       "      <td>0</td>\n",
       "    </tr>\n",
       "  </tbody>\n",
       "</table>\n",
       "<p>392054 rows × 6 columns</p>\n",
       "</div>"
      ],
      "text/plain": [
       "          user_id  purchased rfm_score  num_views  adds_to_cart  \\\n",
       "0         1458813          0       334         31             0   \n",
       "1         4103071          0       155          7             1   \n",
       "2         5493470          0       255          5             5   \n",
       "3         8846226          0       144          7            24   \n",
       "4         9478445          0       235          4             0   \n",
       "...           ...        ...       ...        ...           ...   \n",
       "392049  579963467          0       555          2             0   \n",
       "392050  579964807          0       555          3             0   \n",
       "392051  579964964          0       555          2             0   \n",
       "392052  579966747          0       555          4            11   \n",
       "392053  579968623          0       554          5             0   \n",
       "\n",
       "        removals_from_cart  \n",
       "0                        0  \n",
       "1                        0  \n",
       "2                        0  \n",
       "3                       16  \n",
       "4                        0  \n",
       "...                    ...  \n",
       "392049                   0  \n",
       "392050                   0  \n",
       "392051                   0  \n",
       "392052                   3  \n",
       "392053                   0  \n",
       "\n",
       "[392054 rows x 6 columns]"
      ]
     },
     "execution_count": 31,
     "metadata": {},
     "output_type": "execute_result"
    }
   ],
   "source": [
    "users_copy"
   ]
  },
  {
   "cell_type": "code",
   "execution_count": null,
   "metadata": {},
   "outputs": [],
   "source": []
  }
 ],
 "metadata": {
  "kernelspec": {
   "display_name": "Python 3",
   "language": "python",
   "name": "python3"
  },
  "language_info": {
   "codemirror_mode": {
    "name": "ipython",
    "version": 3
   },
   "file_extension": ".py",
   "mimetype": "text/x-python",
   "name": "python",
   "nbconvert_exporter": "python",
   "pygments_lexer": "ipython3",
   "version": "3.7.4"
  },
  "pycharm": {
   "stem_cell": {
    "cell_type": "raw",
    "metadata": {
     "collapsed": false
    },
    "source": []
   }
  },
  "toc-autonumbering": false,
  "toc-showcode": false,
  "toc-showmarkdowntxt": false,
  "toc-showtags": false
 },
 "nbformat": 4,
 "nbformat_minor": 4
}
