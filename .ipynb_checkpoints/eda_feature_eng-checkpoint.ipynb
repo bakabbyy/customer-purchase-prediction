{
 "cells": [
  {
   "cell_type": "markdown",
   "metadata": {
    "toc-hr-collapsed": false
   },
   "source": [
    "# Exploratory Data Analysis & Feature Engineering"
   ]
  },
  {
   "cell_type": "code",
   "execution_count": 1,
   "metadata": {
    "pycharm": {
     "is_executing": false
    }
   },
   "outputs": [],
   "source": [
    "# import necessary packages\n",
    "import pandas as pd\n",
    "import numpy as np\n",
    "import pickle\n",
    "\n",
    "import psycopg2 as pg\n",
    "import pandas.io.sql as pd_sql\n",
    "\n",
    "import matplotlib.pyplot as plt\n",
    "import seaborn as sns\n",
    "%matplotlib inline"
   ]
  },
  {
   "cell_type": "code",
   "execution_count": 2,
   "metadata": {},
   "outputs": [],
   "source": [
    "# set plot style for visualizations\n",
    "plt.style.use('dark_background')"
   ]
  },
  {
   "cell_type": "code",
   "execution_count": 3,
   "metadata": {},
   "outputs": [],
   "source": [
    "# set up connection to postgres\n",
    "connection_args = {\n",
    "    'host': 'localhost',  \n",
    "    'dbname': 'events',    \n",
    "    'port': 5432          \n",
    "}\n",
    "connection = pg.connect(**connection_args)"
   ]
  },
  {
   "cell_type": "code",
   "execution_count": 4,
   "metadata": {
    "collapsed": false,
    "jupyter": {
     "outputs_hidden": false
    },
    "pycharm": {
     "is_executing": false,
     "name": "#%%\n"
    }
   },
   "outputs": [
    {
     "name": "stdout",
     "output_type": "stream",
     "text": [
      "(8738120, 9)\n"
     ]
    },
    {
     "data": {
      "text/html": [
       "<div>\n",
       "<style scoped>\n",
       "    .dataframe tbody tr th:only-of-type {\n",
       "        vertical-align: middle;\n",
       "    }\n",
       "\n",
       "    .dataframe tbody tr th {\n",
       "        vertical-align: top;\n",
       "    }\n",
       "\n",
       "    .dataframe thead th {\n",
       "        text-align: right;\n",
       "    }\n",
       "</style>\n",
       "<table border=\"1\" class=\"dataframe\">\n",
       "  <thead>\n",
       "    <tr style=\"text-align: right;\">\n",
       "      <th></th>\n",
       "      <th>event_time</th>\n",
       "      <th>event_type</th>\n",
       "      <th>product_id</th>\n",
       "      <th>category_id</th>\n",
       "      <th>category_code</th>\n",
       "      <th>brand</th>\n",
       "      <th>price</th>\n",
       "      <th>user_id</th>\n",
       "      <th>user_session</th>\n",
       "    </tr>\n",
       "  </thead>\n",
       "  <tbody>\n",
       "    <tr>\n",
       "      <th>0</th>\n",
       "      <td>2019-10-01 00:00:00</td>\n",
       "      <td>cart</td>\n",
       "      <td>5773203</td>\n",
       "      <td>1.487580e+18</td>\n",
       "      <td>None</td>\n",
       "      <td>runail</td>\n",
       "      <td>2.62</td>\n",
       "      <td>463240011</td>\n",
       "      <td>26dd6e6e-4dac-4778-8d2c-92e149dab885</td>\n",
       "    </tr>\n",
       "    <tr>\n",
       "      <th>1</th>\n",
       "      <td>2019-10-01 00:00:03</td>\n",
       "      <td>cart</td>\n",
       "      <td>5773353</td>\n",
       "      <td>1.487580e+18</td>\n",
       "      <td>None</td>\n",
       "      <td>runail</td>\n",
       "      <td>2.62</td>\n",
       "      <td>463240011</td>\n",
       "      <td>26dd6e6e-4dac-4778-8d2c-92e149dab885</td>\n",
       "    </tr>\n",
       "    <tr>\n",
       "      <th>2</th>\n",
       "      <td>2019-10-01 00:00:07</td>\n",
       "      <td>cart</td>\n",
       "      <td>5881589</td>\n",
       "      <td>2.151191e+18</td>\n",
       "      <td>None</td>\n",
       "      <td>lovely</td>\n",
       "      <td>13.48</td>\n",
       "      <td>429681830</td>\n",
       "      <td>49e8d843-adf3-428b-a2c3-fe8bc6a307c9</td>\n",
       "    </tr>\n",
       "    <tr>\n",
       "      <th>3</th>\n",
       "      <td>2019-10-01 00:00:07</td>\n",
       "      <td>cart</td>\n",
       "      <td>5723490</td>\n",
       "      <td>1.487580e+18</td>\n",
       "      <td>None</td>\n",
       "      <td>runail</td>\n",
       "      <td>2.62</td>\n",
       "      <td>463240011</td>\n",
       "      <td>26dd6e6e-4dac-4778-8d2c-92e149dab885</td>\n",
       "    </tr>\n",
       "    <tr>\n",
       "      <th>4</th>\n",
       "      <td>2019-10-01 00:00:15</td>\n",
       "      <td>cart</td>\n",
       "      <td>5881449</td>\n",
       "      <td>1.487580e+18</td>\n",
       "      <td>None</td>\n",
       "      <td>lovely</td>\n",
       "      <td>0.56</td>\n",
       "      <td>429681830</td>\n",
       "      <td>49e8d843-adf3-428b-a2c3-fe8bc6a307c9</td>\n",
       "    </tr>\n",
       "  </tbody>\n",
       "</table>\n",
       "</div>"
      ],
      "text/plain": [
       "           event_time event_type  product_id   category_id category_code  \\\n",
       "0 2019-10-01 00:00:00       cart     5773203  1.487580e+18          None   \n",
       "1 2019-10-01 00:00:03       cart     5773353  1.487580e+18          None   \n",
       "2 2019-10-01 00:00:07       cart     5881589  2.151191e+18          None   \n",
       "3 2019-10-01 00:00:07       cart     5723490  1.487580e+18          None   \n",
       "4 2019-10-01 00:00:15       cart     5881449  1.487580e+18          None   \n",
       "\n",
       "    brand  price    user_id                          user_session  \n",
       "0  runail   2.62  463240011  26dd6e6e-4dac-4778-8d2c-92e149dab885  \n",
       "1  runail   2.62  463240011  26dd6e6e-4dac-4778-8d2c-92e149dab885  \n",
       "2  lovely  13.48  429681830  49e8d843-adf3-428b-a2c3-fe8bc6a307c9  \n",
       "3  runail   2.62  463240011  26dd6e6e-4dac-4778-8d2c-92e149dab885  \n",
       "4  lovely   0.56  429681830  49e8d843-adf3-428b-a2c3-fe8bc6a307c9  "
      ]
     },
     "execution_count": 4,
     "metadata": {},
     "output_type": "execute_result"
    }
   ],
   "source": [
    "# read in the dataset and label columns\n",
    "query = \"SELECT * FROM all_events;\"\n",
    "df = pd_sql.read_sql(query, connection)\n",
    "print(df.shape)\n",
    "df.head()"
   ]
  },
  {
   "cell_type": "markdown",
   "metadata": {},
   "source": [
    "The dataset contains 8.7M rows and 9 columns. The data represents individual actions taken by each user throughout each session."
   ]
  },
  {
   "cell_type": "markdown",
   "metadata": {},
   "source": [
    "The target I am aiming to predict from this dataset is if a customer will make a purchase. The first step is to create a column that turns the \"purchase\" event into a binary classifier. From there, I can begin engineering other features to predict the event."
   ]
  },
  {
   "cell_type": "code",
   "execution_count": 5,
   "metadata": {},
   "outputs": [],
   "source": [
    "# create target column with binary classifier\n",
    "df['purchased'] = np.where(df['event_type'] == 'purchase', 1, 0)"
   ]
  },
  {
   "cell_type": "markdown",
   "metadata": {
    "toc-hr-collapsed": false
   },
   "source": [
    "## Approach 1: by `user_id`"
   ]
  },
  {
   "cell_type": "markdown",
   "metadata": {},
   "source": [
    "This approach will use features that are \"user-centric,\" meaning each line item will hold values for unique users. Each feature will contain roll-ups of that user's activity throughout the time period in which the data was captured."
   ]
  },
  {
   "cell_type": "code",
   "execution_count": 6,
   "metadata": {},
   "outputs": [],
   "source": [
    "# group the original dataframe by user\n",
    "by_user = df.groupby('user_id', as_index=False).purchased.sum()"
   ]
  },
  {
   "cell_type": "code",
   "execution_count": 7,
   "metadata": {},
   "outputs": [
    {
     "name": "stdout",
     "output_type": "stream",
     "text": [
      "<class 'pandas.core.frame.DataFrame'>\n",
      "Int64Index: 713100 entries, 0 to 713099\n",
      "Data columns (total 3 columns):\n",
      "user_id          713100 non-null int64\n",
      "purchased        713100 non-null int64\n",
      "num_purchases    713100 non-null int64\n",
      "dtypes: int64(3)\n",
      "memory usage: 21.8 MB\n"
     ]
    }
   ],
   "source": [
    "# create a column to hold the total number of purchases per user\n",
    "# change the 'purchased' column to a binary classification\n",
    "by_user['num_purchases'] = by_user['purchased']\n",
    "by_user['purchased'] = (by_user['purchased'] >= 1).astype(int)\n",
    "by_user.info()"
   ]
  },
  {
   "cell_type": "code",
   "execution_count": 8,
   "metadata": {},
   "outputs": [
    {
     "data": {
      "image/png": "[encoded data removed]",
      "text/plain": [
       "<Figure size 432x288 with 1 Axes>"
      ]
     },
     "metadata": {},
     "output_type": "display_data"
    }
   ],
   "source": [
    "# visualize feature classes to assess if there is imbalance\n",
    "by_user.purchased.value_counts().plot(kind='bar')\n",
    "plt.title('Target Classes');"
   ]
  },
  {
   "cell_type": "markdown",
   "metadata": {},
   "source": [
    "Whoa. The result set is highly skewed with more users that have not purchased, which is in line with what I'd expect for e-commerce data within this window. I will have to take this into account when testing classification methods by stratifying the prediction and over/undersampling."
   ]
  },
  {
   "cell_type": "markdown",
   "metadata": {
    "toc-hr-collapsed": false
   },
   "source": [
    "### Feature Engineering"
   ]
  },
  {
   "cell_type": "markdown",
   "metadata": {},
   "source": [
    "#### Recency, Frequency, Monetary Value\n",
    "Recency, frequency, and monetary value, commonly known as RFM, is a widely used metric in marketing analytics. This metric aims to group individual users into user segments, or cohorts, based on three factors:\n",
    "1. **Recency** - The last time the user made a purchase in the store. Since I am aiming to gauge future purchases based on behavior, I am adjusting this metric to reflect the last time the user made an action on the site. This value is represented as the number of days between the current date and the date of the last user action.\n",
    "2. **Frequency** - How many times the user made a purchase in a given window. Again, I will adjust this metric to include the number of actions taken rather than the number of purchases to better predict future purchases based on all behavior. \n",
    "3. **Monetary value** - The total dollar amount of all purchases made by the user. Similar to the other components, the typical RFM calculation will not work here, as we do not know whether the customer has made a purchase or not. To account for this, this value will measure the total value of products the customer has interacted with."
   ]
  },
  {
   "cell_type": "code",
   "execution_count": 9,
   "metadata": {},
   "outputs": [],
   "source": [
    "# run sql query that calculates RFM scores and create dataframe\n",
    "query = \"\"\"\n",
    "WITH rfm_raw AS (\n",
    "    SELECT user_id,\n",
    "           EXTRACT(DAY FROM CURRENT_DATE - MAX(event_time)) AS recency,\n",
    "           COUNT(DISTINCT user_session) AS frequency,\n",
    "           SUM(CASE WHEN event_type != 'purchase' THEN price END) AS monetary_value\n",
    "    FROM all_events\n",
    "    GROUP BY 1\n",
    "),\n",
    "rfm_scores AS (\n",
    "    SELECT rfm_raw.user_id,\n",
    "           NTILE(5) OVER(ORDER BY recency DESC) AS r,\n",
    "           NTILE(5) OVER(ORDER BY frequency DESC) AS f,\n",
    "           NTILE(5) OVER(ORDER BY monetary_value DESC) AS m\n",
    "    FROM all_events\n",
    "    JOIN rfm_raw\n",
    "    ON all_events.user_id = rfm_raw.user_id\n",
    ")\n",
    "\n",
    "SELECT DISTINCT user_id,\n",
    "       CONCAT(r, f, m) AS rfm_score\n",
    "FROM rfm_scores;\n",
    "\"\"\"\n",
    "rfm = pd_sql.read_sql(query, connection)"
   ]
  },
  {
   "cell_type": "code",
   "execution_count": 10,
   "metadata": {},
   "outputs": [
    {
     "data": {
      "text/html": [
       "<div>\n",
       "<style scoped>\n",
       "    .dataframe tbody tr th:only-of-type {\n",
       "        vertical-align: middle;\n",
       "    }\n",
       "\n",
       "    .dataframe tbody tr th {\n",
       "        vertical-align: top;\n",
       "    }\n",
       "\n",
       "    .dataframe thead th {\n",
       "        text-align: right;\n",
       "    }\n",
       "</style>\n",
       "<table border=\"1\" class=\"dataframe\">\n",
       "  <thead>\n",
       "    <tr style=\"text-align: right;\">\n",
       "      <th></th>\n",
       "      <th>user_id</th>\n",
       "      <th>rfm_score</th>\n",
       "    </tr>\n",
       "  </thead>\n",
       "  <tbody>\n",
       "    <tr>\n",
       "      <th>0</th>\n",
       "      <td>1120748</td>\n",
       "      <td>255</td>\n",
       "    </tr>\n",
       "    <tr>\n",
       "      <th>1</th>\n",
       "      <td>1458813</td>\n",
       "      <td>334</td>\n",
       "    </tr>\n",
       "    <tr>\n",
       "      <th>2</th>\n",
       "      <td>4103071</td>\n",
       "      <td>155</td>\n",
       "    </tr>\n",
       "    <tr>\n",
       "      <th>3</th>\n",
       "      <td>5493470</td>\n",
       "      <td>255</td>\n",
       "    </tr>\n",
       "    <tr>\n",
       "      <th>4</th>\n",
       "      <td>6217356</td>\n",
       "      <td>355</td>\n",
       "    </tr>\n",
       "  </tbody>\n",
       "</table>\n",
       "</div>"
      ],
      "text/plain": [
       "   user_id rfm_score\n",
       "0  1120748       255\n",
       "1  1458813       334\n",
       "2  4103071       155\n",
       "3  5493470       255\n",
       "4  6217356       355"
      ]
     },
     "execution_count": 10,
     "metadata": {},
     "output_type": "execute_result"
    }
   ],
   "source": [
    "rfm.head()"
   ]
  },
  {
   "cell_type": "markdown",
   "metadata": {},
   "source": [
    "#### Actions per user\n",
    "Calculate the number of each unique action per user; purchases, product views, adds to cart, and removals from cart. These will all be separate features. Total number of purchases was already created when grouping by user, so this step will focus on creating features to quantify the other types of action."
   ]
  },
  {
   "cell_type": "code",
   "execution_count": 11,
   "metadata": {},
   "outputs": [],
   "source": [
    "query = \"\"\"\n",
    "SELECT user_id,\n",
    "       SUM(CASE WHEN event_type = 'purchase' THEN 1 ELSE 0 END) AS num_purchases,\n",
    "       SUM(CASE WHEN event_type = 'view' THEN 1 ELSE 0 END) AS num_views,\n",
    "       SUM(CASE WHEN event_type = 'cart' THEN 1 ELSE 0 END) AS adds_to_cart,\n",
    "       SUM(CASE WHEN event_type = 'remove_from_cart' THEN 1 ELSE 0 END) AS removals_from_cart\n",
    "FROM all_events\n",
    "GROUP BY 1;\n",
    "\"\"\"\n",
    "actions = pd_sql.read_sql(query, connection)"
   ]
  },
  {
   "cell_type": "code",
   "execution_count": 12,
   "metadata": {},
   "outputs": [
    {
     "data": {
      "text/html": [
       "<div>\n",
       "<style scoped>\n",
       "    .dataframe tbody tr th:only-of-type {\n",
       "        vertical-align: middle;\n",
       "    }\n",
       "\n",
       "    .dataframe tbody tr th {\n",
       "        vertical-align: top;\n",
       "    }\n",
       "\n",
       "    .dataframe thead th {\n",
       "        text-align: right;\n",
       "    }\n",
       "</style>\n",
       "<table border=\"1\" class=\"dataframe\">\n",
       "  <thead>\n",
       "    <tr style=\"text-align: right;\">\n",
       "      <th></th>\n",
       "      <th>user_id</th>\n",
       "      <th>num_purchases</th>\n",
       "      <th>num_views</th>\n",
       "      <th>adds_to_cart</th>\n",
       "      <th>removals_from_cart</th>\n",
       "    </tr>\n",
       "  </thead>\n",
       "  <tbody>\n",
       "    <tr>\n",
       "      <th>0</th>\n",
       "      <td>1120748</td>\n",
       "      <td>0</td>\n",
       "      <td>1</td>\n",
       "      <td>0</td>\n",
       "      <td>0</td>\n",
       "    </tr>\n",
       "    <tr>\n",
       "      <th>1</th>\n",
       "      <td>1458813</td>\n",
       "      <td>0</td>\n",
       "      <td>31</td>\n",
       "      <td>0</td>\n",
       "      <td>0</td>\n",
       "    </tr>\n",
       "    <tr>\n",
       "      <th>2</th>\n",
       "      <td>4103071</td>\n",
       "      <td>0</td>\n",
       "      <td>7</td>\n",
       "      <td>1</td>\n",
       "      <td>0</td>\n",
       "    </tr>\n",
       "    <tr>\n",
       "      <th>3</th>\n",
       "      <td>5493470</td>\n",
       "      <td>0</td>\n",
       "      <td>5</td>\n",
       "      <td>5</td>\n",
       "      <td>0</td>\n",
       "    </tr>\n",
       "    <tr>\n",
       "      <th>4</th>\n",
       "      <td>6217356</td>\n",
       "      <td>0</td>\n",
       "      <td>0</td>\n",
       "      <td>1</td>\n",
       "      <td>0</td>\n",
       "    </tr>\n",
       "  </tbody>\n",
       "</table>\n",
       "</div>"
      ],
      "text/plain": [
       "   user_id  num_purchases  num_views  adds_to_cart  removals_from_cart\n",
       "0  1120748              0          1             0                   0\n",
       "1  1458813              0         31             0                   0\n",
       "2  4103071              0          7             1                   0\n",
       "3  5493470              0          5             5                   0\n",
       "4  6217356              0          0             1                   0"
      ]
     },
     "execution_count": 12,
     "metadata": {},
     "output_type": "execute_result"
    }
   ],
   "source": [
    "actions.head()"
   ]
  },
  {
   "cell_type": "markdown",
   "metadata": {},
   "source": [
    "### Merge dataframes\n",
    "Merge dataframes created with new features to the original, grouped dataframe. Export the resulting dataframe as the dataset to run classification models."
   ]
  },
  {
   "cell_type": "code",
   "execution_count": 13,
   "metadata": {},
   "outputs": [],
   "source": [
    "# merge rfm scores onto grouped dataframe\n",
    "users = by_user.merge(rfm, on='user_id')"
   ]
  },
  {
   "cell_type": "code",
   "execution_count": 14,
   "metadata": {},
   "outputs": [],
   "source": [
    "# drop extra 'num_purchases' column from actions dataframe\n",
    "actions = actions.drop('num_purchases', axis=1)"
   ]
  },
  {
   "cell_type": "code",
   "execution_count": 15,
   "metadata": {},
   "outputs": [],
   "source": [
    "# merge user actions data\n",
    "users = users.merge(actions, on='user_id')"
   ]
  },
  {
   "cell_type": "code",
   "execution_count": 16,
   "metadata": {},
   "outputs": [
    {
     "data": {
      "text/html": [
       "<div>\n",
       "<style scoped>\n",
       "    .dataframe tbody tr th:only-of-type {\n",
       "        vertical-align: middle;\n",
       "    }\n",
       "\n",
       "    .dataframe tbody tr th {\n",
       "        vertical-align: top;\n",
       "    }\n",
       "\n",
       "    .dataframe thead th {\n",
       "        text-align: right;\n",
       "    }\n",
       "</style>\n",
       "<table border=\"1\" class=\"dataframe\">\n",
       "  <thead>\n",
       "    <tr style=\"text-align: right;\">\n",
       "      <th></th>\n",
       "      <th>user_id</th>\n",
       "      <th>purchased</th>\n",
       "      <th>num_purchases</th>\n",
       "      <th>rfm_score</th>\n",
       "      <th>num_views</th>\n",
       "      <th>adds_to_cart</th>\n",
       "      <th>removals_from_cart</th>\n",
       "    </tr>\n",
       "  </thead>\n",
       "  <tbody>\n",
       "    <tr>\n",
       "      <th>0</th>\n",
       "      <td>1120748</td>\n",
       "      <td>0</td>\n",
       "      <td>0</td>\n",
       "      <td>255</td>\n",
       "      <td>1</td>\n",
       "      <td>0</td>\n",
       "      <td>0</td>\n",
       "    </tr>\n",
       "    <tr>\n",
       "      <th>1</th>\n",
       "      <td>1458813</td>\n",
       "      <td>0</td>\n",
       "      <td>0</td>\n",
       "      <td>334</td>\n",
       "      <td>31</td>\n",
       "      <td>0</td>\n",
       "      <td>0</td>\n",
       "    </tr>\n",
       "    <tr>\n",
       "      <th>2</th>\n",
       "      <td>4103071</td>\n",
       "      <td>0</td>\n",
       "      <td>0</td>\n",
       "      <td>155</td>\n",
       "      <td>7</td>\n",
       "      <td>1</td>\n",
       "      <td>0</td>\n",
       "    </tr>\n",
       "    <tr>\n",
       "      <th>3</th>\n",
       "      <td>5493470</td>\n",
       "      <td>0</td>\n",
       "      <td>0</td>\n",
       "      <td>255</td>\n",
       "      <td>5</td>\n",
       "      <td>5</td>\n",
       "      <td>0</td>\n",
       "    </tr>\n",
       "    <tr>\n",
       "      <th>4</th>\n",
       "      <td>6217356</td>\n",
       "      <td>0</td>\n",
       "      <td>0</td>\n",
       "      <td>355</td>\n",
       "      <td>0</td>\n",
       "      <td>1</td>\n",
       "      <td>0</td>\n",
       "    </tr>\n",
       "  </tbody>\n",
       "</table>\n",
       "</div>"
      ],
      "text/plain": [
       "   user_id  purchased  num_purchases rfm_score  num_views  adds_to_cart  \\\n",
       "0  1120748          0              0       255          1             0   \n",
       "1  1458813          0              0       334         31             0   \n",
       "2  4103071          0              0       155          7             1   \n",
       "3  5493470          0              0       255          5             5   \n",
       "4  6217356          0              0       355          0             1   \n",
       "\n",
       "   removals_from_cart  \n",
       "0                   0  \n",
       "1                   0  \n",
       "2                   0  \n",
       "3                   0  \n",
       "4                   0  "
      ]
     },
     "execution_count": 16,
     "metadata": {},
     "output_type": "execute_result"
    }
   ],
   "source": [
    "users.head()"
   ]
  },
  {
   "cell_type": "markdown",
   "metadata": {},
   "source": [
    "<font color='red'>Drop other num_purchases column for model, but may want to include this again at some point...?</font>"
   ]
  },
  {
   "cell_type": "code",
   "execution_count": 18,
   "metadata": {},
   "outputs": [],
   "source": [
    "users = users.drop('num_purchases', axis=1)"
   ]
  },
  {
   "cell_type": "code",
   "execution_count": 20,
   "metadata": {},
   "outputs": [],
   "source": [
    "# export dataframe to pickle file to easily import in modeling notebook\n",
    "with open('users.pickle', 'wb') as outfile:\n",
    "    pickle.dump(users, outfile)"
   ]
  }
 ],
 "metadata": {
  "kernelspec": {
   "display_name": "Python 3",
   "language": "python",
   "name": "python3"
  },
  "language_info": {
   "codemirror_mode": {
    "name": "ipython",
    "version": 3
   },
   "file_extension": ".py",
   "mimetype": "text/x-python",
   "name": "python",
   "nbconvert_exporter": "python",
   "pygments_lexer": "ipython3",
   "version": "3.7.4"
  },
  "pycharm": {
   "stem_cell": {
    "cell_type": "raw",
    "metadata": {
     "collapsed": false
    },
    "source": []
   }
  },
  "toc-autonumbering": false,
  "toc-showcode": false,
  "toc-showmarkdowntxt": false,
  "toc-showtags": false
 },
 "nbformat": 4,
 "nbformat_minor": 4
}
