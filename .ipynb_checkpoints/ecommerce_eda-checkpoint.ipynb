{
 "cells": [
  {
   "cell_type": "markdown",
   "metadata": {},
   "source": [
    "## Exploratory Data Analysis"
   ]
  },
  {
   "cell_type": "code",
   "execution_count": 1,
   "metadata": {
    "pycharm": {
     "is_executing": false
    }
   },
   "outputs": [],
   "source": [
    "# Import necessary packages\n",
    "import numpy as np\n",
    "import pandas as pd\n",
    "import matplotlib.pyplot as plt\n",
    "import seaborn as sns\n",
    "%matplotlib inline"
   ]
  },
  {
   "cell_type": "code",
   "execution_count": 2,
   "metadata": {
    "pycharm": {
     "is_executing": false
    }
   },
   "outputs": [],
   "source": [
    "df1 = pd.read_csv('data/2019-Oct.csv')\n",
    "df2 = pd.read_csv('data/2019-Nov.csv')"
   ]
  },
  {
   "cell_type": "code",
   "execution_count": 3,
   "metadata": {
    "pycharm": {
     "is_executing": false
    }
   },
   "outputs": [],
   "source": [
    "df = df1.append(df2, ignore_index=True)"
   ]
  },
  {
   "cell_type": "code",
   "execution_count": 4,
   "metadata": {
    "pycharm": {
     "is_executing": false
    }
   },
   "outputs": [
    {
     "data": {
      "text/html": [
       "<div>\n",
       "<style scoped>\n",
       "    .dataframe tbody tr th:only-of-type {\n",
       "        vertical-align: middle;\n",
       "    }\n",
       "\n",
       "    .dataframe tbody tr th {\n",
       "        vertical-align: top;\n",
       "    }\n",
       "\n",
       "    .dataframe thead th {\n",
       "        text-align: right;\n",
       "    }\n",
       "</style>\n",
       "<table border=\"1\" class=\"dataframe\">\n",
       "  <thead>\n",
       "    <tr style=\"text-align: right;\">\n",
       "      <th></th>\n",
       "      <th>event_time</th>\n",
       "      <th>event_type</th>\n",
       "      <th>product_id</th>\n",
       "      <th>category_id</th>\n",
       "      <th>category_code</th>\n",
       "      <th>brand</th>\n",
       "      <th>price</th>\n",
       "      <th>user_id</th>\n",
       "      <th>user_session</th>\n",
       "    </tr>\n",
       "  </thead>\n",
       "  <tbody>\n",
       "    <tr>\n",
       "      <th>0</th>\n",
       "      <td>2019-10-01 00:00:00 UTC</td>\n",
       "      <td>cart</td>\n",
       "      <td>5773203</td>\n",
       "      <td>1487580005134238553</td>\n",
       "      <td>NaN</td>\n",
       "      <td>runail</td>\n",
       "      <td>2.62</td>\n",
       "      <td>463240011</td>\n",
       "      <td>26dd6e6e-4dac-4778-8d2c-92e149dab885</td>\n",
       "    </tr>\n",
       "    <tr>\n",
       "      <th>1</th>\n",
       "      <td>2019-10-01 00:00:03 UTC</td>\n",
       "      <td>cart</td>\n",
       "      <td>5773353</td>\n",
       "      <td>1487580005134238553</td>\n",
       "      <td>NaN</td>\n",
       "      <td>runail</td>\n",
       "      <td>2.62</td>\n",
       "      <td>463240011</td>\n",
       "      <td>26dd6e6e-4dac-4778-8d2c-92e149dab885</td>\n",
       "    </tr>\n",
       "    <tr>\n",
       "      <th>2</th>\n",
       "      <td>2019-10-01 00:00:07 UTC</td>\n",
       "      <td>cart</td>\n",
       "      <td>5881589</td>\n",
       "      <td>2151191071051219817</td>\n",
       "      <td>NaN</td>\n",
       "      <td>lovely</td>\n",
       "      <td>13.48</td>\n",
       "      <td>429681830</td>\n",
       "      <td>49e8d843-adf3-428b-a2c3-fe8bc6a307c9</td>\n",
       "    </tr>\n",
       "    <tr>\n",
       "      <th>3</th>\n",
       "      <td>2019-10-01 00:00:07 UTC</td>\n",
       "      <td>cart</td>\n",
       "      <td>5723490</td>\n",
       "      <td>1487580005134238553</td>\n",
       "      <td>NaN</td>\n",
       "      <td>runail</td>\n",
       "      <td>2.62</td>\n",
       "      <td>463240011</td>\n",
       "      <td>26dd6e6e-4dac-4778-8d2c-92e149dab885</td>\n",
       "    </tr>\n",
       "    <tr>\n",
       "      <th>4</th>\n",
       "      <td>2019-10-01 00:00:15 UTC</td>\n",
       "      <td>cart</td>\n",
       "      <td>5881449</td>\n",
       "      <td>1487580013522845895</td>\n",
       "      <td>NaN</td>\n",
       "      <td>lovely</td>\n",
       "      <td>0.56</td>\n",
       "      <td>429681830</td>\n",
       "      <td>49e8d843-adf3-428b-a2c3-fe8bc6a307c9</td>\n",
       "    </tr>\n",
       "  </tbody>\n",
       "</table>\n",
       "</div>"
      ],
      "text/plain": [
       "                event_time event_type  product_id          category_id  \\\n",
       "0  2019-10-01 00:00:00 UTC       cart     5773203  1487580005134238553   \n",
       "1  2019-10-01 00:00:03 UTC       cart     5773353  1487580005134238553   \n",
       "2  2019-10-01 00:00:07 UTC       cart     5881589  2151191071051219817   \n",
       "3  2019-10-01 00:00:07 UTC       cart     5723490  1487580005134238553   \n",
       "4  2019-10-01 00:00:15 UTC       cart     5881449  1487580013522845895   \n",
       "\n",
       "  category_code   brand  price    user_id  \\\n",
       "0           NaN  runail   2.62  463240011   \n",
       "1           NaN  runail   2.62  463240011   \n",
       "2           NaN  lovely  13.48  429681830   \n",
       "3           NaN  runail   2.62  463240011   \n",
       "4           NaN  lovely   0.56  429681830   \n",
       "\n",
       "                           user_session  \n",
       "0  26dd6e6e-4dac-4778-8d2c-92e149dab885  \n",
       "1  26dd6e6e-4dac-4778-8d2c-92e149dab885  \n",
       "2  49e8d843-adf3-428b-a2c3-fe8bc6a307c9  \n",
       "3  26dd6e6e-4dac-4778-8d2c-92e149dab885  \n",
       "4  49e8d843-adf3-428b-a2c3-fe8bc6a307c9  "
      ]
     },
     "execution_count": 4,
     "metadata": {},
     "output_type": "execute_result"
    }
   ],
   "source": [
    "df.head()"
   ]
  },
  {
   "cell_type": "code",
   "execution_count": 5,
   "metadata": {
    "collapsed": false,
    "jupyter": {
     "outputs_hidden": false
    },
    "pycharm": {
     "is_executing": false,
     "name": "#%%\n"
    }
   },
   "outputs": [
    {
     "data": {
      "text/plain": [
       "(8738120, 9)"
      ]
     },
     "execution_count": 5,
     "metadata": {},
     "output_type": "execute_result"
    }
   ],
   "source": [
    "df.shape"
   ]
  },
  {
   "cell_type": "code",
   "execution_count": 6,
   "metadata": {
    "pycharm": {
     "is_executing": false
    }
   },
   "outputs": [
    {
     "data": {
      "text/plain": [
       "713100"
      ]
     },
     "execution_count": 6,
     "metadata": {},
     "output_type": "execute_result"
    }
   ],
   "source": [
    "len(df.user_id.unique())"
   ]
  },
  {
   "cell_type": "code",
   "execution_count": 7,
   "metadata": {
    "pycharm": {
     "is_executing": false
    }
   },
   "outputs": [
    {
     "data": {
      "text/plain": [
       "array(['cart', 'view', 'remove_from_cart', 'purchase'], dtype=object)"
      ]
     },
     "execution_count": 7,
     "metadata": {},
     "output_type": "execute_result"
    }
   ],
   "source": [
    "df.event_type.unique()"
   ]
  },
  {
   "cell_type": "code",
   "execution_count": 8,
   "metadata": {
    "pycharm": {
     "is_executing": false
    }
   },
   "outputs": [
    {
     "data": {
      "text/plain": [
       "45960"
      ]
     },
     "execution_count": 8,
     "metadata": {},
     "output_type": "execute_result"
    }
   ],
   "source": [
    "len(df.product_id.unique())"
   ]
  },
  {
   "cell_type": "code",
   "execution_count": 9,
   "metadata": {
    "pycharm": {
     "is_executing": false
    }
   },
   "outputs": [
    {
     "data": {
      "text/plain": [
       "appliances.environment.vacuum             59761\n",
       "stationery.cartrige                       26722\n",
       "apparel.glove                             18232\n",
       "furniture.living_room.cabinet             13439\n",
       "accessories.bag                           11681\n",
       "furniture.bathroom.bath                    9857\n",
       "appliances.personal.hair_cutter            1643\n",
       "accessories.cosmetic_bag                   1248\n",
       "appliances.environment.air_conditioner      332\n",
       "furniture.living_room.chair                 308\n",
       "sport.diving                                  2\n",
       "Name: category_code, dtype: int64"
      ]
     },
     "execution_count": 9,
     "metadata": {},
     "output_type": "execute_result"
    }
   ],
   "source": [
    "df.category_code.value_counts()"
   ]
  },
  {
   "cell_type": "code",
   "execution_count": 10,
   "metadata": {
    "pycharm": {
     "is_executing": false
    }
   },
   "outputs": [
    {
     "data": {
      "text/plain": [
       "8594895"
      ]
     },
     "execution_count": 10,
     "metadata": {},
     "output_type": "execute_result"
    }
   ],
   "source": [
    "sum(df.category_code.isna())"
   ]
  },
  {
   "cell_type": "code",
   "execution_count": 11,
   "metadata": {
    "pycharm": {
     "is_executing": false
    }
   },
   "outputs": [
    {
     "data": {
      "text/plain": [
       "event_time        object\n",
       "event_type        object\n",
       "product_id         int64\n",
       "category_id        int64\n",
       "category_code     object\n",
       "brand             object\n",
       "price            float64\n",
       "user_id            int64\n",
       "user_session      object\n",
       "dtype: object"
      ]
     },
     "execution_count": 11,
     "metadata": {},
     "output_type": "execute_result"
    }
   ],
   "source": [
    "df.dtypes"
   ]
  },
  {
   "cell_type": "markdown",
   "metadata": {
    "pycharm": {
     "is_executing": false,
     "name": "#%% md\n"
    }
   },
   "source": [
    "90% of the events do not have a product category. Observing the records that\n",
    "do have categories seem to be miscellaneous products outside of cosmetics (i.e.\n",
    "furniture, sport, etc.). This may be due to tracking traffic to and from the site\n",
    "or on different portions of the site outside of cosmetics. I will decide whether \n",
    "or not these need to be removed as I explore the data further."
   ]
  },
  {
   "cell_type": "code",
   "execution_count": null,
   "metadata": {
    "collapsed": false,
    "jupyter": {
     "outputs_hidden": false
    },
    "pycharm": {
     "name": "#%%\n"
    }
   },
   "outputs": [],
   "source": [
    "\n"
   ]
  }
 ],
 "metadata": {
  "kernelspec": {
   "display_name": "Python 3.7.4 64-bit ('metis': conda)",
   "language": "python",
   "name": "python37464bitmetisconda6ec158bba95c452caae9ce18793916df"
  },
  "language_info": {
   "codemirror_mode": {
    "name": "ipython",
    "version": 3
   },
   "file_extension": ".py",
   "mimetype": "text/x-python",
   "name": "python",
   "nbconvert_exporter": "python",
   "pygments_lexer": "ipython3",
   "version": "3.7.4"
  },
  "pycharm": {
   "stem_cell": {
    "cell_type": "raw",
    "metadata": {
     "collapsed": false
    },
    "source": []
   }
  }
 },
 "nbformat": 4,
 "nbformat_minor": 4
}
